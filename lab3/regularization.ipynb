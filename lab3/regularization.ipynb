{
  "cells": [
    {
      "cell_type": "markdown",
      "id": "43defc74",
      "metadata": {
        "id": "43defc74"
      },
      "source": [
        "\\begin{align}J(w) = \\frac 1n \\sum_{i=1}^{n} \\left( y_i - wx_i \\right)^2 \\rightarrow \\min\\end{align}\n",
        "\n",
        "Эквивалентная задача\n",
        "\\begin{align}L(w) = \\sum_{i=1}^{n} \\left( y_i - wx_i \\right)^2\\end{align}\n",
        "\n",
        "L2-регуляризация\n",
        "\\begin{align}L(w) = \\sum_{i=1}^{n} \\left( y_i - wx_i \\right)^2 + \\lambda\\sum_{j=0}^{d}w_j^2\\end{align}\n",
        "\\begin{align}L(w) = {\\left\\lVert y - Xw \\right\\rVert}^2 + \\lambda{\\left\\lVert w \\right\\rVert}_2^2\\end{align}\n",
        "\n",
        "Градиент:\n",
        "\n",
        "\\begin{align}\\nabla L_w = -2X^T(y-Xw) + 2\\lambda w\\end{align}\n",
        "\n",
        "Приравниваем градиент нулю:\n",
        "\\begin{align}\n",
        "   0 &= -2X^T(y-Xw) + 2\\lambda w \\\\\n",
        "   &= X^T(y-Xw) - \\lambda w    \\\\\n",
        "   &= X^Ty - X^TXw - \\lambda w \\\\\n",
        "   &= X^Ty - (X^TX + \\lambda I_d) w\n",
        "   \\end{align}\n",
        "\n",
        "Выражаем $w$:\n",
        "\n",
        "\\begin{align}\n",
        "   (X^TX + \\lambda I_d) w &= X^Ty    \\\\\n",
        "   w &= (X^TX + \\lambda I_d)^{-1}X^Ty\n",
        "   \\end{align}\n",
        "\n",
        "L1-регуляризация\n",
        "\\begin{align}L(w) = \\sum_{i=1}^{n} \\left( y^i - wx^i \\right)^2 + \\lambda\\sum_{j=0}^{d}\\left|w_j\\right|\\end{align}\n",
        "\n",
        "\\begin{align}L(w) = {\\left\\lVert y - Xw \\right\\rVert}^2 + \\lambda{\\left\\lVert w \\right\\rVert}_1\\end{align}\n",
        "\n",
        "Градиент:\n",
        "\n",
        "\\begin{align}\\nabla L_w = -2X^T(y-Xw) + \\lambda sign (w)\\end{align}"
      ]
    },
    {
      "cell_type": "code",
      "execution_count": null,
      "id": "e7c5bc44",
      "metadata": {
        "colab": {
          "base_uri": "https://localhost:8080/",
          "height": 253
        },
        "id": "e7c5bc44",
        "outputId": "6ab7405a-d654-43e8-92a6-e2038c73c5e0"
      },
      "outputs": [
        {
          "output_type": "execute_result",
          "data": {
            "text/plain": [
              "    Column1  Column2   Column3  Column4   Column5   Column6   Column7  \\\n",
              "0  0.000000     0.18  0.067815      0.0  0.314815  0.577505  0.641607   \n",
              "1  0.000236     0.00  0.242302      0.0  0.172840  0.547998  0.782698   \n",
              "2  0.000236     0.00  0.242302      0.0  0.172840  0.694386  0.599382   \n",
              "3  0.000293     0.00  0.063050      0.0  0.150206  0.658555  0.441813   \n",
              "4  0.000705     0.00  0.063050      0.0  0.150206  0.687105  0.528321   \n",
              "\n",
              "    Column8   Column9  Column10  ...  Column96  Column97  Column98  Column99  \\\n",
              "0  0.269203  0.000000  0.208015  ...  0.059749  0.208015  0.018655  0.082503   \n",
              "1  0.348962  0.043478  0.104962  ...  0.058064  0.104962  0.021462  0.306021   \n",
              "2  0.348962  0.043478  0.104962  ...  0.058064  0.103885  0.006661  0.306021   \n",
              "3  0.448545  0.086957  0.066794  ...  0.043345  0.066412  0.002230  0.421118   \n",
              "4  0.448545  0.086957  0.066794  ...  0.043345  0.066794  0.006635  0.421118   \n",
              "\n",
              "   Column100  Column101  Column102  Column103  Column104     Y  \n",
              "0   0.287234   0.025759   1.000000   0.089680   0.008042  24.0  \n",
              "1   0.553191   0.113111   1.000000   0.204470   0.041808  21.6  \n",
              "2   0.547514   0.035109   0.979580   0.062814   0.004028  34.7  \n",
              "3   0.645222   0.021667   0.988585   0.033197   0.001115  33.4  \n",
              "4   0.648936   0.064464   1.000000   0.099338   0.009868  36.2  \n",
              "\n",
              "[5 rows x 105 columns]"
            ],
            "text/html": [
              "\n",
              "  <div id=\"df-2c085c35-b112-4c72-862c-63bd2bc60002\" class=\"colab-df-container\">\n",
              "    <div>\n",
              "<style scoped>\n",
              "    .dataframe tbody tr th:only-of-type {\n",
              "        vertical-align: middle;\n",
              "    }\n",
              "\n",
              "    .dataframe tbody tr th {\n",
              "        vertical-align: top;\n",
              "    }\n",
              "\n",
              "    .dataframe thead th {\n",
              "        text-align: right;\n",
              "    }\n",
              "</style>\n",
              "<table border=\"1\" class=\"dataframe\">\n",
              "  <thead>\n",
              "    <tr style=\"text-align: right;\">\n",
              "      <th></th>\n",
              "      <th>Column1</th>\n",
              "      <th>Column2</th>\n",
              "      <th>Column3</th>\n",
              "      <th>Column4</th>\n",
              "      <th>Column5</th>\n",
              "      <th>Column6</th>\n",
              "      <th>Column7</th>\n",
              "      <th>Column8</th>\n",
              "      <th>Column9</th>\n",
              "      <th>Column10</th>\n",
              "      <th>...</th>\n",
              "      <th>Column96</th>\n",
              "      <th>Column97</th>\n",
              "      <th>Column98</th>\n",
              "      <th>Column99</th>\n",
              "      <th>Column100</th>\n",
              "      <th>Column101</th>\n",
              "      <th>Column102</th>\n",
              "      <th>Column103</th>\n",
              "      <th>Column104</th>\n",
              "      <th>Y</th>\n",
              "    </tr>\n",
              "  </thead>\n",
              "  <tbody>\n",
              "    <tr>\n",
              "      <th>0</th>\n",
              "      <td>0.000000</td>\n",
              "      <td>0.18</td>\n",
              "      <td>0.067815</td>\n",
              "      <td>0.0</td>\n",
              "      <td>0.314815</td>\n",
              "      <td>0.577505</td>\n",
              "      <td>0.641607</td>\n",
              "      <td>0.269203</td>\n",
              "      <td>0.000000</td>\n",
              "      <td>0.208015</td>\n",
              "      <td>...</td>\n",
              "      <td>0.059749</td>\n",
              "      <td>0.208015</td>\n",
              "      <td>0.018655</td>\n",
              "      <td>0.082503</td>\n",
              "      <td>0.287234</td>\n",
              "      <td>0.025759</td>\n",
              "      <td>1.000000</td>\n",
              "      <td>0.089680</td>\n",
              "      <td>0.008042</td>\n",
              "      <td>24.0</td>\n",
              "    </tr>\n",
              "    <tr>\n",
              "      <th>1</th>\n",
              "      <td>0.000236</td>\n",
              "      <td>0.00</td>\n",
              "      <td>0.242302</td>\n",
              "      <td>0.0</td>\n",
              "      <td>0.172840</td>\n",
              "      <td>0.547998</td>\n",
              "      <td>0.782698</td>\n",
              "      <td>0.348962</td>\n",
              "      <td>0.043478</td>\n",
              "      <td>0.104962</td>\n",
              "      <td>...</td>\n",
              "      <td>0.058064</td>\n",
              "      <td>0.104962</td>\n",
              "      <td>0.021462</td>\n",
              "      <td>0.306021</td>\n",
              "      <td>0.553191</td>\n",
              "      <td>0.113111</td>\n",
              "      <td>1.000000</td>\n",
              "      <td>0.204470</td>\n",
              "      <td>0.041808</td>\n",
              "      <td>21.6</td>\n",
              "    </tr>\n",
              "    <tr>\n",
              "      <th>2</th>\n",
              "      <td>0.000236</td>\n",
              "      <td>0.00</td>\n",
              "      <td>0.242302</td>\n",
              "      <td>0.0</td>\n",
              "      <td>0.172840</td>\n",
              "      <td>0.694386</td>\n",
              "      <td>0.599382</td>\n",
              "      <td>0.348962</td>\n",
              "      <td>0.043478</td>\n",
              "      <td>0.104962</td>\n",
              "      <td>...</td>\n",
              "      <td>0.058064</td>\n",
              "      <td>0.103885</td>\n",
              "      <td>0.006661</td>\n",
              "      <td>0.306021</td>\n",
              "      <td>0.547514</td>\n",
              "      <td>0.035109</td>\n",
              "      <td>0.979580</td>\n",
              "      <td>0.062814</td>\n",
              "      <td>0.004028</td>\n",
              "      <td>34.7</td>\n",
              "    </tr>\n",
              "    <tr>\n",
              "      <th>3</th>\n",
              "      <td>0.000293</td>\n",
              "      <td>0.00</td>\n",
              "      <td>0.063050</td>\n",
              "      <td>0.0</td>\n",
              "      <td>0.150206</td>\n",
              "      <td>0.658555</td>\n",
              "      <td>0.441813</td>\n",
              "      <td>0.448545</td>\n",
              "      <td>0.086957</td>\n",
              "      <td>0.066794</td>\n",
              "      <td>...</td>\n",
              "      <td>0.043345</td>\n",
              "      <td>0.066412</td>\n",
              "      <td>0.002230</td>\n",
              "      <td>0.421118</td>\n",
              "      <td>0.645222</td>\n",
              "      <td>0.021667</td>\n",
              "      <td>0.988585</td>\n",
              "      <td>0.033197</td>\n",
              "      <td>0.001115</td>\n",
              "      <td>33.4</td>\n",
              "    </tr>\n",
              "    <tr>\n",
              "      <th>4</th>\n",
              "      <td>0.000705</td>\n",
              "      <td>0.00</td>\n",
              "      <td>0.063050</td>\n",
              "      <td>0.0</td>\n",
              "      <td>0.150206</td>\n",
              "      <td>0.687105</td>\n",
              "      <td>0.528321</td>\n",
              "      <td>0.448545</td>\n",
              "      <td>0.086957</td>\n",
              "      <td>0.066794</td>\n",
              "      <td>...</td>\n",
              "      <td>0.043345</td>\n",
              "      <td>0.066794</td>\n",
              "      <td>0.006635</td>\n",
              "      <td>0.421118</td>\n",
              "      <td>0.648936</td>\n",
              "      <td>0.064464</td>\n",
              "      <td>1.000000</td>\n",
              "      <td>0.099338</td>\n",
              "      <td>0.009868</td>\n",
              "      <td>36.2</td>\n",
              "    </tr>\n",
              "  </tbody>\n",
              "</table>\n",
              "<p>5 rows × 105 columns</p>\n",
              "</div>\n",
              "    <div class=\"colab-df-buttons\">\n",
              "\n",
              "  <div class=\"colab-df-container\">\n",
              "    <button class=\"colab-df-convert\" onclick=\"convertToInteractive('df-2c085c35-b112-4c72-862c-63bd2bc60002')\"\n",
              "            title=\"Convert this dataframe to an interactive table.\"\n",
              "            style=\"display:none;\">\n",
              "\n",
              "  <svg xmlns=\"http://www.w3.org/2000/svg\" height=\"24px\" viewBox=\"0 -960 960 960\">\n",
              "    <path d=\"M120-120v-720h720v720H120Zm60-500h600v-160H180v160Zm220 220h160v-160H400v160Zm0 220h160v-160H400v160ZM180-400h160v-160H180v160Zm440 0h160v-160H620v160ZM180-180h160v-160H180v160Zm440 0h160v-160H620v160Z\"/>\n",
              "  </svg>\n",
              "    </button>\n",
              "\n",
              "  <style>\n",
              "    .colab-df-container {\n",
              "      display:flex;\n",
              "      gap: 12px;\n",
              "    }\n",
              "\n",
              "    .colab-df-convert {\n",
              "      background-color: #E8F0FE;\n",
              "      border: none;\n",
              "      border-radius: 50%;\n",
              "      cursor: pointer;\n",
              "      display: none;\n",
              "      fill: #1967D2;\n",
              "      height: 32px;\n",
              "      padding: 0 0 0 0;\n",
              "      width: 32px;\n",
              "    }\n",
              "\n",
              "    .colab-df-convert:hover {\n",
              "      background-color: #E2EBFA;\n",
              "      box-shadow: 0px 1px 2px rgba(60, 64, 67, 0.3), 0px 1px 3px 1px rgba(60, 64, 67, 0.15);\n",
              "      fill: #174EA6;\n",
              "    }\n",
              "\n",
              "    .colab-df-buttons div {\n",
              "      margin-bottom: 4px;\n",
              "    }\n",
              "\n",
              "    [theme=dark] .colab-df-convert {\n",
              "      background-color: #3B4455;\n",
              "      fill: #D2E3FC;\n",
              "    }\n",
              "\n",
              "    [theme=dark] .colab-df-convert:hover {\n",
              "      background-color: #434B5C;\n",
              "      box-shadow: 0px 1px 3px 1px rgba(0, 0, 0, 0.15);\n",
              "      filter: drop-shadow(0px 1px 2px rgba(0, 0, 0, 0.3));\n",
              "      fill: #FFFFFF;\n",
              "    }\n",
              "  </style>\n",
              "\n",
              "    <script>\n",
              "      const buttonEl =\n",
              "        document.querySelector('#df-2c085c35-b112-4c72-862c-63bd2bc60002 button.colab-df-convert');\n",
              "      buttonEl.style.display =\n",
              "        google.colab.kernel.accessAllowed ? 'block' : 'none';\n",
              "\n",
              "      async function convertToInteractive(key) {\n",
              "        const element = document.querySelector('#df-2c085c35-b112-4c72-862c-63bd2bc60002');\n",
              "        const dataTable =\n",
              "          await google.colab.kernel.invokeFunction('convertToInteractive',\n",
              "                                                    [key], {});\n",
              "        if (!dataTable) return;\n",
              "\n",
              "        const docLinkHtml = 'Like what you see? Visit the ' +\n",
              "          '<a target=\"_blank\" href=https://colab.research.google.com/notebooks/data_table.ipynb>data table notebook</a>'\n",
              "          + ' to learn more about interactive tables.';\n",
              "        element.innerHTML = '';\n",
              "        dataTable['output_type'] = 'display_data';\n",
              "        await google.colab.output.renderOutput(dataTable, element);\n",
              "        const docLink = document.createElement('div');\n",
              "        docLink.innerHTML = docLinkHtml;\n",
              "        element.appendChild(docLink);\n",
              "      }\n",
              "    </script>\n",
              "  </div>\n",
              "\n",
              "\n",
              "<div id=\"df-d9397815-6e8b-47e0-a863-f3b661c17297\">\n",
              "  <button class=\"colab-df-quickchart\" onclick=\"quickchart('df-d9397815-6e8b-47e0-a863-f3b661c17297')\"\n",
              "            title=\"Suggest charts.\"\n",
              "            style=\"display:none;\">\n",
              "\n",
              "<svg xmlns=\"http://www.w3.org/2000/svg\" height=\"24px\"viewBox=\"0 0 24 24\"\n",
              "     width=\"24px\">\n",
              "    <g>\n",
              "        <path d=\"M19 3H5c-1.1 0-2 .9-2 2v14c0 1.1.9 2 2 2h14c1.1 0 2-.9 2-2V5c0-1.1-.9-2-2-2zM9 17H7v-7h2v7zm4 0h-2V7h2v10zm4 0h-2v-4h2v4z\"/>\n",
              "    </g>\n",
              "</svg>\n",
              "  </button>\n",
              "\n",
              "<style>\n",
              "  .colab-df-quickchart {\n",
              "      --bg-color: #E8F0FE;\n",
              "      --fill-color: #1967D2;\n",
              "      --hover-bg-color: #E2EBFA;\n",
              "      --hover-fill-color: #174EA6;\n",
              "      --disabled-fill-color: #AAA;\n",
              "      --disabled-bg-color: #DDD;\n",
              "  }\n",
              "\n",
              "  [theme=dark] .colab-df-quickchart {\n",
              "      --bg-color: #3B4455;\n",
              "      --fill-color: #D2E3FC;\n",
              "      --hover-bg-color: #434B5C;\n",
              "      --hover-fill-color: #FFFFFF;\n",
              "      --disabled-bg-color: #3B4455;\n",
              "      --disabled-fill-color: #666;\n",
              "  }\n",
              "\n",
              "  .colab-df-quickchart {\n",
              "    background-color: var(--bg-color);\n",
              "    border: none;\n",
              "    border-radius: 50%;\n",
              "    cursor: pointer;\n",
              "    display: none;\n",
              "    fill: var(--fill-color);\n",
              "    height: 32px;\n",
              "    padding: 0;\n",
              "    width: 32px;\n",
              "  }\n",
              "\n",
              "  .colab-df-quickchart:hover {\n",
              "    background-color: var(--hover-bg-color);\n",
              "    box-shadow: 0 1px 2px rgba(60, 64, 67, 0.3), 0 1px 3px 1px rgba(60, 64, 67, 0.15);\n",
              "    fill: var(--button-hover-fill-color);\n",
              "  }\n",
              "\n",
              "  .colab-df-quickchart-complete:disabled,\n",
              "  .colab-df-quickchart-complete:disabled:hover {\n",
              "    background-color: var(--disabled-bg-color);\n",
              "    fill: var(--disabled-fill-color);\n",
              "    box-shadow: none;\n",
              "  }\n",
              "\n",
              "  .colab-df-spinner {\n",
              "    border: 2px solid var(--fill-color);\n",
              "    border-color: transparent;\n",
              "    border-bottom-color: var(--fill-color);\n",
              "    animation:\n",
              "      spin 1s steps(1) infinite;\n",
              "  }\n",
              "\n",
              "  @keyframes spin {\n",
              "    0% {\n",
              "      border-color: transparent;\n",
              "      border-bottom-color: var(--fill-color);\n",
              "      border-left-color: var(--fill-color);\n",
              "    }\n",
              "    20% {\n",
              "      border-color: transparent;\n",
              "      border-left-color: var(--fill-color);\n",
              "      border-top-color: var(--fill-color);\n",
              "    }\n",
              "    30% {\n",
              "      border-color: transparent;\n",
              "      border-left-color: var(--fill-color);\n",
              "      border-top-color: var(--fill-color);\n",
              "      border-right-color: var(--fill-color);\n",
              "    }\n",
              "    40% {\n",
              "      border-color: transparent;\n",
              "      border-right-color: var(--fill-color);\n",
              "      border-top-color: var(--fill-color);\n",
              "    }\n",
              "    60% {\n",
              "      border-color: transparent;\n",
              "      border-right-color: var(--fill-color);\n",
              "    }\n",
              "    80% {\n",
              "      border-color: transparent;\n",
              "      border-right-color: var(--fill-color);\n",
              "      border-bottom-color: var(--fill-color);\n",
              "    }\n",
              "    90% {\n",
              "      border-color: transparent;\n",
              "      border-bottom-color: var(--fill-color);\n",
              "    }\n",
              "  }\n",
              "</style>\n",
              "\n",
              "  <script>\n",
              "    async function quickchart(key) {\n",
              "      const quickchartButtonEl =\n",
              "        document.querySelector('#' + key + ' button');\n",
              "      quickchartButtonEl.disabled = true;  // To prevent multiple clicks.\n",
              "      quickchartButtonEl.classList.add('colab-df-spinner');\n",
              "      try {\n",
              "        const charts = await google.colab.kernel.invokeFunction(\n",
              "            'suggestCharts', [key], {});\n",
              "      } catch (error) {\n",
              "        console.error('Error during call to suggestCharts:', error);\n",
              "      }\n",
              "      quickchartButtonEl.classList.remove('colab-df-spinner');\n",
              "      quickchartButtonEl.classList.add('colab-df-quickchart-complete');\n",
              "    }\n",
              "    (() => {\n",
              "      let quickchartButtonEl =\n",
              "        document.querySelector('#df-d9397815-6e8b-47e0-a863-f3b661c17297 button');\n",
              "      quickchartButtonEl.style.display =\n",
              "        google.colab.kernel.accessAllowed ? 'block' : 'none';\n",
              "    })();\n",
              "  </script>\n",
              "</div>\n",
              "    </div>\n",
              "  </div>\n"
            ]
          },
          "metadata": {},
          "execution_count": 1
        }
      ],
      "source": [
        "import numpy as np\n",
        "import pandas as pd\n",
        "import matplotlib.pyplot as plt\n",
        "import seaborn as sns\n",
        "from tqdm import tqdm\n",
        "data = pd.read_csv(\"housing.csv\")\n",
        "data.head()"
      ]
    },
    {
      "cell_type": "code",
      "execution_count": null,
      "id": "8a6c2afb",
      "metadata": {
        "id": "8a6c2afb"
      },
      "outputs": [],
      "source": []
    },
    {
      "cell_type": "code",
      "source": [
        "data.to_numpy().astype(\"float64\")"
      ],
      "metadata": {
        "colab": {
          "base_uri": "https://localhost:8080/"
        },
        "id": "GfOLap_BUoTZ",
        "outputId": "8859df27-30d4-46f9-ad33-a2be65232cc4"
      },
      "id": "GfOLap_BUoTZ",
      "execution_count": null,
      "outputs": [
        {
          "output_type": "execute_result",
          "data": {
            "text/plain": [
              "array([[0.00000000e+00, 1.80000000e-01, 6.78152493e-02, ...,\n",
              "        8.96799117e-02, 8.04248656e-03, 2.40000000e+01],\n",
              "       [2.35922539e-04, 0.00000000e+00, 2.42302053e-01, ...,\n",
              "        2.04470199e-01, 4.18080621e-02, 2.16000000e+01],\n",
              "       [2.35697744e-04, 0.00000000e+00, 2.42302053e-01, ...,\n",
              "        6.28144504e-02, 4.02790570e-03, 3.47000000e+01],\n",
              "       ...,\n",
              "       [6.11892474e-04, 0.00000000e+00, 4.20454545e-01, ...,\n",
              "        1.07891832e-01, 1.16406475e-02, 2.39000000e+01],\n",
              "       [1.16072990e-03, 0.00000000e+00, 4.20454545e-01, ...,\n",
              "        1.29930407e-01, 1.71795127e-02, 2.20000000e+01],\n",
              "       [4.61841693e-04, 0.00000000e+00, 4.20454545e-01, ...,\n",
              "        1.69701987e-01, 2.87987643e-02, 1.19000000e+01]])"
            ]
          },
          "metadata": {},
          "execution_count": 2
        }
      ]
    },
    {
      "cell_type": "code",
      "execution_count": null,
      "id": "b6e8e853",
      "metadata": {
        "scrolled": true,
        "id": "b6e8e853"
      },
      "outputs": [],
      "source": [
        "# sns.heatmap(data.corr(), annot = True)"
      ]
    },
    {
      "cell_type": "code",
      "execution_count": null,
      "id": "01136445",
      "metadata": {
        "id": "01136445"
      },
      "outputs": [],
      "source": [
        "class MultipleRegression(object):\n",
        "    def __init__(self):\n",
        "        self.a = np.zeros(1)\n",
        "        self.intercept = True\n",
        "    def predict(self, x):\n",
        "        return x @ self.a\n",
        "    def MSE(self, x, Y):\n",
        "        return (((Y.to_numpy() - self.predict(x).to_numpy()).T@(Y.to_numpy() - self.predict(x).to_numpy()))/x.shape[0])[0][0]\n",
        "    def MAE(self, x, Y):\n",
        "        return abs((Y.to_numpy() - self.predict(x).to_numpy())).mean()\n",
        "    def MAPE(self, x, Y):\n",
        "        return abs((Y.to_numpy() - self.predict(x).to_numpy())/Y).mean().to_real()\n",
        "    def coefs(self):\n",
        "        return self.a\n",
        "    def fit(self, x, Y, alpha = 0.001, epsylon = 0.01, max_steps = 5000, intercept = True):\n",
        "        self.intercept = intercept\n",
        "        self.x = x.copy()\n",
        "        self.Y = Y.copy()\n",
        "        if intercept:\n",
        "            self.x.insert(0, \"intercept\", np.ones((self.x.shape[0],1)), allow_duplicates=True)\n",
        "        m = len(self.x)\n",
        "        self.a = np.zeros(self.x.shape[1]).reshape(self.x.shape[1], 1)\n",
        "        steps, errors = [], []\n",
        "        step = 0\n",
        "        for _ in tqdm(range(max_steps)):\n",
        "            dT_a = -2*self.x.T@(self.Y.to_numpy() -self.predict(self.x).to_numpy())/m\n",
        "            self.a -= alpha*dT_a\n",
        "            new_error = self.MSE(self.x, self.Y)\n",
        "            step += 1\n",
        "            steps.append(step)\n",
        "            errors.append(new_error)\n",
        "            if new_error < epsylon:\n",
        "                break\n",
        "        return steps, errors"
      ]
    },
    {
      "cell_type": "code",
      "execution_count": null,
      "id": "e31e756f",
      "metadata": {
        "id": "e31e756f"
      },
      "outputs": [],
      "source": [
        "def train_test_split_(x, y, test_size, random_seed = 0):\n",
        "    np.random.seed(random_seed)\n",
        "    num_train = int(len(x)*(1 - test_size))\n",
        "    dataset = pd.concat([x, y], axis = 1)\n",
        "    indices = np.array(dataset.index)\n",
        "    np.random.shuffle(indices)\n",
        "\n",
        "    train_dataset = pd.DataFrame([dataset.loc[i, :] for i in indices[:num_train]])\n",
        "    test_dataset = pd.DataFrame([dataset.loc[i, :] for i in indices[num_train:]])\n",
        "    x_train = train_dataset.iloc[:, :-1]\n",
        "    y_train = pd.DataFrame(train_dataset.iloc[:, -1].to_numpy().reshape(x_train.shape[0],1))\n",
        "    x_test = test_dataset.iloc[:, :-1]\n",
        "    y_test = pd.DataFrame(test_dataset.iloc[:, -1].to_numpy().reshape(x_test.shape[0],1))\n",
        "    return x_train, y_train, x_test, y_test"
      ]
    },
    {
      "cell_type": "code",
      "execution_count": null,
      "id": "9e55104e",
      "metadata": {
        "colab": {
          "base_uri": "https://localhost:8080/",
          "height": 439
        },
        "id": "9e55104e",
        "outputId": "1d6ce48b-fd7f-4d93-a51d-b486dbdbf2d5"
      },
      "outputs": [
        {
          "output_type": "display_data",
          "data": {
            "text/plain": [
              "      Column1  Column2   Column3  Column4   Column5   Column6   Column7  \\\n",
              "139  0.006049    0.000  0.785557      0.0  0.491770  0.496264  0.978373   \n",
              "67   0.000580    0.125  0.205645      0.0  0.049383  0.443955  0.190525   \n",
              "3    0.000293    0.000  0.063050      0.0  0.150206  0.658555  0.441813   \n",
              "342  0.000210    0.000  0.052419      0.0  0.273663  0.570799  0.584964   \n",
              "56   0.000160    0.850  0.010264      0.0  0.051440  0.540717  0.337796   \n",
              "..        ...      ...       ...      ...       ...       ...       ...   \n",
              "98   0.000849    0.000  0.089076      0.0  0.123457  0.816057  0.350154   \n",
              "476  0.054682    0.000  0.646628      0.0  0.471193  0.560069  0.934089   \n",
              "322  0.003876    0.000  0.253666      0.0  0.222222  0.475187  0.484037   \n",
              "382  0.103189    0.000  0.646628      0.0  0.648148  0.378425  1.000000   \n",
              "365  0.051136    0.000  0.646628      0.0  0.685185  0.000000  0.875386   \n",
              "\n",
              "      Column8   Column9  Column10  ...  Column95  Column96  Column97  \\\n",
              "139  0.049023  0.130435  0.477099  ...  0.227624  0.436495  0.477099   \n",
              "67   0.488174  0.130435  0.301527  ...  0.090918  0.202087  0.301002   \n",
              "3    0.448545  0.086957  0.066794  ...  0.004461  0.043345  0.066412   \n",
              "342  0.467159  0.000000  0.448473  ...  0.201128  0.157443  0.440625   \n",
              "56   0.732752  0.043478  0.240458  ...  0.057820  0.120229  0.240458   \n",
              "..        ...       ...       ...  ...       ...       ...       ...   \n",
              "98   0.215115  0.043478  0.169847  ...  0.028848  0.097572  0.168404   \n",
              "476  0.106912  1.000000  0.914122  ...  0.835619  0.739077  0.912532   \n",
              "322  0.326592  0.173913  0.190840  ...  0.036420  0.142115  0.190840   \n",
              "382  0.040993  1.000000  0.914122  ...  0.835619  0.739077  0.914122   \n",
              "365  0.043976  1.000000  0.914122  ...  0.835619  0.739077  0.816851   \n",
              "\n",
              "     Column98  Column99  Column100  Column101  Column102  Column103  Column104  \n",
              "139  0.220250  0.837030   0.914894   0.422356   1.000000   0.461645   0.213116  \n",
              "67   0.053000  0.449185   0.669047   0.117805   0.996523   0.175467   0.030896  \n",
              "3    0.002230  0.421118   0.645222   0.021667   0.988585   0.033197   0.001115  \n",
              "342  0.085636  0.123246   0.344920   0.067035   0.965307   0.187608   0.036462  \n",
              "56   0.026806  0.250000   0.500000   0.055740   1.000000   0.111479   0.012428  \n",
              "..        ...       ...        ...        ...        ...        ...        ...  \n",
              "98   0.008624  0.330014   0.569586   0.029167   0.983077   0.050341   0.002578  \n",
              "476  0.427549  0.653689   0.807104   0.378153   0.996523   0.466901   0.218758  \n",
              "322  0.031438  0.554550   0.744681   0.122675   1.000000   0.164735   0.027138  \n",
              "382  0.551652  0.653689   0.808511   0.487917   1.000000   0.603477   0.364184  \n",
              "365  0.135958  0.653689   0.722477   0.120250   0.798503   0.132904   0.022121  \n",
              "\n",
              "[102 rows x 104 columns]"
            ],
            "text/html": [
              "\n",
              "  <div id=\"df-7b574421-005e-49a8-81a2-7db1c97145f7\" class=\"colab-df-container\">\n",
              "    <div>\n",
              "<style scoped>\n",
              "    .dataframe tbody tr th:only-of-type {\n",
              "        vertical-align: middle;\n",
              "    }\n",
              "\n",
              "    .dataframe tbody tr th {\n",
              "        vertical-align: top;\n",
              "    }\n",
              "\n",
              "    .dataframe thead th {\n",
              "        text-align: right;\n",
              "    }\n",
              "</style>\n",
              "<table border=\"1\" class=\"dataframe\">\n",
              "  <thead>\n",
              "    <tr style=\"text-align: right;\">\n",
              "      <th></th>\n",
              "      <th>Column1</th>\n",
              "      <th>Column2</th>\n",
              "      <th>Column3</th>\n",
              "      <th>Column4</th>\n",
              "      <th>Column5</th>\n",
              "      <th>Column6</th>\n",
              "      <th>Column7</th>\n",
              "      <th>Column8</th>\n",
              "      <th>Column9</th>\n",
              "      <th>Column10</th>\n",
              "      <th>...</th>\n",
              "      <th>Column95</th>\n",
              "      <th>Column96</th>\n",
              "      <th>Column97</th>\n",
              "      <th>Column98</th>\n",
              "      <th>Column99</th>\n",
              "      <th>Column100</th>\n",
              "      <th>Column101</th>\n",
              "      <th>Column102</th>\n",
              "      <th>Column103</th>\n",
              "      <th>Column104</th>\n",
              "    </tr>\n",
              "  </thead>\n",
              "  <tbody>\n",
              "    <tr>\n",
              "      <th>139</th>\n",
              "      <td>0.006049</td>\n",
              "      <td>0.000</td>\n",
              "      <td>0.785557</td>\n",
              "      <td>0.0</td>\n",
              "      <td>0.491770</td>\n",
              "      <td>0.496264</td>\n",
              "      <td>0.978373</td>\n",
              "      <td>0.049023</td>\n",
              "      <td>0.130435</td>\n",
              "      <td>0.477099</td>\n",
              "      <td>...</td>\n",
              "      <td>0.227624</td>\n",
              "      <td>0.436495</td>\n",
              "      <td>0.477099</td>\n",
              "      <td>0.220250</td>\n",
              "      <td>0.837030</td>\n",
              "      <td>0.914894</td>\n",
              "      <td>0.422356</td>\n",
              "      <td>1.000000</td>\n",
              "      <td>0.461645</td>\n",
              "      <td>0.213116</td>\n",
              "    </tr>\n",
              "    <tr>\n",
              "      <th>67</th>\n",
              "      <td>0.000580</td>\n",
              "      <td>0.125</td>\n",
              "      <td>0.205645</td>\n",
              "      <td>0.0</td>\n",
              "      <td>0.049383</td>\n",
              "      <td>0.443955</td>\n",
              "      <td>0.190525</td>\n",
              "      <td>0.488174</td>\n",
              "      <td>0.130435</td>\n",
              "      <td>0.301527</td>\n",
              "      <td>...</td>\n",
              "      <td>0.090918</td>\n",
              "      <td>0.202087</td>\n",
              "      <td>0.301002</td>\n",
              "      <td>0.053000</td>\n",
              "      <td>0.449185</td>\n",
              "      <td>0.669047</td>\n",
              "      <td>0.117805</td>\n",
              "      <td>0.996523</td>\n",
              "      <td>0.175467</td>\n",
              "      <td>0.030896</td>\n",
              "    </tr>\n",
              "    <tr>\n",
              "      <th>3</th>\n",
              "      <td>0.000293</td>\n",
              "      <td>0.000</td>\n",
              "      <td>0.063050</td>\n",
              "      <td>0.0</td>\n",
              "      <td>0.150206</td>\n",
              "      <td>0.658555</td>\n",
              "      <td>0.441813</td>\n",
              "      <td>0.448545</td>\n",
              "      <td>0.086957</td>\n",
              "      <td>0.066794</td>\n",
              "      <td>...</td>\n",
              "      <td>0.004461</td>\n",
              "      <td>0.043345</td>\n",
              "      <td>0.066412</td>\n",
              "      <td>0.002230</td>\n",
              "      <td>0.421118</td>\n",
              "      <td>0.645222</td>\n",
              "      <td>0.021667</td>\n",
              "      <td>0.988585</td>\n",
              "      <td>0.033197</td>\n",
              "      <td>0.001115</td>\n",
              "    </tr>\n",
              "    <tr>\n",
              "      <th>342</th>\n",
              "      <td>0.000210</td>\n",
              "      <td>0.000</td>\n",
              "      <td>0.052419</td>\n",
              "      <td>0.0</td>\n",
              "      <td>0.273663</td>\n",
              "      <td>0.570799</td>\n",
              "      <td>0.584964</td>\n",
              "      <td>0.467159</td>\n",
              "      <td>0.000000</td>\n",
              "      <td>0.448473</td>\n",
              "      <td>...</td>\n",
              "      <td>0.201128</td>\n",
              "      <td>0.157443</td>\n",
              "      <td>0.440625</td>\n",
              "      <td>0.085636</td>\n",
              "      <td>0.123246</td>\n",
              "      <td>0.344920</td>\n",
              "      <td>0.067035</td>\n",
              "      <td>0.965307</td>\n",
              "      <td>0.187608</td>\n",
              "      <td>0.036462</td>\n",
              "    </tr>\n",
              "    <tr>\n",
              "      <th>56</th>\n",
              "      <td>0.000160</td>\n",
              "      <td>0.850</td>\n",
              "      <td>0.010264</td>\n",
              "      <td>0.0</td>\n",
              "      <td>0.051440</td>\n",
              "      <td>0.540717</td>\n",
              "      <td>0.337796</td>\n",
              "      <td>0.732752</td>\n",
              "      <td>0.043478</td>\n",
              "      <td>0.240458</td>\n",
              "      <td>...</td>\n",
              "      <td>0.057820</td>\n",
              "      <td>0.120229</td>\n",
              "      <td>0.240458</td>\n",
              "      <td>0.026806</td>\n",
              "      <td>0.250000</td>\n",
              "      <td>0.500000</td>\n",
              "      <td>0.055740</td>\n",
              "      <td>1.000000</td>\n",
              "      <td>0.111479</td>\n",
              "      <td>0.012428</td>\n",
              "    </tr>\n",
              "    <tr>\n",
              "      <th>...</th>\n",
              "      <td>...</td>\n",
              "      <td>...</td>\n",
              "      <td>...</td>\n",
              "      <td>...</td>\n",
              "      <td>...</td>\n",
              "      <td>...</td>\n",
              "      <td>...</td>\n",
              "      <td>...</td>\n",
              "      <td>...</td>\n",
              "      <td>...</td>\n",
              "      <td>...</td>\n",
              "      <td>...</td>\n",
              "      <td>...</td>\n",
              "      <td>...</td>\n",
              "      <td>...</td>\n",
              "      <td>...</td>\n",
              "      <td>...</td>\n",
              "      <td>...</td>\n",
              "      <td>...</td>\n",
              "      <td>...</td>\n",
              "      <td>...</td>\n",
              "    </tr>\n",
              "    <tr>\n",
              "      <th>98</th>\n",
              "      <td>0.000849</td>\n",
              "      <td>0.000</td>\n",
              "      <td>0.089076</td>\n",
              "      <td>0.0</td>\n",
              "      <td>0.123457</td>\n",
              "      <td>0.816057</td>\n",
              "      <td>0.350154</td>\n",
              "      <td>0.215115</td>\n",
              "      <td>0.043478</td>\n",
              "      <td>0.169847</td>\n",
              "      <td>...</td>\n",
              "      <td>0.028848</td>\n",
              "      <td>0.097572</td>\n",
              "      <td>0.168404</td>\n",
              "      <td>0.008624</td>\n",
              "      <td>0.330014</td>\n",
              "      <td>0.569586</td>\n",
              "      <td>0.029167</td>\n",
              "      <td>0.983077</td>\n",
              "      <td>0.050341</td>\n",
              "      <td>0.002578</td>\n",
              "    </tr>\n",
              "    <tr>\n",
              "      <th>476</th>\n",
              "      <td>0.054682</td>\n",
              "      <td>0.000</td>\n",
              "      <td>0.646628</td>\n",
              "      <td>0.0</td>\n",
              "      <td>0.471193</td>\n",
              "      <td>0.560069</td>\n",
              "      <td>0.934089</td>\n",
              "      <td>0.106912</td>\n",
              "      <td>1.000000</td>\n",
              "      <td>0.914122</td>\n",
              "      <td>...</td>\n",
              "      <td>0.835619</td>\n",
              "      <td>0.739077</td>\n",
              "      <td>0.912532</td>\n",
              "      <td>0.427549</td>\n",
              "      <td>0.653689</td>\n",
              "      <td>0.807104</td>\n",
              "      <td>0.378153</td>\n",
              "      <td>0.996523</td>\n",
              "      <td>0.466901</td>\n",
              "      <td>0.218758</td>\n",
              "    </tr>\n",
              "    <tr>\n",
              "      <th>322</th>\n",
              "      <td>0.003876</td>\n",
              "      <td>0.000</td>\n",
              "      <td>0.253666</td>\n",
              "      <td>0.0</td>\n",
              "      <td>0.222222</td>\n",
              "      <td>0.475187</td>\n",
              "      <td>0.484037</td>\n",
              "      <td>0.326592</td>\n",
              "      <td>0.173913</td>\n",
              "      <td>0.190840</td>\n",
              "      <td>...</td>\n",
              "      <td>0.036420</td>\n",
              "      <td>0.142115</td>\n",
              "      <td>0.190840</td>\n",
              "      <td>0.031438</td>\n",
              "      <td>0.554550</td>\n",
              "      <td>0.744681</td>\n",
              "      <td>0.122675</td>\n",
              "      <td>1.000000</td>\n",
              "      <td>0.164735</td>\n",
              "      <td>0.027138</td>\n",
              "    </tr>\n",
              "    <tr>\n",
              "      <th>382</th>\n",
              "      <td>0.103189</td>\n",
              "      <td>0.000</td>\n",
              "      <td>0.646628</td>\n",
              "      <td>0.0</td>\n",
              "      <td>0.648148</td>\n",
              "      <td>0.378425</td>\n",
              "      <td>1.000000</td>\n",
              "      <td>0.040993</td>\n",
              "      <td>1.000000</td>\n",
              "      <td>0.914122</td>\n",
              "      <td>...</td>\n",
              "      <td>0.835619</td>\n",
              "      <td>0.739077</td>\n",
              "      <td>0.914122</td>\n",
              "      <td>0.551652</td>\n",
              "      <td>0.653689</td>\n",
              "      <td>0.808511</td>\n",
              "      <td>0.487917</td>\n",
              "      <td>1.000000</td>\n",
              "      <td>0.603477</td>\n",
              "      <td>0.364184</td>\n",
              "    </tr>\n",
              "    <tr>\n",
              "      <th>365</th>\n",
              "      <td>0.051136</td>\n",
              "      <td>0.000</td>\n",
              "      <td>0.646628</td>\n",
              "      <td>0.0</td>\n",
              "      <td>0.685185</td>\n",
              "      <td>0.000000</td>\n",
              "      <td>0.875386</td>\n",
              "      <td>0.043976</td>\n",
              "      <td>1.000000</td>\n",
              "      <td>0.914122</td>\n",
              "      <td>...</td>\n",
              "      <td>0.835619</td>\n",
              "      <td>0.739077</td>\n",
              "      <td>0.816851</td>\n",
              "      <td>0.135958</td>\n",
              "      <td>0.653689</td>\n",
              "      <td>0.722477</td>\n",
              "      <td>0.120250</td>\n",
              "      <td>0.798503</td>\n",
              "      <td>0.132904</td>\n",
              "      <td>0.022121</td>\n",
              "    </tr>\n",
              "  </tbody>\n",
              "</table>\n",
              "<p>102 rows × 104 columns</p>\n",
              "</div>\n",
              "    <div class=\"colab-df-buttons\">\n",
              "\n",
              "  <div class=\"colab-df-container\">\n",
              "    <button class=\"colab-df-convert\" onclick=\"convertToInteractive('df-7b574421-005e-49a8-81a2-7db1c97145f7')\"\n",
              "            title=\"Convert this dataframe to an interactive table.\"\n",
              "            style=\"display:none;\">\n",
              "\n",
              "  <svg xmlns=\"http://www.w3.org/2000/svg\" height=\"24px\" viewBox=\"0 -960 960 960\">\n",
              "    <path d=\"M120-120v-720h720v720H120Zm60-500h600v-160H180v160Zm220 220h160v-160H400v160Zm0 220h160v-160H400v160ZM180-400h160v-160H180v160Zm440 0h160v-160H620v160ZM180-180h160v-160H180v160Zm440 0h160v-160H620v160Z\"/>\n",
              "  </svg>\n",
              "    </button>\n",
              "\n",
              "  <style>\n",
              "    .colab-df-container {\n",
              "      display:flex;\n",
              "      gap: 12px;\n",
              "    }\n",
              "\n",
              "    .colab-df-convert {\n",
              "      background-color: #E8F0FE;\n",
              "      border: none;\n",
              "      border-radius: 50%;\n",
              "      cursor: pointer;\n",
              "      display: none;\n",
              "      fill: #1967D2;\n",
              "      height: 32px;\n",
              "      padding: 0 0 0 0;\n",
              "      width: 32px;\n",
              "    }\n",
              "\n",
              "    .colab-df-convert:hover {\n",
              "      background-color: #E2EBFA;\n",
              "      box-shadow: 0px 1px 2px rgba(60, 64, 67, 0.3), 0px 1px 3px 1px rgba(60, 64, 67, 0.15);\n",
              "      fill: #174EA6;\n",
              "    }\n",
              "\n",
              "    .colab-df-buttons div {\n",
              "      margin-bottom: 4px;\n",
              "    }\n",
              "\n",
              "    [theme=dark] .colab-df-convert {\n",
              "      background-color: #3B4455;\n",
              "      fill: #D2E3FC;\n",
              "    }\n",
              "\n",
              "    [theme=dark] .colab-df-convert:hover {\n",
              "      background-color: #434B5C;\n",
              "      box-shadow: 0px 1px 3px 1px rgba(0, 0, 0, 0.15);\n",
              "      filter: drop-shadow(0px 1px 2px rgba(0, 0, 0, 0.3));\n",
              "      fill: #FFFFFF;\n",
              "    }\n",
              "  </style>\n",
              "\n",
              "    <script>\n",
              "      const buttonEl =\n",
              "        document.querySelector('#df-7b574421-005e-49a8-81a2-7db1c97145f7 button.colab-df-convert');\n",
              "      buttonEl.style.display =\n",
              "        google.colab.kernel.accessAllowed ? 'block' : 'none';\n",
              "\n",
              "      async function convertToInteractive(key) {\n",
              "        const element = document.querySelector('#df-7b574421-005e-49a8-81a2-7db1c97145f7');\n",
              "        const dataTable =\n",
              "          await google.colab.kernel.invokeFunction('convertToInteractive',\n",
              "                                                    [key], {});\n",
              "        if (!dataTable) return;\n",
              "\n",
              "        const docLinkHtml = 'Like what you see? Visit the ' +\n",
              "          '<a target=\"_blank\" href=https://colab.research.google.com/notebooks/data_table.ipynb>data table notebook</a>'\n",
              "          + ' to learn more about interactive tables.';\n",
              "        element.innerHTML = '';\n",
              "        dataTable['output_type'] = 'display_data';\n",
              "        await google.colab.output.renderOutput(dataTable, element);\n",
              "        const docLink = document.createElement('div');\n",
              "        docLink.innerHTML = docLinkHtml;\n",
              "        element.appendChild(docLink);\n",
              "      }\n",
              "    </script>\n",
              "  </div>\n",
              "\n",
              "\n",
              "<div id=\"df-148ccf80-8608-4ca3-b406-be111c587375\">\n",
              "  <button class=\"colab-df-quickchart\" onclick=\"quickchart('df-148ccf80-8608-4ca3-b406-be111c587375')\"\n",
              "            title=\"Suggest charts.\"\n",
              "            style=\"display:none;\">\n",
              "\n",
              "<svg xmlns=\"http://www.w3.org/2000/svg\" height=\"24px\"viewBox=\"0 0 24 24\"\n",
              "     width=\"24px\">\n",
              "    <g>\n",
              "        <path d=\"M19 3H5c-1.1 0-2 .9-2 2v14c0 1.1.9 2 2 2h14c1.1 0 2-.9 2-2V5c0-1.1-.9-2-2-2zM9 17H7v-7h2v7zm4 0h-2V7h2v10zm4 0h-2v-4h2v4z\"/>\n",
              "    </g>\n",
              "</svg>\n",
              "  </button>\n",
              "\n",
              "<style>\n",
              "  .colab-df-quickchart {\n",
              "      --bg-color: #E8F0FE;\n",
              "      --fill-color: #1967D2;\n",
              "      --hover-bg-color: #E2EBFA;\n",
              "      --hover-fill-color: #174EA6;\n",
              "      --disabled-fill-color: #AAA;\n",
              "      --disabled-bg-color: #DDD;\n",
              "  }\n",
              "\n",
              "  [theme=dark] .colab-df-quickchart {\n",
              "      --bg-color: #3B4455;\n",
              "      --fill-color: #D2E3FC;\n",
              "      --hover-bg-color: #434B5C;\n",
              "      --hover-fill-color: #FFFFFF;\n",
              "      --disabled-bg-color: #3B4455;\n",
              "      --disabled-fill-color: #666;\n",
              "  }\n",
              "\n",
              "  .colab-df-quickchart {\n",
              "    background-color: var(--bg-color);\n",
              "    border: none;\n",
              "    border-radius: 50%;\n",
              "    cursor: pointer;\n",
              "    display: none;\n",
              "    fill: var(--fill-color);\n",
              "    height: 32px;\n",
              "    padding: 0;\n",
              "    width: 32px;\n",
              "  }\n",
              "\n",
              "  .colab-df-quickchart:hover {\n",
              "    background-color: var(--hover-bg-color);\n",
              "    box-shadow: 0 1px 2px rgba(60, 64, 67, 0.3), 0 1px 3px 1px rgba(60, 64, 67, 0.15);\n",
              "    fill: var(--button-hover-fill-color);\n",
              "  }\n",
              "\n",
              "  .colab-df-quickchart-complete:disabled,\n",
              "  .colab-df-quickchart-complete:disabled:hover {\n",
              "    background-color: var(--disabled-bg-color);\n",
              "    fill: var(--disabled-fill-color);\n",
              "    box-shadow: none;\n",
              "  }\n",
              "\n",
              "  .colab-df-spinner {\n",
              "    border: 2px solid var(--fill-color);\n",
              "    border-color: transparent;\n",
              "    border-bottom-color: var(--fill-color);\n",
              "    animation:\n",
              "      spin 1s steps(1) infinite;\n",
              "  }\n",
              "\n",
              "  @keyframes spin {\n",
              "    0% {\n",
              "      border-color: transparent;\n",
              "      border-bottom-color: var(--fill-color);\n",
              "      border-left-color: var(--fill-color);\n",
              "    }\n",
              "    20% {\n",
              "      border-color: transparent;\n",
              "      border-left-color: var(--fill-color);\n",
              "      border-top-color: var(--fill-color);\n",
              "    }\n",
              "    30% {\n",
              "      border-color: transparent;\n",
              "      border-left-color: var(--fill-color);\n",
              "      border-top-color: var(--fill-color);\n",
              "      border-right-color: var(--fill-color);\n",
              "    }\n",
              "    40% {\n",
              "      border-color: transparent;\n",
              "      border-right-color: var(--fill-color);\n",
              "      border-top-color: var(--fill-color);\n",
              "    }\n",
              "    60% {\n",
              "      border-color: transparent;\n",
              "      border-right-color: var(--fill-color);\n",
              "    }\n",
              "    80% {\n",
              "      border-color: transparent;\n",
              "      border-right-color: var(--fill-color);\n",
              "      border-bottom-color: var(--fill-color);\n",
              "    }\n",
              "    90% {\n",
              "      border-color: transparent;\n",
              "      border-bottom-color: var(--fill-color);\n",
              "    }\n",
              "  }\n",
              "</style>\n",
              "\n",
              "  <script>\n",
              "    async function quickchart(key) {\n",
              "      const quickchartButtonEl =\n",
              "        document.querySelector('#' + key + ' button');\n",
              "      quickchartButtonEl.disabled = true;  // To prevent multiple clicks.\n",
              "      quickchartButtonEl.classList.add('colab-df-spinner');\n",
              "      try {\n",
              "        const charts = await google.colab.kernel.invokeFunction(\n",
              "            'suggestCharts', [key], {});\n",
              "      } catch (error) {\n",
              "        console.error('Error during call to suggestCharts:', error);\n",
              "      }\n",
              "      quickchartButtonEl.classList.remove('colab-df-spinner');\n",
              "      quickchartButtonEl.classList.add('colab-df-quickchart-complete');\n",
              "    }\n",
              "    (() => {\n",
              "      let quickchartButtonEl =\n",
              "        document.querySelector('#df-148ccf80-8608-4ca3-b406-be111c587375 button');\n",
              "      quickchartButtonEl.style.display =\n",
              "        google.colab.kernel.accessAllowed ? 'block' : 'none';\n",
              "    })();\n",
              "  </script>\n",
              "</div>\n",
              "    </div>\n",
              "  </div>\n"
            ]
          },
          "metadata": {}
        }
      ],
      "source": [
        "dataset = data.copy()\n",
        "Y = dataset['Y']\n",
        "x = dataset.drop('Y', axis = 1)\n",
        "x_train, y_train, x_test, y_test = train_test_split_(x, Y, 0.2, 123)\n",
        "display(x_test)"
      ]
    },
    {
      "cell_type": "code",
      "execution_count": null,
      "id": "52f1b0fd",
      "metadata": {
        "colab": {
          "base_uri": "https://localhost:8080/"
        },
        "id": "52f1b0fd",
        "outputId": "bf636481-d253-429e-f3b8-d10c0e6335f1"
      },
      "outputs": [
        {
          "output_type": "stream",
          "name": "stderr",
          "text": [
            "100%|██████████| 5000/5000 [00:11<00:00, 439.79it/s]\n"
          ]
        }
      ],
      "source": [
        "regr = MultipleRegression()\n",
        "steps, errors = regr.fit(x_train, y_train, intercept = True, alpha = 0.01, epsylon = 0.00001, max_steps = 5000)"
      ]
    },
    {
      "cell_type": "code",
      "execution_count": null,
      "id": "88cf223e",
      "metadata": {
        "colab": {
          "base_uri": "https://localhost:8080/",
          "height": 849
        },
        "id": "88cf223e",
        "outputId": "afdaefba-176b-47a3-b718-84b4d6068081"
      },
      "outputs": [
        {
          "output_type": "display_data",
          "data": {
            "text/plain": [
              "                   0\n",
              "intercept  12.115736\n",
              "Column1    -1.118099\n",
              "Column2     0.765489\n",
              "Column3     1.954234\n",
              "Column4     0.197333\n",
              "...              ...\n",
              "Column100  -3.025672\n",
              "Column101  -2.039941\n",
              "Column102   3.586691\n",
              "Column103  -7.043604\n",
              "Column104   3.211595\n",
              "\n",
              "[105 rows x 1 columns]"
            ],
            "text/html": [
              "\n",
              "  <div id=\"df-31406d29-fa1a-41eb-841b-bc82b8a5a437\" class=\"colab-df-container\">\n",
              "    <div>\n",
              "<style scoped>\n",
              "    .dataframe tbody tr th:only-of-type {\n",
              "        vertical-align: middle;\n",
              "    }\n",
              "\n",
              "    .dataframe tbody tr th {\n",
              "        vertical-align: top;\n",
              "    }\n",
              "\n",
              "    .dataframe thead th {\n",
              "        text-align: right;\n",
              "    }\n",
              "</style>\n",
              "<table border=\"1\" class=\"dataframe\">\n",
              "  <thead>\n",
              "    <tr style=\"text-align: right;\">\n",
              "      <th></th>\n",
              "      <th>0</th>\n",
              "    </tr>\n",
              "  </thead>\n",
              "  <tbody>\n",
              "    <tr>\n",
              "      <th>intercept</th>\n",
              "      <td>12.115736</td>\n",
              "    </tr>\n",
              "    <tr>\n",
              "      <th>Column1</th>\n",
              "      <td>-1.118099</td>\n",
              "    </tr>\n",
              "    <tr>\n",
              "      <th>Column2</th>\n",
              "      <td>0.765489</td>\n",
              "    </tr>\n",
              "    <tr>\n",
              "      <th>Column3</th>\n",
              "      <td>1.954234</td>\n",
              "    </tr>\n",
              "    <tr>\n",
              "      <th>Column4</th>\n",
              "      <td>0.197333</td>\n",
              "    </tr>\n",
              "    <tr>\n",
              "      <th>...</th>\n",
              "      <td>...</td>\n",
              "    </tr>\n",
              "    <tr>\n",
              "      <th>Column100</th>\n",
              "      <td>-3.025672</td>\n",
              "    </tr>\n",
              "    <tr>\n",
              "      <th>Column101</th>\n",
              "      <td>-2.039941</td>\n",
              "    </tr>\n",
              "    <tr>\n",
              "      <th>Column102</th>\n",
              "      <td>3.586691</td>\n",
              "    </tr>\n",
              "    <tr>\n",
              "      <th>Column103</th>\n",
              "      <td>-7.043604</td>\n",
              "    </tr>\n",
              "    <tr>\n",
              "      <th>Column104</th>\n",
              "      <td>3.211595</td>\n",
              "    </tr>\n",
              "  </tbody>\n",
              "</table>\n",
              "<p>105 rows × 1 columns</p>\n",
              "</div>\n",
              "    <div class=\"colab-df-buttons\">\n",
              "\n",
              "  <div class=\"colab-df-container\">\n",
              "    <button class=\"colab-df-convert\" onclick=\"convertToInteractive('df-31406d29-fa1a-41eb-841b-bc82b8a5a437')\"\n",
              "            title=\"Convert this dataframe to an interactive table.\"\n",
              "            style=\"display:none;\">\n",
              "\n",
              "  <svg xmlns=\"http://www.w3.org/2000/svg\" height=\"24px\" viewBox=\"0 -960 960 960\">\n",
              "    <path d=\"M120-120v-720h720v720H120Zm60-500h600v-160H180v160Zm220 220h160v-160H400v160Zm0 220h160v-160H400v160ZM180-400h160v-160H180v160Zm440 0h160v-160H620v160ZM180-180h160v-160H180v160Zm440 0h160v-160H620v160Z\"/>\n",
              "  </svg>\n",
              "    </button>\n",
              "\n",
              "  <style>\n",
              "    .colab-df-container {\n",
              "      display:flex;\n",
              "      gap: 12px;\n",
              "    }\n",
              "\n",
              "    .colab-df-convert {\n",
              "      background-color: #E8F0FE;\n",
              "      border: none;\n",
              "      border-radius: 50%;\n",
              "      cursor: pointer;\n",
              "      display: none;\n",
              "      fill: #1967D2;\n",
              "      height: 32px;\n",
              "      padding: 0 0 0 0;\n",
              "      width: 32px;\n",
              "    }\n",
              "\n",
              "    .colab-df-convert:hover {\n",
              "      background-color: #E2EBFA;\n",
              "      box-shadow: 0px 1px 2px rgba(60, 64, 67, 0.3), 0px 1px 3px 1px rgba(60, 64, 67, 0.15);\n",
              "      fill: #174EA6;\n",
              "    }\n",
              "\n",
              "    .colab-df-buttons div {\n",
              "      margin-bottom: 4px;\n",
              "    }\n",
              "\n",
              "    [theme=dark] .colab-df-convert {\n",
              "      background-color: #3B4455;\n",
              "      fill: #D2E3FC;\n",
              "    }\n",
              "\n",
              "    [theme=dark] .colab-df-convert:hover {\n",
              "      background-color: #434B5C;\n",
              "      box-shadow: 0px 1px 3px 1px rgba(0, 0, 0, 0.15);\n",
              "      filter: drop-shadow(0px 1px 2px rgba(0, 0, 0, 0.3));\n",
              "      fill: #FFFFFF;\n",
              "    }\n",
              "  </style>\n",
              "\n",
              "    <script>\n",
              "      const buttonEl =\n",
              "        document.querySelector('#df-31406d29-fa1a-41eb-841b-bc82b8a5a437 button.colab-df-convert');\n",
              "      buttonEl.style.display =\n",
              "        google.colab.kernel.accessAllowed ? 'block' : 'none';\n",
              "\n",
              "      async function convertToInteractive(key) {\n",
              "        const element = document.querySelector('#df-31406d29-fa1a-41eb-841b-bc82b8a5a437');\n",
              "        const dataTable =\n",
              "          await google.colab.kernel.invokeFunction('convertToInteractive',\n",
              "                                                    [key], {});\n",
              "        if (!dataTable) return;\n",
              "\n",
              "        const docLinkHtml = 'Like what you see? Visit the ' +\n",
              "          '<a target=\"_blank\" href=https://colab.research.google.com/notebooks/data_table.ipynb>data table notebook</a>'\n",
              "          + ' to learn more about interactive tables.';\n",
              "        element.innerHTML = '';\n",
              "        dataTable['output_type'] = 'display_data';\n",
              "        await google.colab.output.renderOutput(dataTable, element);\n",
              "        const docLink = document.createElement('div');\n",
              "        docLink.innerHTML = docLinkHtml;\n",
              "        element.appendChild(docLink);\n",
              "      }\n",
              "    </script>\n",
              "  </div>\n",
              "\n",
              "\n",
              "<div id=\"df-53323a51-4bf6-4b8f-a065-1acc85b5dd60\">\n",
              "  <button class=\"colab-df-quickchart\" onclick=\"quickchart('df-53323a51-4bf6-4b8f-a065-1acc85b5dd60')\"\n",
              "            title=\"Suggest charts.\"\n",
              "            style=\"display:none;\">\n",
              "\n",
              "<svg xmlns=\"http://www.w3.org/2000/svg\" height=\"24px\"viewBox=\"0 0 24 24\"\n",
              "     width=\"24px\">\n",
              "    <g>\n",
              "        <path d=\"M19 3H5c-1.1 0-2 .9-2 2v14c0 1.1.9 2 2 2h14c1.1 0 2-.9 2-2V5c0-1.1-.9-2-2-2zM9 17H7v-7h2v7zm4 0h-2V7h2v10zm4 0h-2v-4h2v4z\"/>\n",
              "    </g>\n",
              "</svg>\n",
              "  </button>\n",
              "\n",
              "<style>\n",
              "  .colab-df-quickchart {\n",
              "      --bg-color: #E8F0FE;\n",
              "      --fill-color: #1967D2;\n",
              "      --hover-bg-color: #E2EBFA;\n",
              "      --hover-fill-color: #174EA6;\n",
              "      --disabled-fill-color: #AAA;\n",
              "      --disabled-bg-color: #DDD;\n",
              "  }\n",
              "\n",
              "  [theme=dark] .colab-df-quickchart {\n",
              "      --bg-color: #3B4455;\n",
              "      --fill-color: #D2E3FC;\n",
              "      --hover-bg-color: #434B5C;\n",
              "      --hover-fill-color: #FFFFFF;\n",
              "      --disabled-bg-color: #3B4455;\n",
              "      --disabled-fill-color: #666;\n",
              "  }\n",
              "\n",
              "  .colab-df-quickchart {\n",
              "    background-color: var(--bg-color);\n",
              "    border: none;\n",
              "    border-radius: 50%;\n",
              "    cursor: pointer;\n",
              "    display: none;\n",
              "    fill: var(--fill-color);\n",
              "    height: 32px;\n",
              "    padding: 0;\n",
              "    width: 32px;\n",
              "  }\n",
              "\n",
              "  .colab-df-quickchart:hover {\n",
              "    background-color: var(--hover-bg-color);\n",
              "    box-shadow: 0 1px 2px rgba(60, 64, 67, 0.3), 0 1px 3px 1px rgba(60, 64, 67, 0.15);\n",
              "    fill: var(--button-hover-fill-color);\n",
              "  }\n",
              "\n",
              "  .colab-df-quickchart-complete:disabled,\n",
              "  .colab-df-quickchart-complete:disabled:hover {\n",
              "    background-color: var(--disabled-bg-color);\n",
              "    fill: var(--disabled-fill-color);\n",
              "    box-shadow: none;\n",
              "  }\n",
              "\n",
              "  .colab-df-spinner {\n",
              "    border: 2px solid var(--fill-color);\n",
              "    border-color: transparent;\n",
              "    border-bottom-color: var(--fill-color);\n",
              "    animation:\n",
              "      spin 1s steps(1) infinite;\n",
              "  }\n",
              "\n",
              "  @keyframes spin {\n",
              "    0% {\n",
              "      border-color: transparent;\n",
              "      border-bottom-color: var(--fill-color);\n",
              "      border-left-color: var(--fill-color);\n",
              "    }\n",
              "    20% {\n",
              "      border-color: transparent;\n",
              "      border-left-color: var(--fill-color);\n",
              "      border-top-color: var(--fill-color);\n",
              "    }\n",
              "    30% {\n",
              "      border-color: transparent;\n",
              "      border-left-color: var(--fill-color);\n",
              "      border-top-color: var(--fill-color);\n",
              "      border-right-color: var(--fill-color);\n",
              "    }\n",
              "    40% {\n",
              "      border-color: transparent;\n",
              "      border-right-color: var(--fill-color);\n",
              "      border-top-color: var(--fill-color);\n",
              "    }\n",
              "    60% {\n",
              "      border-color: transparent;\n",
              "      border-right-color: var(--fill-color);\n",
              "    }\n",
              "    80% {\n",
              "      border-color: transparent;\n",
              "      border-right-color: var(--fill-color);\n",
              "      border-bottom-color: var(--fill-color);\n",
              "    }\n",
              "    90% {\n",
              "      border-color: transparent;\n",
              "      border-bottom-color: var(--fill-color);\n",
              "    }\n",
              "  }\n",
              "</style>\n",
              "\n",
              "  <script>\n",
              "    async function quickchart(key) {\n",
              "      const quickchartButtonEl =\n",
              "        document.querySelector('#' + key + ' button');\n",
              "      quickchartButtonEl.disabled = true;  // To prevent multiple clicks.\n",
              "      quickchartButtonEl.classList.add('colab-df-spinner');\n",
              "      try {\n",
              "        const charts = await google.colab.kernel.invokeFunction(\n",
              "            'suggestCharts', [key], {});\n",
              "      } catch (error) {\n",
              "        console.error('Error during call to suggestCharts:', error);\n",
              "      }\n",
              "      quickchartButtonEl.classList.remove('colab-df-spinner');\n",
              "      quickchartButtonEl.classList.add('colab-df-quickchart-complete');\n",
              "    }\n",
              "    (() => {\n",
              "      let quickchartButtonEl =\n",
              "        document.querySelector('#df-53323a51-4bf6-4b8f-a065-1acc85b5dd60 button');\n",
              "      quickchartButtonEl.style.display =\n",
              "        google.colab.kernel.accessAllowed ? 'block' : 'none';\n",
              "    })();\n",
              "  </script>\n",
              "</div>\n",
              "    </div>\n",
              "  </div>\n"
            ]
          },
          "metadata": {}
        },
        {
          "output_type": "execute_result",
          "data": {
            "text/plain": [
              "[<matplotlib.lines.Line2D at 0x7d775865cd60>]"
            ]
          },
          "metadata": {},
          "execution_count": 7
        },
        {
          "output_type": "display_data",
          "data": {
            "text/plain": [
              "<Figure size 640x480 with 1 Axes>"
            ],
            "image/png": "[encoded data removed]"
          },
          "metadata": {}
        }
      ],
      "source": [
        "display(regr.coefs())\n",
        "plt.plot(steps, errors)"
      ]
    },
    {
      "cell_type": "code",
      "execution_count": null,
      "id": "729bf6e9",
      "metadata": {
        "colab": {
          "base_uri": "https://localhost:8080/"
        },
        "id": "729bf6e9",
        "outputId": "4b4e2be8-0c64-439a-9450-1573576ff5c6"
      },
      "outputs": [
        {
          "output_type": "execute_result",
          "data": {
            "text/plain": [
              "2.6131928982964214"
            ]
          },
          "metadata": {},
          "execution_count": 8
        }
      ],
      "source": [
        "x_i = x_train.copy()\n",
        "x_i.insert(0, \"intercept\", np.ones((x_i.shape[0],1)), allow_duplicates=True)\n",
        "regr.MAE(x_i, y_train)"
      ]
    },
    {
      "cell_type": "code",
      "execution_count": null,
      "id": "1d3f68d1",
      "metadata": {
        "colab": {
          "base_uri": "https://localhost:8080/"
        },
        "id": "1d3f68d1",
        "outputId": "ee19b23f-3ae4-4e2b-fe6c-419e9892a77f"
      },
      "outputs": [
        {
          "output_type": "execute_result",
          "data": {
            "text/plain": [
              "3.0983371913346924"
            ]
          },
          "metadata": {},
          "execution_count": 9
        }
      ],
      "source": [
        "x_i = x_test.copy()\n",
        "x_i.insert(0, \"intercept\", np.ones((x_i.shape[0],1)), allow_duplicates=True)\n",
        "regr.MAE(x_i, y_test)"
      ]
    },
    {
      "cell_type": "markdown",
      "id": "9b313c14",
      "metadata": {
        "id": "9b313c14"
      },
      "source": [
        "<b>Задание.</b>\n",
        "Метрика на тестовой выборке в два раза хуже, чем на обучающей. Это - переобучение.\n",
        "\n",
        "Необходимо модифицировать класс MultipleRegression, добавив возможность регуляризации L1, L2 и ElasticNet. Подобрать параметры регуляризации, чтобы побороть переобучение.\n",
        "\n",
        "Бонусное задание: реализовать класс регуляризации для логистической регрессии и улучшить качество прогноза для класса риска страхователей."
      ]
    },
    {
      "cell_type": "code",
      "execution_count": null,
      "id": "b25657b1",
      "metadata": {
        "id": "b25657b1"
      },
      "outputs": [],
      "source": [
        "class MultipleRegressionReg(object):\n",
        "    def __init__(self):\n",
        "        self.a = np.zeros(1)\n",
        "        self.intercept = True\n",
        "    def predict(self, x):\n",
        "        return x @ self.a\n",
        "    def MSE(self, x, Y):\n",
        "        # print((((Y.to_numpy() - self.predict(x).to_numpy()).T@(Y.to_numpy() - self.predict(x).to_numpy()))/x.shape[0]).shape)\n",
        "        return (((Y.to_numpy() - self.predict(x).to_numpy()).T@(Y.to_numpy() - self.predict(x).to_numpy()))/x.shape[0])[0][0]\n",
        "    def MAE(self, x, Y):\n",
        "        print(abs((Y.to_numpy() - self.predict(x).to_numpy())).mean())\n",
        "        return abs((Y.to_numpy() - self.predict(x).to_numpy())).mean()\n",
        "    def MAPE(self, x, Y):\n",
        "        return abs((Y.to_numpy() - self.predict(x).to_numpy())/Y).mean().to_real()\n",
        "    def coefs(self):\n",
        "        return self.a\n",
        "    def fit(self, x, Y, alpha = 0.001, epsylon = 0.01, max_steps = 5000, intercept = True, reg = \"No\", lam = 0, rho = 0.0):\n",
        "        self.intercept = intercept\n",
        "        self.x = x.copy()\n",
        "        self.Y = Y.copy()\n",
        "        if intercept:\n",
        "            self.x.insert(0, \"intercept\", np.ones((self.x.shape[0],1)), allow_duplicates=True)\n",
        "        m = len(self.x)\n",
        "        self.a = np.zeros(self.x.shape[1]).reshape(self.x.shape[1], 1)\n",
        "        steps, errors = [], []\n",
        "        step = 0\n",
        "        for _ in tqdm(range(max_steps)):\n",
        "            dT_a = -2*self.x.T@(self.Y.to_numpy()-self.predict(self.x).to_numpy())/m\n",
        "            if reg == \"L1\":\n",
        "                dT_a += lam*(np.sign(self.a))\n",
        "            elif reg == \"L2\":\n",
        "                dT_a += 2*lam*((self.a))\n",
        "            elif reg == \"ElasticNet\":\n",
        "                dT_a += rho*lam*(np.sign(self.a)) + 2*(1-rho)*lam*((self.a))\n",
        "\n",
        "            self.a -= alpha*dT_a\n",
        "            new_error = self.MSE(self.x, self.Y)\n",
        "            step += 1\n",
        "            steps.append(step)\n",
        "            errors.append(new_error)\n",
        "            if new_error < epsylon:\n",
        "                break\n",
        "        return steps, errors"
      ]
    },
    {
      "cell_type": "code",
      "source": [
        "l = -5\n",
        "r = 1\n",
        "step = 5"
      ],
      "metadata": {
        "id": "F7jpx4Bmac-x"
      },
      "id": "F7jpx4Bmac-x",
      "execution_count": null,
      "outputs": []
    },
    {
      "cell_type": "code",
      "execution_count": null,
      "id": "941819a7",
      "metadata": {
        "scrolled": true,
        "colab": {
          "base_uri": "https://localhost:8080/"
        },
        "id": "941819a7",
        "outputId": "c0275b80-4ada-4138-9360-dbfdffa0b10a"
      },
      "outputs": [
        {
          "output_type": "stream",
          "name": "stderr",
          "text": [
            "100%|██████████| 5000/5000 [00:15<00:00, 318.10it/s]\n"
          ]
        },
        {
          "output_type": "stream",
          "name": "stdout",
          "text": [
            "2.613342639641059\n",
            "3.0985356094350935\n"
          ]
        },
        {
          "output_type": "stream",
          "name": "stderr",
          "text": [
            "100%|██████████| 5000/5000 [00:16<00:00, 304.47it/s]\n"
          ]
        },
        {
          "output_type": "stream",
          "name": "stdout",
          "text": [
            "2.617879035939997\n",
            "3.1045601099768456\n"
          ]
        },
        {
          "output_type": "stream",
          "name": "stderr",
          "text": [
            "100%|██████████| 5000/5000 [00:14<00:00, 337.51it/s]\n"
          ]
        },
        {
          "output_type": "stream",
          "name": "stdout",
          "text": [
            "2.762103214218914\n",
            "3.307624795458164\n"
          ]
        },
        {
          "output_type": "stream",
          "name": "stderr",
          "text": [
            "100%|██████████| 5000/5000 [00:15<00:00, 332.75it/s]\n"
          ]
        },
        {
          "output_type": "stream",
          "name": "stdout",
          "text": [
            "4.699266748367467\n",
            "5.243128521120105\n"
          ]
        },
        {
          "output_type": "stream",
          "name": "stderr",
          "text": [
            "100%|██████████| 5000/5000 [00:14<00:00, 339.18it/s]"
          ]
        },
        {
          "output_type": "stream",
          "name": "stdout",
          "text": [
            "13.418944570625897\n",
            "13.8429306208953\n"
          ]
        },
        {
          "output_type": "stream",
          "name": "stderr",
          "text": [
            "\n"
          ]
        }
      ],
      "source": [
        "train_scores, test_scores = [], []\n",
        "for l in np.logspace(l, r, step):\n",
        "    reg_regr = MultipleRegressionReg()\n",
        "    steps, errors = reg_regr.fit(x_train, y_train, intercept = True, alpha = 0.01, epsylon = 0.00001, max_steps = 5000, reg = \"ElasticNet\", lam = l, rho = 0.1)\n",
        "    x_i = x_train.copy()\n",
        "    x_i.insert(0, \"intercept\", np.ones((x_i.shape[0],1)), allow_duplicates=True)\n",
        "    train_scores.append(reg_regr.MAE(x_i, y_train))\n",
        "    x_i = x_test.copy()\n",
        "    x_i.insert(0, \"intercept\", np.ones((x_i.shape[0],1)), allow_duplicates=True)\n",
        "    test_scores.append(reg_regr.MAE(x_i, y_test))\n"
      ]
    },
    {
      "cell_type": "code",
      "source": [
        "plt.plot(train_scores, ':g')\n",
        "plt.plot(test_scores, 'r')\n",
        "plt.show()\n",
        "print(train_scores)\n",
        "print(test_scores)"
      ],
      "metadata": {
        "colab": {
          "base_uri": "https://localhost:8080/",
          "height": 464
        },
        "id": "TTmuavh_kNpS",
        "outputId": "930fabbd-966b-4a94-c317-fce5d7ee93a0"
      },
      "id": "TTmuavh_kNpS",
      "execution_count": null,
      "outputs": [
        {
          "output_type": "display_data",
          "data": {
            "text/plain": [
              "<Figure size 640x480 with 1 Axes>"
            ],
            "image/png": "[encoded data removed]"
          },
          "metadata": {}
        },
        {
          "output_type": "stream",
          "name": "stdout",
          "text": [
            "[2.613342639641059, 2.617879035939997, 2.762103214218914, 4.699266748367467, 13.418944570625897]\n",
            "[3.0985356094350935, 3.1045601099768456, 3.307624795458164, 5.243128521120105, 13.8429306208953]\n"
          ]
        }
      ]
    },
    {
      "cell_type": "code",
      "source": [
        "l = -5\n",
        "r = 1\n",
        "step = 5"
      ],
      "metadata": {
        "id": "Ymw9uKkDpjG7"
      },
      "id": "Ymw9uKkDpjG7",
      "execution_count": null,
      "outputs": []
    },
    {
      "cell_type": "code",
      "execution_count": null,
      "id": "64769a43",
      "metadata": {
        "colab": {
          "base_uri": "https://localhost:8080/"
        },
        "id": "64769a43",
        "outputId": "c5710076-a71c-4bd6-88b4-4780c3658f22"
      },
      "outputs": [
        {
          "output_type": "stream",
          "name": "stderr",
          "text": [
            "100%|██████████| 5000/5000 [00:15<00:00, 319.03it/s]\n"
          ]
        },
        {
          "output_type": "stream",
          "name": "stdout",
          "text": [
            "2.613286000233473\n",
            "3.098451467016563\n"
          ]
        },
        {
          "output_type": "stream",
          "name": "stderr",
          "text": [
            "100%|██████████| 5000/5000 [00:16<00:00, 299.31it/s]\n"
          ]
        },
        {
          "output_type": "stream",
          "name": "stdout",
          "text": [
            "2.6161184693519237\n",
            "3.10193196590883\n"
          ]
        },
        {
          "output_type": "stream",
          "name": "stderr",
          "text": [
            "100%|██████████| 5000/5000 [00:14<00:00, 342.72it/s]\n"
          ]
        },
        {
          "output_type": "stream",
          "name": "stdout",
          "text": [
            "2.7056035179825706\n",
            "3.2211306781810247\n"
          ]
        },
        {
          "output_type": "stream",
          "name": "stderr",
          "text": [
            "100%|██████████| 5000/5000 [00:14<00:00, 344.59it/s]\n"
          ]
        },
        {
          "output_type": "stream",
          "name": "stdout",
          "text": [
            "4.275489273777317\n",
            "4.826534805107251\n"
          ]
        },
        {
          "output_type": "stream",
          "name": "stderr",
          "text": [
            "100%|██████████| 5000/5000 [00:15<00:00, 330.43it/s]"
          ]
        },
        {
          "output_type": "stream",
          "name": "stdout",
          "text": [
            "12.842632929482425\n",
            "13.23730542201539\n"
          ]
        },
        {
          "output_type": "stream",
          "name": "stderr",
          "text": [
            "\n"
          ]
        }
      ],
      "source": [
        "train_scores, test_scores = [], []\n",
        "for l in np.logspace(l, r, step):\n",
        "    reg_regr = MultipleRegressionReg()\n",
        "    steps, errors = reg_regr.fit(x_train, y_train, intercept = True, alpha = 0.01, epsylon = 0.00001, max_steps = 5000, reg = \"ElasticNet\", lam = l, rho = 0.5)\n",
        "    x_i = x_train.copy()\n",
        "    x_i.insert(0, \"intercept\", np.ones((x_i.shape[0],1)), allow_duplicates=True)\n",
        "    train_scores.append(reg_regr.MAE(x_i, y_train))\n",
        "    x_i = x_test.copy()\n",
        "    x_i.insert(0, \"intercept\", np.ones((x_i.shape[0],1)), allow_duplicates=True)\n",
        "    test_scores.append(reg_regr.MAE(x_i, y_test))\n"
      ]
    },
    {
      "cell_type": "code",
      "source": [
        "plt.plot(train_scores, ':g')\n",
        "plt.plot(test_scores, 'r')\n",
        "plt.show()\n",
        "print(train_scores)\n",
        "print(test_scores)"
      ],
      "metadata": {
        "id": "EvaOB9OrqMwC",
        "colab": {
          "base_uri": "https://localhost:8080/",
          "height": 464
        },
        "outputId": "d7a7a46e-b468-4d7a-b7a8-2f5a9a666f60"
      },
      "id": "EvaOB9OrqMwC",
      "execution_count": null,
      "outputs": [
        {
          "output_type": "display_data",
          "data": {
            "text/plain": [
              "<Figure size 640x480 with 1 Axes>"
            ],
            "image/png": "[encoded data removed]"
          },
          "metadata": {}
        },
        {
          "output_type": "stream",
          "name": "stdout",
          "text": [
            "[2.613286000233473, 2.6161184693519237, 2.7056035179825706, 4.275489273777317, 12.842632929482425]\n",
            "[3.098451467016563, 3.10193196590883, 3.2211306781810247, 4.826534805107251, 13.23730542201539]\n"
          ]
        }
      ]
    },
    {
      "cell_type": "code",
      "source": [
        "l = -5\n",
        "r = 1\n",
        "step = 5"
      ],
      "metadata": {
        "id": "NZuHndQkpxRb"
      },
      "id": "NZuHndQkpxRb",
      "execution_count": null,
      "outputs": []
    },
    {
      "cell_type": "code",
      "execution_count": null,
      "id": "3cf3e4cc",
      "metadata": {
        "colab": {
          "base_uri": "https://localhost:8080/"
        },
        "id": "3cf3e4cc",
        "outputId": "2214f05d-9d38-4c3b-ad30-13f4e08b872d"
      },
      "outputs": [
        {
          "output_type": "stream",
          "name": "stderr",
          "text": [
            "100%|██████████| 5000/5000 [00:16<00:00, 310.03it/s]\n"
          ]
        },
        {
          "output_type": "stream",
          "name": "stdout",
          "text": [
            "2.6132222608521394\n",
            "3.098356777234373\n"
          ]
        },
        {
          "output_type": "stream",
          "name": "stderr",
          "text": [
            "100%|██████████| 5000/5000 [00:15<00:00, 322.37it/s]\n"
          ]
        },
        {
          "output_type": "stream",
          "name": "stdout",
          "text": [
            "2.614120007271811\n",
            "3.098947664042142\n"
          ]
        },
        {
          "output_type": "stream",
          "name": "stderr",
          "text": [
            "100%|██████████| 5000/5000 [00:27<00:00, 184.16it/s]\n"
          ]
        },
        {
          "output_type": "stream",
          "name": "stdout",
          "text": [
            "2.644343513816682\n",
            "3.1199654782628596\n"
          ]
        },
        {
          "output_type": "stream",
          "name": "stderr",
          "text": [
            "100%|██████████| 5000/5000 [00:15<00:00, 333.18it/s]\n"
          ]
        },
        {
          "output_type": "stream",
          "name": "stdout",
          "text": [
            "3.381106752038991\n",
            "3.7498881544358307\n"
          ]
        },
        {
          "output_type": "stream",
          "name": "stderr",
          "text": [
            "100%|██████████| 5000/5000 [00:15<00:00, 326.05it/s]"
          ]
        },
        {
          "output_type": "stream",
          "name": "stdout",
          "text": [
            "8.818800024783082\n",
            "9.109087365850426\n"
          ]
        },
        {
          "output_type": "stream",
          "name": "stderr",
          "text": [
            "\n"
          ]
        }
      ],
      "source": [
        "train_scores, test_scores = [], []\n",
        "for l in np.logspace(l, r, step):\n",
        "    reg_regr = MultipleRegressionReg()\n",
        "    steps, errors = reg_regr.fit(x_train, y_train, intercept = True, alpha = 0.01, epsylon = 0.00001, max_steps = 5000, reg = \"ElasticNet\", lam = l, rho = 0.95)\n",
        "    x_i = x_train.copy()\n",
        "    x_i.insert(0, \"intercept\", np.ones((x_i.shape[0],1)), allow_duplicates=True)\n",
        "    train_scores.append(reg_regr.MAE(x_i, y_train))\n",
        "    x_i = x_test.copy()\n",
        "    x_i.insert(0, \"intercept\", np.ones((x_i.shape[0],1)), allow_duplicates=True)\n",
        "    test_scores.append(reg_regr.MAE(x_i, y_test))\n"
      ]
    },
    {
      "cell_type": "code",
      "source": [
        "plt.plot(train_scores, ':g')\n",
        "plt.plot(test_scores, 'r')\n",
        "plt.show()\n",
        "print(train_scores)\n",
        "print(test_scores)"
      ],
      "metadata": {
        "id": "jU8C9FG3qQoe",
        "colab": {
          "base_uri": "https://localhost:8080/",
          "height": 464
        },
        "outputId": "563c7c60-c085-4602-a066-f4e69a7954fb"
      },
      "id": "jU8C9FG3qQoe",
      "execution_count": null,
      "outputs": [
        {
          "output_type": "display_data",
          "data": {
            "text/plain": [
              "<Figure size 640x480 with 1 Axes>"
            ],
            "image/png": "[encoded data removed]"
          },
          "metadata": {}
        },
        {
          "output_type": "stream",
          "name": "stdout",
          "text": [
            "[2.6132222608521394, 2.614120007271811, 2.644343513816682, 3.381106752038991, 8.818800024783082]\n",
            "[3.098356777234373, 3.098947664042142, 3.1199654782628596, 3.7498881544358307, 9.109087365850426]\n"
          ]
        }
      ]
    },
    {
      "cell_type": "code",
      "source": [
        "l = -5\n",
        "r = 1\n",
        "step = 5"
      ],
      "metadata": {
        "id": "9MEcQLLYpyyD"
      },
      "id": "9MEcQLLYpyyD",
      "execution_count": null,
      "outputs": []
    },
    {
      "cell_type": "code",
      "execution_count": null,
      "id": "54bef5b2",
      "metadata": {
        "id": "54bef5b2",
        "colab": {
          "base_uri": "https://localhost:8080/"
        },
        "outputId": "d764147c-8aaa-48de-c9a2-631c6a27c4eb"
      },
      "outputs": [
        {
          "output_type": "stream",
          "name": "stderr",
          "text": [
            "100%|██████████| 5000/5000 [00:15<00:00, 314.54it/s]\n"
          ]
        },
        {
          "output_type": "stream",
          "name": "stdout",
          "text": [
            "2.613215178989156\n",
            "3.09834625412063\n"
          ]
        },
        {
          "output_type": "stream",
          "name": "stderr",
          "text": [
            "100%|██████████| 5000/5000 [00:15<00:00, 323.84it/s]\n"
          ]
        },
        {
          "output_type": "stream",
          "name": "stdout",
          "text": [
            "2.613896820316059\n",
            "3.098614260776289\n"
          ]
        },
        {
          "output_type": "stream",
          "name": "stderr",
          "text": [
            "100%|██████████| 5000/5000 [00:13<00:00, 364.58it/s]\n"
          ]
        },
        {
          "output_type": "stream",
          "name": "stdout",
          "text": [
            "2.6377413954096887\n",
            "3.1085166483898545\n"
          ]
        },
        {
          "output_type": "stream",
          "name": "stderr",
          "text": [
            "100%|██████████| 5000/5000 [00:13<00:00, 360.56it/s]\n"
          ]
        },
        {
          "output_type": "stream",
          "name": "stdout",
          "text": [
            "3.2537127359626568\n",
            "3.5260480332700195\n"
          ]
        },
        {
          "output_type": "stream",
          "name": "stderr",
          "text": [
            "100%|██████████| 5000/5000 [00:14<00:00, 354.40it/s]"
          ]
        },
        {
          "output_type": "stream",
          "name": "stdout",
          "text": [
            "7.17995088033619\n",
            "7.3537559309739065\n"
          ]
        },
        {
          "output_type": "stream",
          "name": "stderr",
          "text": [
            "\n"
          ]
        }
      ],
      "source": [
        "train_scores, test_scores = [], []\n",
        "for l in np.logspace(l, r, step):\n",
        "    reg_regr = MultipleRegressionReg()\n",
        "    steps, errors = reg_regr.fit(x_train, y_train, intercept = True, alpha = 0.01, epsylon = 0.00001, max_steps = 5000, reg = \"L1\", lam = l)\n",
        "    x_i = x_train.copy()\n",
        "    x_i.insert(0, \"intercept\", np.ones((x_i.shape[0],1)), allow_duplicates=True)\n",
        "    train_scores.append(reg_regr.MAE(x_i, y_train))\n",
        "    x_i = x_test.copy()\n",
        "    x_i.insert(0, \"intercept\", np.ones((x_i.shape[0],1)), allow_duplicates=True)\n",
        "    test_scores.append(reg_regr.MAE(x_i, y_test))\n"
      ]
    },
    {
      "cell_type": "code",
      "source": [
        "plt.plot(train_scores, ':g')\n",
        "plt.plot(test_scores, 'r')\n",
        "plt.show()\n",
        "print(train_scores)\n",
        "print(test_scores)"
      ],
      "metadata": {
        "id": "dN9j7bcbqSQq",
        "colab": {
          "base_uri": "https://localhost:8080/",
          "height": 464
        },
        "outputId": "f3775fec-7711-4569-e093-854588a95bd3"
      },
      "id": "dN9j7bcbqSQq",
      "execution_count": null,
      "outputs": [
        {
          "output_type": "display_data",
          "data": {
            "text/plain": [
              "<Figure size 640x480 with 1 Axes>"
            ],
            "image/png": "[encoded data removed]"
          },
          "metadata": {}
        },
        {
          "output_type": "stream",
          "name": "stdout",
          "text": [
            "[2.613215178989156, 2.613896820316059, 2.6377413954096887, 3.2537127359626568, 7.17995088033619]\n",
            "[3.09834625412063, 3.098614260776289, 3.1085166483898545, 3.5260480332700195, 7.3537559309739065]\n"
          ]
        }
      ]
    },
    {
      "cell_type": "code",
      "source": [
        "l = -5\n",
        "r = 1\n",
        "step = 5"
      ],
      "metadata": {
        "id": "9fKcEL1RpzkT"
      },
      "id": "9fKcEL1RpzkT",
      "execution_count": null,
      "outputs": []
    },
    {
      "cell_type": "code",
      "execution_count": null,
      "id": "e4e47eca",
      "metadata": {
        "id": "e4e47eca",
        "colab": {
          "base_uri": "https://localhost:8080/"
        },
        "outputId": "e7b216bd-0db1-4331-ce60-5ed266288f0a"
      },
      "outputs": [
        {
          "output_type": "stream",
          "name": "stderr",
          "text": [
            "100%|██████████| 5000/5000 [00:12<00:00, 387.06it/s]\n"
          ]
        },
        {
          "output_type": "stream",
          "name": "stdout",
          "text": [
            "2.6133567970902205\n",
            "3.0985566413088117\n"
          ]
        },
        {
          "output_type": "stream",
          "name": "stderr",
          "text": [
            "100%|██████████| 5000/5000 [00:12<00:00, 392.27it/s]\n"
          ]
        },
        {
          "output_type": "stream",
          "name": "stdout",
          "text": [
            "2.618316846438141\n",
            "3.10521345299627\n"
          ]
        },
        {
          "output_type": "stream",
          "name": "stderr",
          "text": [
            "100%|██████████| 5000/5000 [00:13<00:00, 383.92it/s]\n"
          ]
        },
        {
          "output_type": "stream",
          "name": "stdout",
          "text": [
            "2.7754328080779285\n",
            "3.329594475887885\n"
          ]
        },
        {
          "output_type": "stream",
          "name": "stderr",
          "text": [
            "100%|██████████| 5000/5000 [00:12<00:00, 388.33it/s]\n"
          ]
        },
        {
          "output_type": "stream",
          "name": "stdout",
          "text": [
            "4.787572811979507\n",
            "5.329537560415334\n"
          ]
        },
        {
          "output_type": "stream",
          "name": "stderr",
          "text": [
            "100%|██████████| 5000/5000 [00:12<00:00, 389.60it/s]"
          ]
        },
        {
          "output_type": "stream",
          "name": "stdout",
          "text": [
            "13.445128244423385\n",
            "13.871204263122044\n"
          ]
        },
        {
          "output_type": "stream",
          "name": "stderr",
          "text": [
            "\n"
          ]
        }
      ],
      "source": [
        "train_scores, test_scores = [], []\n",
        "for l in np.logspace(l, r, step):\n",
        "    reg_regr = MultipleRegressionReg()\n",
        "    steps, errors = reg_regr.fit(x_train, y_train, intercept = True, alpha = 0.01, epsylon = 0.00001, max_steps = 5000, reg = \"L2\", lam = l)\n",
        "    x_i = x_train.copy()\n",
        "    x_i.insert(0, \"intercept\", np.ones((x_i.shape[0],1)), allow_duplicates=True)\n",
        "    train_scores.append(reg_regr.MAE(x_i, y_train))\n",
        "    x_i = x_test.copy()\n",
        "    x_i.insert(0, \"intercept\", np.ones((x_i.shape[0],1)), allow_duplicates=True)\n",
        "    test_scores.append(reg_regr.MAE(x_i, y_test))\n",
        "\n"
      ]
    },
    {
      "cell_type": "code",
      "source": [
        "plt.plot(train_scores, ':g')\n",
        "plt.plot(test_scores, 'r')\n",
        "plt.show()\n",
        "print(train_scores)\n",
        "print(test_scores)"
      ],
      "metadata": {
        "id": "v4azVOU9qTkO",
        "colab": {
          "base_uri": "https://localhost:8080/",
          "height": 464
        },
        "outputId": "f55216d1-effb-43f2-8f18-2a3d480b01d8"
      },
      "id": "v4azVOU9qTkO",
      "execution_count": null,
      "outputs": [
        {
          "output_type": "display_data",
          "data": {
            "text/plain": [
              "<Figure size 640x480 with 1 Axes>"
            ],
            "image/png": "[encoded data removed]"
          },
          "metadata": {}
        },
        {
          "output_type": "stream",
          "name": "stdout",
          "text": [
            "[2.6133567970902205, 2.618316846438141, 2.7754328080779285, 4.787572811979507, 13.445128244423385]\n",
            "[3.0985566413088117, 3.10521345299627, 3.329594475887885, 5.329537560415334, 13.871204263122044]\n"
          ]
        }
      ]
    }
  ],
  "metadata": {
    "kernelspec": {
      "display_name": "Python 3",
      "name": "python3"
    },
    "language_info": {
      "codemirror_mode": {
        "name": "ipython",
        "version": 3
      },
      "file_extension": ".py",
      "mimetype": "text/x-python",
      "name": "python",
      "nbconvert_exporter": "python",
      "pygments_lexer": "ipython3",
      "version": "3.11.2"
    },
    "colab": {
      "provenance": [],
      "gpuType": "T4"
    },
    "accelerator": "GPU"
  },
  "nbformat": 4,
  "nbformat_minor": 5
}