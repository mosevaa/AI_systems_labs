{
  "cells": [
    {
      "cell_type": "markdown",
      "id": "1448d8d5",
      "metadata": {
        "id": "1448d8d5"
      },
      "source": [
        "Парная линейная регрессия\n",
        "Цель работы\n",
        "    Познакомиться с моделью парной линейной регрессии регрессии и методом градиентного спуска.\n",
        "\n",
        "Содержание работы\n",
        "Найти оценки параметров модели парной линейной регрессии прямыми вычислениями и палучить с помощью модели прогнозы результативного прознака.\n",
        "Найти оценки параметров модели парной линейной регрессии с использованием метода градиентного спуска.\n",
        "Оценить качество построенной модели, сравнив на графике обучающую выборку и прогнозы.\n",
        "Построить кривые обучения."
      ]
    },
    {
      "cell_type": "code",
      "execution_count": 145,
      "id": "c828a516",
      "metadata": {
        "ExecuteTime": {
          "end_time": "2023-09-07T13:43:16.376325900Z",
          "start_time": "2023-09-07T13:43:13.524663300Z"
        },
        "id": "c828a516"
      },
      "outputs": [],
      "source": [
        "#Загрузим необходимые библиотеки\n",
        "import numpy as np\n",
        "import pandas as pd\n",
        "import matplotlib.pyplot as plt"
      ]
    },
    {
      "cell_type": "code",
      "execution_count": 146,
      "id": "7ca5b3d4",
      "metadata": {
        "ExecuteTime": {
          "end_time": "2023-09-07T13:43:25.119758900Z",
          "start_time": "2023-09-07T13:43:25.087757100Z"
        },
        "colab": {
          "base_uri": "https://localhost:8080/",
          "height": 52
        },
        "id": "7ca5b3d4",
        "outputId": "55141d05-dca2-4e8d-e5b5-924ffcbec8c0"
      },
      "outputs": [
        {
          "output_type": "display_data",
          "data": {
            "text/plain": [
              "array([3, 5, 7, 6, 9])"
            ]
          },
          "metadata": {}
        },
        {
          "output_type": "display_data",
          "data": {
            "text/plain": [
              "array([ 3,  7, 11, 14, 15])"
            ]
          },
          "metadata": {}
        }
      ],
      "source": [
        "#Исходные данные: x - расходы на рекламу, Y - объемы продаж\n",
        "x = np.array([3, 5, 7, 6, 9])\n",
        "Y = np.array([3, 7, 11, 14, 15])\n",
        "display(x, Y)"
      ]
    },
    {
      "cell_type": "code",
      "execution_count": 147,
      "id": "0876841d",
      "metadata": {
        "ExecuteTime": {
          "end_time": "2023-09-07T13:43:28.759684900Z",
          "start_time": "2023-09-07T13:43:28.618904Z"
        },
        "colab": {
          "base_uri": "https://localhost:8080/",
          "height": 430
        },
        "id": "0876841d",
        "outputId": "be364d5e-055f-4286-ac59-0a1f7efe939c"
      },
      "outputs": [
        {
          "output_type": "display_data",
          "data": {
            "text/plain": [
              "<Figure size 640x480 with 1 Axes>"
            ],
            "image/png": "[encoded data removed]"
          },
          "metadata": {}
        }
      ],
      "source": [
        "#Изобразим их на графике\n",
        "plt.figure()\n",
        "plt.scatter(x, Y)\n",
        "plt.show()"
      ]
    },
    {
      "cell_type": "code",
      "execution_count": 148,
      "id": "eda62fa2",
      "metadata": {
        "ExecuteTime": {
          "end_time": "2023-09-07T13:43:41.623849600Z",
          "start_time": "2023-09-07T13:43:41.616849400Z"
        },
        "colab": {
          "base_uri": "https://localhost:8080/"
        },
        "id": "eda62fa2",
        "outputId": "f05bc6cf-8fdd-4d0d-9c43-cc782cd0a1e2"
      },
      "outputs": [
        {
          "output_type": "stream",
          "name": "stdout",
          "text": [
            "Модель линейной регрессии: Y^ =  -2.0  +  2.0 * x\n"
          ]
        }
      ],
      "source": [
        "#Вычислим оценки коэффициентов парной линейной регрессии по формулам\n",
        "a1 = ((x - x.mean())*(Y - Y.mean())).mean()/((x - x.mean())**2).mean()\n",
        "a0 = Y.mean() - a1*x.mean()\n",
        "print(\"Модель линейной регрессии: Y^ = \", a0, \" + \", a1, \"* x\")"
      ]
    },
    {
      "cell_type": "code",
      "execution_count": 149,
      "id": "ed9bedbd",
      "metadata": {
        "ExecuteTime": {
          "end_time": "2023-09-07T13:43:46.600713900Z",
          "start_time": "2023-09-07T13:43:46.584714400Z"
        },
        "colab": {
          "base_uri": "https://localhost:8080/"
        },
        "id": "ed9bedbd",
        "outputId": "71c91586-2384-4d36-99f2-397e98fac981"
      },
      "outputs": [
        {
          "output_type": "stream",
          "name": "stdout",
          "text": [
            "[3. 4. 5. 6. 7. 8. 9.]\n",
            "[ 4.  6.  8. 10. 12. 14. 16.]\n"
          ]
        }
      ],
      "source": [
        "#Дадим серию прогнозов Y^ для x от 3 до 9 с шагом 1\n",
        "x_space = np.linspace(3, 9, 7)\n",
        "print(x_space)\n",
        "Y_pred = a0 + a1*x_space\n",
        "print(Y_pred)"
      ]
    },
    {
      "cell_type": "code",
      "execution_count": 150,
      "id": "f8bdf836",
      "metadata": {
        "ExecuteTime": {
          "end_time": "2023-09-07T13:43:49.127157200Z",
          "start_time": "2023-09-07T13:43:48.989691Z"
        },
        "colab": {
          "base_uri": "https://localhost:8080/",
          "height": 461
        },
        "id": "f8bdf836",
        "outputId": "e9969a21-956b-4c29-fdd1-9a4c52438c6d"
      },
      "outputs": [
        {
          "output_type": "execute_result",
          "data": {
            "text/plain": [
              "[<matplotlib.lines.Line2D at 0x7918444ebfa0>]"
            ]
          },
          "metadata": {},
          "execution_count": 150
        },
        {
          "output_type": "display_data",
          "data": {
            "text/plain": [
              "<Figure size 640x480 with 1 Axes>"
            ],
            "image/png": "[encoded data removed]"
          },
          "metadata": {}
        }
      ],
      "source": [
        "#Изобразим на графике исходные данные и прогнозы\n",
        "fig  = plt.figure()\n",
        "ax = fig.add_axes([0.1, 0.1, 0.8, 0.8])\n",
        "ax.scatter(x, Y)\n",
        "ax.plot(x_space, Y_pred, 'r')\n",
        "#ax.scatter(x_space, Y_pred)"
      ]
    },
    {
      "cell_type": "code",
      "execution_count": 151,
      "id": "b7e6756b",
      "metadata": {
        "ExecuteTime": {
          "end_time": "2023-09-07T13:43:51.760594400Z",
          "start_time": "2023-09-07T13:43:51.744593100Z"
        },
        "id": "b7e6756b"
      },
      "outputs": [],
      "source": [
        "#Реализуем шаг градиентного спуска в модели парной лдинейной регрессии\n",
        "class SimpleRegression(object):\n",
        "    def __init__(self):\n",
        "        self.a0 = 0\n",
        "        self.a1 = 0\n",
        "    def predict(self, x):\n",
        "        return self.a0 + self.a1*x\n",
        "    def MSE(self, x, Y):\n",
        "        return ((self.predict(x)-Y)**2).mean()\n",
        "    def fit(self, x, Y):\n",
        "        alpha = 0.1\n",
        "        dT_a0 = -2*sum((Y -self.predict(x)))\n",
        "        dT_a1 = -2*sum((Y -self.predict(x))*x)\n",
        "        self.a0 -= alpha*dT_a0\n",
        "        self.a1 -= alpha*dT_a1"
      ]
    },
    {
      "cell_type": "code",
      "execution_count": 152,
      "id": "05a94fdd",
      "metadata": {
        "ExecuteTime": {
          "end_time": "2023-09-07T13:43:52.559871600Z",
          "start_time": "2023-09-07T13:43:52.535870600Z"
        },
        "colab": {
          "base_uri": "https://localhost:8080/"
        },
        "id": "05a94fdd",
        "outputId": "f051e7ac-c310-4a08-d795-24f708f8c0ed"
      },
      "outputs": [
        {
          "output_type": "stream",
          "name": "stdout",
          "text": [
            "0\n",
            "0\n",
            "0\n",
            "0\n",
            "0\n",
            "120.0\n"
          ]
        }
      ],
      "source": [
        "#Получим прогнозы до градиентного спуска с начальными значениями параметров\n",
        "regr = SimpleRegression()\n",
        "print(regr.predict(3))\n",
        "print(regr.predict(5))\n",
        "print(regr.predict(7))\n",
        "print(regr.predict(6))\n",
        "print(regr.predict(9))\n",
        "print(regr.MSE(x, Y))"
      ]
    },
    {
      "cell_type": "code",
      "execution_count": 153,
      "id": "2e5ddf12",
      "metadata": {
        "scrolled": true,
        "ExecuteTime": {
          "end_time": "2023-09-07T13:43:56.662461300Z",
          "start_time": "2023-09-07T13:43:56.516033400Z"
        },
        "colab": {
          "base_uri": "https://localhost:8080/",
          "height": 461
        },
        "id": "2e5ddf12",
        "outputId": "282a4379-aa03-4a25-cd8a-dbe3418fcce5"
      },
      "outputs": [
        {
          "output_type": "execute_result",
          "data": {
            "text/plain": [
              "[<matplotlib.lines.Line2D at 0x79184450d450>]"
            ]
          },
          "metadata": {},
          "execution_count": 153
        },
        {
          "output_type": "display_data",
          "data": {
            "text/plain": [
              "<Figure size 640x480 with 1 Axes>"
            ],
            "image/png": "[encoded data removed]"
          },
          "metadata": {}
        }
      ],
      "source": [
        "#Выведем прогнозы до градиентного спуска на графике\n",
        "x_space = np.linspace(3, 9, 7)\n",
        "Y_pred = regr.predict(x_space)\n",
        "fig = plt.figure()\n",
        "ax = fig.add_axes([0.1, 0.1, 0.8, 0.8])\n",
        "ax.scatter(x, Y)\n",
        "ax.plot(x_space, Y_pred, 'r')"
      ]
    },
    {
      "cell_type": "code",
      "execution_count": 154,
      "id": "fdd288dc",
      "metadata": {
        "ExecuteTime": {
          "end_time": "2023-09-07T13:43:59.245565300Z",
          "start_time": "2023-09-07T13:43:59.114483100Z"
        },
        "colab": {
          "base_uri": "https://localhost:8080/",
          "height": 479
        },
        "id": "fdd288dc",
        "outputId": "a6ee67da-7a14-4f2c-c065-b1dd2dccc5d3"
      },
      "outputs": [
        {
          "output_type": "stream",
          "name": "stdout",
          "text": [
            "MSE после первого шага градиентного спуска:  183892.0\n"
          ]
        },
        {
          "output_type": "execute_result",
          "data": {
            "text/plain": [
              "[<matplotlib.lines.Line2D at 0x791848b399c0>]"
            ]
          },
          "metadata": {},
          "execution_count": 154
        },
        {
          "output_type": "display_data",
          "data": {
            "text/plain": [
              "<Figure size 640x480 with 1 Axes>"
            ],
            "image/png": "[encoded data removed]"
          },
          "metadata": {}
        }
      ],
      "source": [
        "#Реализуем шаг градиентного спуска\n",
        "regr.fit(x, Y)\n",
        "print(\"MSE после первого шага градиентного спуска: \", regr.MSE(x, Y))\n",
        "Y_pred = regr.predict(x_space)\n",
        "fig = plt.figure()\n",
        "ax = fig.add_axes([0.1, 0.1, 0.8, 0.8])\n",
        "ax.scatter(x, Y)\n",
        "ax.plot(x_space, Y_pred, 'r')"
      ]
    },
    {
      "cell_type": "code",
      "execution_count": 155,
      "id": "557573d9",
      "metadata": {
        "ExecuteTime": {
          "end_time": "2023-09-07T13:44:02.378773Z",
          "start_time": "2023-09-07T13:44:02.354762500Z"
        },
        "id": "557573d9"
      },
      "outputs": [],
      "source": [
        "#Реализуем цикл градиентного спуска\n",
        "class SimpleRegression(object):\n",
        "    def __init__(self):\n",
        "        self.a0 = 0\n",
        "        self.a1 = 0\n",
        "    def predict(self, x):\n",
        "        return self.a0 + self.a1*x\n",
        "    def MSE(self, x, Y):\n",
        "        return ((Y - self.predict(x))**2).mean()\n",
        "    def MAE(self, x, Y):\n",
        "        return abs(Y - self.predict(x)).mean()\n",
        "    def MAPE(self, x, Y):\n",
        "        return abs((Y - self.predict(x))/Y).mean()\n",
        "    def fit(self, x, Y, alpha = 0.001, epsylon = 0.01, max_steps = 5000):\n",
        "        steps, errors = [], []\n",
        "        step = 0\n",
        "        for _ in range(max_steps):\n",
        "            dT_a0 = -2*sum((Y -self.predict(x)))\n",
        "            dT_a1 = -2*sum((Y -self.predict(x))*x)\n",
        "            self.a0 -= alpha*dT_a0\n",
        "            self.a1 -= alpha*dT_a1\n",
        "            new_error = self.MSE(x, Y)\n",
        "            step += 1\n",
        "            steps.append(step)\n",
        "            errors.append(new_error)\n",
        "            if new_error < epsylon:\n",
        "                break\n",
        "        return steps, errors"
      ]
    },
    {
      "cell_type": "code",
      "execution_count": 156,
      "id": "b67c924a",
      "metadata": {
        "ExecuteTime": {
          "end_time": "2023-09-07T13:44:11.396977700Z",
          "start_time": "2023-09-07T13:44:11.383979Z"
        },
        "id": "b67c924a"
      },
      "outputs": [],
      "source": [
        "#Запустим цикл градиентного спуска с заданной точностью 5\n",
        "regr = SimpleRegression()\n",
        "steps, errors = regr.fit(x, Y, alpha = 0.001, epsylon = 5)"
      ]
    },
    {
      "cell_type": "code",
      "execution_count": 157,
      "id": "bceab488",
      "metadata": {
        "ExecuteTime": {
          "end_time": "2023-09-07T13:44:12.252422200Z",
          "start_time": "2023-09-07T13:44:12.123018600Z"
        },
        "colab": {
          "base_uri": "https://localhost:8080/",
          "height": 565
        },
        "id": "bceab488",
        "outputId": "9774c416-724d-43a8-9a58-d9a0b94873c7"
      },
      "outputs": [
        {
          "output_type": "stream",
          "name": "stdout",
          "text": [
            "5.004697916218\n",
            "8.190462542210001\n",
            "11.376227168202002\n",
            "9.783344855206002\n",
            "14.561991794194002\n",
            "MSE после градиентного спуска:  4.709918696051655\n"
          ]
        },
        {
          "output_type": "execute_result",
          "data": {
            "text/plain": [
              "[<matplotlib.lines.Line2D at 0x791848ba2d70>]"
            ]
          },
          "metadata": {},
          "execution_count": 157
        },
        {
          "output_type": "display_data",
          "data": {
            "text/plain": [
              "<Figure size 640x480 with 1 Axes>"
            ],
            "image/png": "[encoded data removed]"
          },
          "metadata": {}
        }
      ],
      "source": [
        "#Выведем график  прогнозов и вычислим MSE\n",
        "print(regr.predict(3))\n",
        "print(regr.predict(5))\n",
        "print(regr.predict(7))\n",
        "print(regr.predict(6))\n",
        "print(regr.predict(9))\n",
        "print(\"MSE после градиентного спуска: \", regr.MSE(x, Y))\n",
        "Y_pred = regr.predict(x_space)\n",
        "fig = plt.figure()\n",
        "ax = fig.add_axes([0.1, 0.1, 0.8, 0.8])\n",
        "ax.scatter(x, Y)\n",
        "ax.plot(x_space, Y_pred, 'r')"
      ]
    },
    {
      "cell_type": "code",
      "execution_count": 158,
      "id": "7dc3b523",
      "metadata": {
        "ExecuteTime": {
          "end_time": "2023-09-07T13:44:16.929575200Z",
          "start_time": "2023-09-07T13:44:16.810433300Z"
        },
        "colab": {
          "base_uri": "https://localhost:8080/",
          "height": 447
        },
        "id": "7dc3b523",
        "outputId": "180240a8-ac3b-4e2b-89e2-8fd50342de8b"
      },
      "outputs": [
        {
          "output_type": "execute_result",
          "data": {
            "text/plain": [
              "[<matplotlib.lines.Line2D at 0x791848c01600>]"
            ]
          },
          "metadata": {},
          "execution_count": 158
        },
        {
          "output_type": "display_data",
          "data": {
            "text/plain": [
              "<Figure size 640x480 with 1 Axes>"
            ],
            "image/png": "[encoded data removed]"
          },
          "metadata": {}
        }
      ],
      "source": [
        "#Выведем график изменения MSE в процессе градиентного спуска\n",
        "plt.figure()\n",
        "plt.plot(steps, errors)"
      ]
    },
    {
      "cell_type": "code",
      "execution_count": 159,
      "id": "1acf13e8",
      "metadata": {
        "ExecuteTime": {
          "end_time": "2023-09-07T13:44:20.537802Z",
          "start_time": "2023-09-07T13:44:20.445775300Z"
        },
        "id": "1acf13e8"
      },
      "outputs": [],
      "source": [
        "#Запустим цикл градиентного спуска с заданной точностью 0.05\n",
        "regr = SimpleRegression()\n",
        "steps, errors = regr.fit(x, Y, alpha = 0.001, epsylon = 0.05)"
      ]
    },
    {
      "cell_type": "code",
      "execution_count": 160,
      "id": "7fc95a34",
      "metadata": {
        "ExecuteTime": {
          "end_time": "2023-09-07T13:44:21.489295500Z",
          "start_time": "2023-09-07T13:44:21.353784700Z"
        },
        "colab": {
          "base_uri": "https://localhost:8080/",
          "height": 479
        },
        "id": "7fc95a34",
        "outputId": "eb190004-7cb6-4bf7-8c34-4da63ebc35f6"
      },
      "outputs": [
        {
          "output_type": "stream",
          "name": "stdout",
          "text": [
            "MSE после градиентного спуска:  4.000028517306817\n"
          ]
        },
        {
          "output_type": "execute_result",
          "data": {
            "text/plain": [
              "[<matplotlib.lines.Line2D at 0x791848a7ed70>]"
            ]
          },
          "metadata": {},
          "execution_count": 160
        },
        {
          "output_type": "display_data",
          "data": {
            "text/plain": [
              "<Figure size 640x480 with 1 Axes>"
            ],
            "image/png": "[encoded data removed]"
          },
          "metadata": {}
        }
      ],
      "source": [
        "#Выведем график прогнозов и вычислим MSE\n",
        "print(\"MSE после градиентного спуска: \", regr.MSE(x, Y))\n",
        "Y_pred = regr.predict(x_space)\n",
        "fig = plt.figure()\n",
        "ax = fig.add_axes([0.1, 0.1, 0.8, 0.8])\n",
        "ax.scatter(x, Y)\n",
        "ax.plot(x_space, Y_pred, 'r')"
      ]
    },
    {
      "cell_type": "code",
      "execution_count": 161,
      "id": "174224d7",
      "metadata": {
        "ExecuteTime": {
          "end_time": "2023-09-07T13:44:24.063853600Z",
          "start_time": "2023-09-07T13:44:23.936763900Z"
        },
        "colab": {
          "base_uri": "https://localhost:8080/",
          "height": 447
        },
        "id": "174224d7",
        "outputId": "7da6e6d3-9ccd-47bb-8a36-8b3c7a434fd6"
      },
      "outputs": [
        {
          "output_type": "execute_result",
          "data": {
            "text/plain": [
              "[<matplotlib.lines.Line2D at 0x791848afa2c0>]"
            ]
          },
          "metadata": {},
          "execution_count": 161
        },
        {
          "output_type": "display_data",
          "data": {
            "text/plain": [
              "<Figure size 640x480 with 1 Axes>"
            ],
            "image/png": "[encoded data removed]"
          },
          "metadata": {}
        }
      ],
      "source": [
        "#Выведем график изменения MSE в процессе градиентного спуска\n",
        "plt.figure()\n",
        "plt.plot(steps, errors)"
      ]
    },
    {
      "cell_type": "code",
      "execution_count": 162,
      "id": "e36b747e",
      "metadata": {
        "ExecuteTime": {
          "end_time": "2023-09-07T13:44:26.525201Z",
          "start_time": "2023-09-07T13:44:26.271421900Z"
        },
        "colab": {
          "base_uri": "https://localhost:8080/",
          "height": 465
        },
        "id": "e36b747e",
        "outputId": "70b96954-a977-41a5-9d7a-e64fa80d4cbf"
      },
      "outputs": [
        {
          "output_type": "stream",
          "name": "stdout",
          "text": [
            "MSE после градиентного спуска:  4.1903709155046345\n"
          ]
        },
        {
          "output_type": "execute_result",
          "data": {
            "text/plain": [
              "[<matplotlib.lines.Line2D at 0x7918489c7700>]"
            ]
          },
          "metadata": {},
          "execution_count": 162
        },
        {
          "output_type": "display_data",
          "data": {
            "text/plain": [
              "<Figure size 640x480 with 1 Axes>"
            ],
            "image/png": "[encoded data removed]"
          },
          "metadata": {}
        }
      ],
      "source": [
        "#Запустим цикл градиентного спуска с разными значениями скорости обучения alpha=0.0001, 0.01, 0.1, 1, 10, ...,\n",
        "#с различной допукстимой точностью epsylon = 0.001, 0.5, 5, с различным максимальным количеством шагов max_steps\n",
        "regr = SimpleRegression()\n",
        "steps, errors = regr.fit(x, Y, alpha = 0.0001, epsylon = 0.01, max_steps = 5000)\n",
        "print(\"MSE после градиентного спуска: \", regr.MSE(x, Y))\n",
        "Y_pred = regr.predict(x_space)\n",
        "plt.figure()\n",
        "plt.plot(steps, errors)"
      ]
    },
    {
      "cell_type": "markdown",
      "id": "5293159f",
      "metadata": {
        "id": "5293159f"
      },
      "source": [
        "Загрузите файл Video Games.csv (с помощью pd.read_csv).\n",
        "\n",
        "Для 11 703 компьютерных игр известны платформа, год выхода, жанр, платформа, издатель, объемы продаж игры - отдельно для Северной Америки, Европы, Японии и других регионов.\n",
        "\n",
        "В обучающей выборке для каждой игры известны следующие поля:\n",
        "\n",
        "Name — название игры;\n",
        "Platform — платформа (PC; DS; GBA; PS; PS2; PS3; PSP; Wii; XB или X360);\n",
        "Year_of_Release — год выпуска;\n",
        "Genre — жанр (Action; Adventure; Fighting; Platform; Puzzle; Racing; Role-Playing; Shooter; Simulation; Sports или Strategy; Misc означает все остальные жанры);\n",
        "Publisher — издатель;\n",
        "NA_Sales — объемы продаж игры в Северной Америке (в млн долл. США);\n",
        "EU_Sales — объемы продаж игры в Европе(в млн долл. США);\n",
        "Other_Sales — объемы продаж игры в других регионах (в млн долл. США);\n",
        "Critic_Score — сумма оценок, данных игре штатными критиками сайта Metacritic;\n",
        "Critic_Count — количество штатных критиков, давших оценки игре;\n",
        "User_Score — сумма оценок, данных игре игры пользователями сайта Metacritic;\n",
        "User_Count — количество пользователей, давших оценки;\n",
        "Developer — разработчик;\n",
        "Rating — рейтинг игры (AO — только для взрослых; 18+ M — только для лиц старше 18 лет; 17+ — только для лиц старше 17 лет; E10+ — для всех старше 10 лет; E — для всех; EC — для детей младшего возраста; RP — рейтинг не присвоен);\n",
        "JP_Sales — объемы продаж игры в Японии (в млн долл. США).\n",
        "\n",
        "Требуется построить модель, предсказывающую объем продаж игры в Японии.\n",
        "\n",
        "Япония - достаточно специфичная страна с точки зрения индустрии развлечений. К тому же государство активно защищает своих производителей, что не способствует импорту. Перед издателями компьютерных игр всегда стоит вопрос: стоит ли игру переводить, подгонять под местный менталитет и платить для входа на японский рынок. Чтобы это понять, следует оценить, на какой кусок пирога можно вообще в Японии рассчитывать. Один из вариантов это сделать – по истории продаж в других регионах. Если игра еще в разработке, за историю продаж можно считать прогнозы: Европа и Америка не такие непредсказуемые рынки, как Япония.\n",
        "\n",
        "Выберите в качестве результативного признака JP_Sales. В качестве факторных признаков выберите все числовые признаки. Также можно для категориальных признаков (Platform, Genre, возможно, Publisher) ввести индикаторы (с помощью sklearn.preprocessing.OneHotEncoder).\n",
        "\n",
        "Вычислите определитель матрицы (x_T*x).\n",
        "\n",
        "Вычислите вектор оценок коэффициентов по формуле a^ = (x_T*x)^(-1)*x_T*Y.\n",
        "\n",
        "На основе класса SimpleRegression (в котором x - это одномерный массив значений факторного признака) создайте класс MultipleRegression, который реализует градиентный спуск для случая, когда x является двумерным массивом, содержащим в каждой строке (для кафдой компьютерной игры) значения нескольких факторных признаков.\n",
        "\n",
        "Обучите модель с помощью метода MultipleRegression.fit, дайте прогнозы JP_Sales^ для каждой игры с помощью MultipleRegression.predict, вычислите ошибки MAE и MAPE.\n",
        "\n",
        "Попробуйте расширить набор факторных признаков, добавив логарифмы, квадраты, кубы"
      ]
    },
    {
      "cell_type": "code",
      "execution_count": 163,
      "id": "51eeea4a",
      "metadata": {
        "ExecuteTime": {
          "end_time": "2023-09-07T14:52:37.022990Z",
          "start_time": "2023-09-07T14:52:36.966683700Z"
        },
        "colab": {
          "base_uri": "https://localhost:8080/",
          "height": 238
        },
        "id": "51eeea4a",
        "outputId": "49a4259f-94c4-486d-c2bc-48111c563a61"
      },
      "outputs": [
        {
          "output_type": "execute_result",
          "data": {
            "text/plain": [
              "     platform  year         genre            publisher  na_sales  eu_sales  \\\n",
              "id                                                                           \n",
              "2830      PSV  2012        Racing      Electronic Arts      0.38      0.52   \n",
              "3865     SNES  1996  Role-Playing  ASCII Entertainment      0.00      0.00   \n",
              "4617      PSP  2009        Sports          Takara Tomy      0.09      0.00   \n",
              "3675       DS  2007      Fighting          Takara Tomy      0.00      0.00   \n",
              "1612      PSV  2016        Action   Namco Bandai Games      0.00      0.00   \n",
              "\n",
              "      other_sales  jp_sales  \n",
              "id                           \n",
              "2830         0.25      1.01  \n",
              "3865         0.00      1.31  \n",
              "4617         0.01      1.04  \n",
              "3675         0.00      1.08  \n",
              "1612         0.00      1.12  "
            ],
            "text/html": [
              "\n",
              "  <div id=\"df-b23b0d90-2c84-4ff2-8837-a555446f3799\" class=\"colab-df-container\">\n",
              "    <div>\n",
              "<style scoped>\n",
              "    .dataframe tbody tr th:only-of-type {\n",
              "        vertical-align: middle;\n",
              "    }\n",
              "\n",
              "    .dataframe tbody tr th {\n",
              "        vertical-align: top;\n",
              "    }\n",
              "\n",
              "    .dataframe thead th {\n",
              "        text-align: right;\n",
              "    }\n",
              "</style>\n",
              "<table border=\"1\" class=\"dataframe\">\n",
              "  <thead>\n",
              "    <tr style=\"text-align: right;\">\n",
              "      <th></th>\n",
              "      <th>platform</th>\n",
              "      <th>year</th>\n",
              "      <th>genre</th>\n",
              "      <th>publisher</th>\n",
              "      <th>na_sales</th>\n",
              "      <th>eu_sales</th>\n",
              "      <th>other_sales</th>\n",
              "      <th>jp_sales</th>\n",
              "    </tr>\n",
              "    <tr>\n",
              "      <th>id</th>\n",
              "      <th></th>\n",
              "      <th></th>\n",
              "      <th></th>\n",
              "      <th></th>\n",
              "      <th></th>\n",
              "      <th></th>\n",
              "      <th></th>\n",
              "      <th></th>\n",
              "    </tr>\n",
              "  </thead>\n",
              "  <tbody>\n",
              "    <tr>\n",
              "      <th>2830</th>\n",
              "      <td>PSV</td>\n",
              "      <td>2012</td>\n",
              "      <td>Racing</td>\n",
              "      <td>Electronic Arts</td>\n",
              "      <td>0.38</td>\n",
              "      <td>0.52</td>\n",
              "      <td>0.25</td>\n",
              "      <td>1.01</td>\n",
              "    </tr>\n",
              "    <tr>\n",
              "      <th>3865</th>\n",
              "      <td>SNES</td>\n",
              "      <td>1996</td>\n",
              "      <td>Role-Playing</td>\n",
              "      <td>ASCII Entertainment</td>\n",
              "      <td>0.00</td>\n",
              "      <td>0.00</td>\n",
              "      <td>0.00</td>\n",
              "      <td>1.31</td>\n",
              "    </tr>\n",
              "    <tr>\n",
              "      <th>4617</th>\n",
              "      <td>PSP</td>\n",
              "      <td>2009</td>\n",
              "      <td>Sports</td>\n",
              "      <td>Takara Tomy</td>\n",
              "      <td>0.09</td>\n",
              "      <td>0.00</td>\n",
              "      <td>0.01</td>\n",
              "      <td>1.04</td>\n",
              "    </tr>\n",
              "    <tr>\n",
              "      <th>3675</th>\n",
              "      <td>DS</td>\n",
              "      <td>2007</td>\n",
              "      <td>Fighting</td>\n",
              "      <td>Takara Tomy</td>\n",
              "      <td>0.00</td>\n",
              "      <td>0.00</td>\n",
              "      <td>0.00</td>\n",
              "      <td>1.08</td>\n",
              "    </tr>\n",
              "    <tr>\n",
              "      <th>1612</th>\n",
              "      <td>PSV</td>\n",
              "      <td>2016</td>\n",
              "      <td>Action</td>\n",
              "      <td>Namco Bandai Games</td>\n",
              "      <td>0.00</td>\n",
              "      <td>0.00</td>\n",
              "      <td>0.00</td>\n",
              "      <td>1.12</td>\n",
              "    </tr>\n",
              "  </tbody>\n",
              "</table>\n",
              "</div>\n",
              "    <div class=\"colab-df-buttons\">\n",
              "\n",
              "  <div class=\"colab-df-container\">\n",
              "    <button class=\"colab-df-convert\" onclick=\"convertToInteractive('df-b23b0d90-2c84-4ff2-8837-a555446f3799')\"\n",
              "            title=\"Convert this dataframe to an interactive table.\"\n",
              "            style=\"display:none;\">\n",
              "\n",
              "  <svg xmlns=\"http://www.w3.org/2000/svg\" height=\"24px\" viewBox=\"0 -960 960 960\">\n",
              "    <path d=\"M120-120v-720h720v720H120Zm60-500h600v-160H180v160Zm220 220h160v-160H400v160Zm0 220h160v-160H400v160ZM180-400h160v-160H180v160Zm440 0h160v-160H620v160ZM180-180h160v-160H180v160Zm440 0h160v-160H620v160Z\"/>\n",
              "  </svg>\n",
              "    </button>\n",
              "\n",
              "  <style>\n",
              "    .colab-df-container {\n",
              "      display:flex;\n",
              "      gap: 12px;\n",
              "    }\n",
              "\n",
              "    .colab-df-convert {\n",
              "      background-color: #E8F0FE;\n",
              "      border: none;\n",
              "      border-radius: 50%;\n",
              "      cursor: pointer;\n",
              "      display: none;\n",
              "      fill: #1967D2;\n",
              "      height: 32px;\n",
              "      padding: 0 0 0 0;\n",
              "      width: 32px;\n",
              "    }\n",
              "\n",
              "    .colab-df-convert:hover {\n",
              "      background-color: #E2EBFA;\n",
              "      box-shadow: 0px 1px 2px rgba(60, 64, 67, 0.3), 0px 1px 3px 1px rgba(60, 64, 67, 0.15);\n",
              "      fill: #174EA6;\n",
              "    }\n",
              "\n",
              "    .colab-df-buttons div {\n",
              "      margin-bottom: 4px;\n",
              "    }\n",
              "\n",
              "    [theme=dark] .colab-df-convert {\n",
              "      background-color: #3B4455;\n",
              "      fill: #D2E3FC;\n",
              "    }\n",
              "\n",
              "    [theme=dark] .colab-df-convert:hover {\n",
              "      background-color: #434B5C;\n",
              "      box-shadow: 0px 1px 3px 1px rgba(0, 0, 0, 0.15);\n",
              "      filter: drop-shadow(0px 1px 2px rgba(0, 0, 0, 0.3));\n",
              "      fill: #FFFFFF;\n",
              "    }\n",
              "  </style>\n",
              "\n",
              "    <script>\n",
              "      const buttonEl =\n",
              "        document.querySelector('#df-b23b0d90-2c84-4ff2-8837-a555446f3799 button.colab-df-convert');\n",
              "      buttonEl.style.display =\n",
              "        google.colab.kernel.accessAllowed ? 'block' : 'none';\n",
              "\n",
              "      async function convertToInteractive(key) {\n",
              "        const element = document.querySelector('#df-b23b0d90-2c84-4ff2-8837-a555446f3799');\n",
              "        const dataTable =\n",
              "          await google.colab.kernel.invokeFunction('convertToInteractive',\n",
              "                                                    [key], {});\n",
              "        if (!dataTable) return;\n",
              "\n",
              "        const docLinkHtml = 'Like what you see? Visit the ' +\n",
              "          '<a target=\"_blank\" href=https://colab.research.google.com/notebooks/data_table.ipynb>data table notebook</a>'\n",
              "          + ' to learn more about interactive tables.';\n",
              "        element.innerHTML = '';\n",
              "        dataTable['output_type'] = 'display_data';\n",
              "        await google.colab.output.renderOutput(dataTable, element);\n",
              "        const docLink = document.createElement('div');\n",
              "        docLink.innerHTML = docLinkHtml;\n",
              "        element.appendChild(docLink);\n",
              "      }\n",
              "    </script>\n",
              "  </div>\n",
              "\n",
              "\n",
              "<div id=\"df-25f6af52-0dfe-4200-b7ad-9b8576b6e65b\">\n",
              "  <button class=\"colab-df-quickchart\" onclick=\"quickchart('df-25f6af52-0dfe-4200-b7ad-9b8576b6e65b')\"\n",
              "            title=\"Suggest charts.\"\n",
              "            style=\"display:none;\">\n",
              "\n",
              "<svg xmlns=\"http://www.w3.org/2000/svg\" height=\"24px\"viewBox=\"0 0 24 24\"\n",
              "     width=\"24px\">\n",
              "    <g>\n",
              "        <path d=\"M19 3H5c-1.1 0-2 .9-2 2v14c0 1.1.9 2 2 2h14c1.1 0 2-.9 2-2V5c0-1.1-.9-2-2-2zM9 17H7v-7h2v7zm4 0h-2V7h2v10zm4 0h-2v-4h2v4z\"/>\n",
              "    </g>\n",
              "</svg>\n",
              "  </button>\n",
              "\n",
              "<style>\n",
              "  .colab-df-quickchart {\n",
              "      --bg-color: #E8F0FE;\n",
              "      --fill-color: #1967D2;\n",
              "      --hover-bg-color: #E2EBFA;\n",
              "      --hover-fill-color: #174EA6;\n",
              "      --disabled-fill-color: #AAA;\n",
              "      --disabled-bg-color: #DDD;\n",
              "  }\n",
              "\n",
              "  [theme=dark] .colab-df-quickchart {\n",
              "      --bg-color: #3B4455;\n",
              "      --fill-color: #D2E3FC;\n",
              "      --hover-bg-color: #434B5C;\n",
              "      --hover-fill-color: #FFFFFF;\n",
              "      --disabled-bg-color: #3B4455;\n",
              "      --disabled-fill-color: #666;\n",
              "  }\n",
              "\n",
              "  .colab-df-quickchart {\n",
              "    background-color: var(--bg-color);\n",
              "    border: none;\n",
              "    border-radius: 50%;\n",
              "    cursor: pointer;\n",
              "    display: none;\n",
              "    fill: var(--fill-color);\n",
              "    height: 32px;\n",
              "    padding: 0;\n",
              "    width: 32px;\n",
              "  }\n",
              "\n",
              "  .colab-df-quickchart:hover {\n",
              "    background-color: var(--hover-bg-color);\n",
              "    box-shadow: 0 1px 2px rgba(60, 64, 67, 0.3), 0 1px 3px 1px rgba(60, 64, 67, 0.15);\n",
              "    fill: var(--button-hover-fill-color);\n",
              "  }\n",
              "\n",
              "  .colab-df-quickchart-complete:disabled,\n",
              "  .colab-df-quickchart-complete:disabled:hover {\n",
              "    background-color: var(--disabled-bg-color);\n",
              "    fill: var(--disabled-fill-color);\n",
              "    box-shadow: none;\n",
              "  }\n",
              "\n",
              "  .colab-df-spinner {\n",
              "    border: 2px solid var(--fill-color);\n",
              "    border-color: transparent;\n",
              "    border-bottom-color: var(--fill-color);\n",
              "    animation:\n",
              "      spin 1s steps(1) infinite;\n",
              "  }\n",
              "\n",
              "  @keyframes spin {\n",
              "    0% {\n",
              "      border-color: transparent;\n",
              "      border-bottom-color: var(--fill-color);\n",
              "      border-left-color: var(--fill-color);\n",
              "    }\n",
              "    20% {\n",
              "      border-color: transparent;\n",
              "      border-left-color: var(--fill-color);\n",
              "      border-top-color: var(--fill-color);\n",
              "    }\n",
              "    30% {\n",
              "      border-color: transparent;\n",
              "      border-left-color: var(--fill-color);\n",
              "      border-top-color: var(--fill-color);\n",
              "      border-right-color: var(--fill-color);\n",
              "    }\n",
              "    40% {\n",
              "      border-color: transparent;\n",
              "      border-right-color: var(--fill-color);\n",
              "      border-top-color: var(--fill-color);\n",
              "    }\n",
              "    60% {\n",
              "      border-color: transparent;\n",
              "      border-right-color: var(--fill-color);\n",
              "    }\n",
              "    80% {\n",
              "      border-color: transparent;\n",
              "      border-right-color: var(--fill-color);\n",
              "      border-bottom-color: var(--fill-color);\n",
              "    }\n",
              "    90% {\n",
              "      border-color: transparent;\n",
              "      border-bottom-color: var(--fill-color);\n",
              "    }\n",
              "  }\n",
              "</style>\n",
              "\n",
              "  <script>\n",
              "    async function quickchart(key) {\n",
              "      const quickchartButtonEl =\n",
              "        document.querySelector('#' + key + ' button');\n",
              "      quickchartButtonEl.disabled = true;  // To prevent multiple clicks.\n",
              "      quickchartButtonEl.classList.add('colab-df-spinner');\n",
              "      try {\n",
              "        const charts = await google.colab.kernel.invokeFunction(\n",
              "            'suggestCharts', [key], {});\n",
              "      } catch (error) {\n",
              "        console.error('Error during call to suggestCharts:', error);\n",
              "      }\n",
              "      quickchartButtonEl.classList.remove('colab-df-spinner');\n",
              "      quickchartButtonEl.classList.add('colab-df-quickchart-complete');\n",
              "    }\n",
              "    (() => {\n",
              "      let quickchartButtonEl =\n",
              "        document.querySelector('#df-25f6af52-0dfe-4200-b7ad-9b8576b6e65b button');\n",
              "      quickchartButtonEl.style.display =\n",
              "        google.colab.kernel.accessAllowed ? 'block' : 'none';\n",
              "    })();\n",
              "  </script>\n",
              "</div>\n",
              "    </div>\n",
              "  </div>\n"
            ]
          },
          "metadata": {},
          "execution_count": 163
        }
      ],
      "source": [
        "from sklearn.preprocessing import OneHotEncoder\n",
        "videogames = pd.read_csv(r\"Video_Games.csv\", index_col = 'id')\n",
        "videogames.head()\n",
        ""
      ]
    },
    {
      "cell_type": "code",
      "execution_count": 164,
      "outputs": [
        {
          "output_type": "execute_result",
          "data": {
            "text/plain": [
              "id\n",
              "2830    1.01\n",
              "3865    1.31\n",
              "4617    1.04\n",
              "3675    1.08\n",
              "1612    1.12\n",
              "Name: jp_sales, dtype: float64"
            ]
          },
          "metadata": {},
          "execution_count": 164
        }
      ],
      "source": [
        "Y = videogames['jp_sales']\n",
        "\n",
        "x = videogames.drop('jp_sales', axis=1)\n",
        "\n",
        "x = pd.concat([x, pd.get_dummies(x['platform'], drop_first=True, dtype=int), pd.get_dummies(x['genre'], drop_first=True, dtype=int), pd.get_dummies(x['publisher'], drop_first=True, dtype=int)], axis = 1)\n",
        "x = x.drop(['platform', 'genre', 'publisher'], axis = 1)\n",
        "Y.head()\n"
      ],
      "metadata": {
        "ExecuteTime": {
          "end_time": "2023-09-07T15:33:29.198871Z",
          "start_time": "2023-09-07T15:33:29.136107900Z"
        },
        "colab": {
          "base_uri": "https://localhost:8080/"
        },
        "id": "67af58fcce398c07",
        "outputId": "9ab04160-9ff3-471b-b512-146f228a716b"
      },
      "id": "67af58fcce398c07"
    },
    {
      "cell_type": "code",
      "execution_count": 165,
      "outputs": [
        {
          "output_type": "execute_result",
          "data": {
            "text/plain": [
              "      year  na_sales  eu_sales  other_sales  3DS  DC  DS  GB  GBA  GC  ...  \\\n",
              "id                                                                     ...   \n",
              "2830  2012      0.38      0.52         0.25    0   0   0   0    0   0  ...   \n",
              "3865  1996      0.00      0.00         0.00    0   0   0   0    0   0  ...   \n",
              "4617  2009      0.09      0.00         0.01    0   0   0   0    0   0  ...   \n",
              "3675  2007      0.00      0.00         0.00    0   0   1   0    0   0  ...   \n",
              "1612  2016      0.00      0.00         0.00    0   0   0   0    0   0  ...   \n",
              "\n",
              "      Yacht Club Games  Yamasa Entertainment  Yeti  Yuke's  Yumedia  Zenrin  \\\n",
              "id                                                                            \n",
              "2830                 0                     0     0       0        0       0   \n",
              "3865                 0                     0     0       0        0       0   \n",
              "4617                 0                     0     0       0        0       0   \n",
              "3675                 0                     0     0       0        0       0   \n",
              "1612                 0                     0     0       0        0       0   \n",
              "\n",
              "      Zoo Digital Publishing  Zushi Games  dramatic create  imageepoch Inc.  \n",
              "id                                                                           \n",
              "2830                       0            0                0                0  \n",
              "3865                       0            0                0                0  \n",
              "4617                       0            0                0                0  \n",
              "3675                       0            0                0                0  \n",
              "1612                       0            0                0                0  \n",
              "\n",
              "[5 rows x 312 columns]"
            ],
            "text/html": [
              "\n",
              "  <div id=\"df-1ef2dcf7-0475-4b6e-bd0e-04376d4636e3\" class=\"colab-df-container\">\n",
              "    <div>\n",
              "<style scoped>\n",
              "    .dataframe tbody tr th:only-of-type {\n",
              "        vertical-align: middle;\n",
              "    }\n",
              "\n",
              "    .dataframe tbody tr th {\n",
              "        vertical-align: top;\n",
              "    }\n",
              "\n",
              "    .dataframe thead th {\n",
              "        text-align: right;\n",
              "    }\n",
              "</style>\n",
              "<table border=\"1\" class=\"dataframe\">\n",
              "  <thead>\n",
              "    <tr style=\"text-align: right;\">\n",
              "      <th></th>\n",
              "      <th>year</th>\n",
              "      <th>na_sales</th>\n",
              "      <th>eu_sales</th>\n",
              "      <th>other_sales</th>\n",
              "      <th>3DS</th>\n",
              "      <th>DC</th>\n",
              "      <th>DS</th>\n",
              "      <th>GB</th>\n",
              "      <th>GBA</th>\n",
              "      <th>GC</th>\n",
              "      <th>...</th>\n",
              "      <th>Yacht Club Games</th>\n",
              "      <th>Yamasa Entertainment</th>\n",
              "      <th>Yeti</th>\n",
              "      <th>Yuke's</th>\n",
              "      <th>Yumedia</th>\n",
              "      <th>Zenrin</th>\n",
              "      <th>Zoo Digital Publishing</th>\n",
              "      <th>Zushi Games</th>\n",
              "      <th>dramatic create</th>\n",
              "      <th>imageepoch Inc.</th>\n",
              "    </tr>\n",
              "    <tr>\n",
              "      <th>id</th>\n",
              "      <th></th>\n",
              "      <th></th>\n",
              "      <th></th>\n",
              "      <th></th>\n",
              "      <th></th>\n",
              "      <th></th>\n",
              "      <th></th>\n",
              "      <th></th>\n",
              "      <th></th>\n",
              "      <th></th>\n",
              "      <th></th>\n",
              "      <th></th>\n",
              "      <th></th>\n",
              "      <th></th>\n",
              "      <th></th>\n",
              "      <th></th>\n",
              "      <th></th>\n",
              "      <th></th>\n",
              "      <th></th>\n",
              "      <th></th>\n",
              "      <th></th>\n",
              "    </tr>\n",
              "  </thead>\n",
              "  <tbody>\n",
              "    <tr>\n",
              "      <th>2830</th>\n",
              "      <td>2012</td>\n",
              "      <td>0.38</td>\n",
              "      <td>0.52</td>\n",
              "      <td>0.25</td>\n",
              "      <td>0</td>\n",
              "      <td>0</td>\n",
              "      <td>0</td>\n",
              "      <td>0</td>\n",
              "      <td>0</td>\n",
              "      <td>0</td>\n",
              "      <td>...</td>\n",
              "      <td>0</td>\n",
              "      <td>0</td>\n",
              "      <td>0</td>\n",
              "      <td>0</td>\n",
              "      <td>0</td>\n",
              "      <td>0</td>\n",
              "      <td>0</td>\n",
              "      <td>0</td>\n",
              "      <td>0</td>\n",
              "      <td>0</td>\n",
              "    </tr>\n",
              "    <tr>\n",
              "      <th>3865</th>\n",
              "      <td>1996</td>\n",
              "      <td>0.00</td>\n",
              "      <td>0.00</td>\n",
              "      <td>0.00</td>\n",
              "      <td>0</td>\n",
              "      <td>0</td>\n",
              "      <td>0</td>\n",
              "      <td>0</td>\n",
              "      <td>0</td>\n",
              "      <td>0</td>\n",
              "      <td>...</td>\n",
              "      <td>0</td>\n",
              "      <td>0</td>\n",
              "      <td>0</td>\n",
              "      <td>0</td>\n",
              "      <td>0</td>\n",
              "      <td>0</td>\n",
              "      <td>0</td>\n",
              "      <td>0</td>\n",
              "      <td>0</td>\n",
              "      <td>0</td>\n",
              "    </tr>\n",
              "    <tr>\n",
              "      <th>4617</th>\n",
              "      <td>2009</td>\n",
              "      <td>0.09</td>\n",
              "      <td>0.00</td>\n",
              "      <td>0.01</td>\n",
              "      <td>0</td>\n",
              "      <td>0</td>\n",
              "      <td>0</td>\n",
              "      <td>0</td>\n",
              "      <td>0</td>\n",
              "      <td>0</td>\n",
              "      <td>...</td>\n",
              "      <td>0</td>\n",
              "      <td>0</td>\n",
              "      <td>0</td>\n",
              "      <td>0</td>\n",
              "      <td>0</td>\n",
              "      <td>0</td>\n",
              "      <td>0</td>\n",
              "      <td>0</td>\n",
              "      <td>0</td>\n",
              "      <td>0</td>\n",
              "    </tr>\n",
              "    <tr>\n",
              "      <th>3675</th>\n",
              "      <td>2007</td>\n",
              "      <td>0.00</td>\n",
              "      <td>0.00</td>\n",
              "      <td>0.00</td>\n",
              "      <td>0</td>\n",
              "      <td>0</td>\n",
              "      <td>1</td>\n",
              "      <td>0</td>\n",
              "      <td>0</td>\n",
              "      <td>0</td>\n",
              "      <td>...</td>\n",
              "      <td>0</td>\n",
              "      <td>0</td>\n",
              "      <td>0</td>\n",
              "      <td>0</td>\n",
              "      <td>0</td>\n",
              "      <td>0</td>\n",
              "      <td>0</td>\n",
              "      <td>0</td>\n",
              "      <td>0</td>\n",
              "      <td>0</td>\n",
              "    </tr>\n",
              "    <tr>\n",
              "      <th>1612</th>\n",
              "      <td>2016</td>\n",
              "      <td>0.00</td>\n",
              "      <td>0.00</td>\n",
              "      <td>0.00</td>\n",
              "      <td>0</td>\n",
              "      <td>0</td>\n",
              "      <td>0</td>\n",
              "      <td>0</td>\n",
              "      <td>0</td>\n",
              "      <td>0</td>\n",
              "      <td>...</td>\n",
              "      <td>0</td>\n",
              "      <td>0</td>\n",
              "      <td>0</td>\n",
              "      <td>0</td>\n",
              "      <td>0</td>\n",
              "      <td>0</td>\n",
              "      <td>0</td>\n",
              "      <td>0</td>\n",
              "      <td>0</td>\n",
              "      <td>0</td>\n",
              "    </tr>\n",
              "  </tbody>\n",
              "</table>\n",
              "<p>5 rows × 312 columns</p>\n",
              "</div>\n",
              "    <div class=\"colab-df-buttons\">\n",
              "\n",
              "  <div class=\"colab-df-container\">\n",
              "    <button class=\"colab-df-convert\" onclick=\"convertToInteractive('df-1ef2dcf7-0475-4b6e-bd0e-04376d4636e3')\"\n",
              "            title=\"Convert this dataframe to an interactive table.\"\n",
              "            style=\"display:none;\">\n",
              "\n",
              "  <svg xmlns=\"http://www.w3.org/2000/svg\" height=\"24px\" viewBox=\"0 -960 960 960\">\n",
              "    <path d=\"M120-120v-720h720v720H120Zm60-500h600v-160H180v160Zm220 220h160v-160H400v160Zm0 220h160v-160H400v160ZM180-400h160v-160H180v160Zm440 0h160v-160H620v160ZM180-180h160v-160H180v160Zm440 0h160v-160H620v160Z\"/>\n",
              "  </svg>\n",
              "    </button>\n",
              "\n",
              "  <style>\n",
              "    .colab-df-container {\n",
              "      display:flex;\n",
              "      gap: 12px;\n",
              "    }\n",
              "\n",
              "    .colab-df-convert {\n",
              "      background-color: #E8F0FE;\n",
              "      border: none;\n",
              "      border-radius: 50%;\n",
              "      cursor: pointer;\n",
              "      display: none;\n",
              "      fill: #1967D2;\n",
              "      height: 32px;\n",
              "      padding: 0 0 0 0;\n",
              "      width: 32px;\n",
              "    }\n",
              "\n",
              "    .colab-df-convert:hover {\n",
              "      background-color: #E2EBFA;\n",
              "      box-shadow: 0px 1px 2px rgba(60, 64, 67, 0.3), 0px 1px 3px 1px rgba(60, 64, 67, 0.15);\n",
              "      fill: #174EA6;\n",
              "    }\n",
              "\n",
              "    .colab-df-buttons div {\n",
              "      margin-bottom: 4px;\n",
              "    }\n",
              "\n",
              "    [theme=dark] .colab-df-convert {\n",
              "      background-color: #3B4455;\n",
              "      fill: #D2E3FC;\n",
              "    }\n",
              "\n",
              "    [theme=dark] .colab-df-convert:hover {\n",
              "      background-color: #434B5C;\n",
              "      box-shadow: 0px 1px 3px 1px rgba(0, 0, 0, 0.15);\n",
              "      filter: drop-shadow(0px 1px 2px rgba(0, 0, 0, 0.3));\n",
              "      fill: #FFFFFF;\n",
              "    }\n",
              "  </style>\n",
              "\n",
              "    <script>\n",
              "      const buttonEl =\n",
              "        document.querySelector('#df-1ef2dcf7-0475-4b6e-bd0e-04376d4636e3 button.colab-df-convert');\n",
              "      buttonEl.style.display =\n",
              "        google.colab.kernel.accessAllowed ? 'block' : 'none';\n",
              "\n",
              "      async function convertToInteractive(key) {\n",
              "        const element = document.querySelector('#df-1ef2dcf7-0475-4b6e-bd0e-04376d4636e3');\n",
              "        const dataTable =\n",
              "          await google.colab.kernel.invokeFunction('convertToInteractive',\n",
              "                                                    [key], {});\n",
              "        if (!dataTable) return;\n",
              "\n",
              "        const docLinkHtml = 'Like what you see? Visit the ' +\n",
              "          '<a target=\"_blank\" href=https://colab.research.google.com/notebooks/data_table.ipynb>data table notebook</a>'\n",
              "          + ' to learn more about interactive tables.';\n",
              "        element.innerHTML = '';\n",
              "        dataTable['output_type'] = 'display_data';\n",
              "        await google.colab.output.renderOutput(dataTable, element);\n",
              "        const docLink = document.createElement('div');\n",
              "        docLink.innerHTML = docLinkHtml;\n",
              "        element.appendChild(docLink);\n",
              "      }\n",
              "    </script>\n",
              "  </div>\n",
              "\n",
              "\n",
              "<div id=\"df-d1ce678b-cc37-46a3-ac8f-65660de30948\">\n",
              "  <button class=\"colab-df-quickchart\" onclick=\"quickchart('df-d1ce678b-cc37-46a3-ac8f-65660de30948')\"\n",
              "            title=\"Suggest charts.\"\n",
              "            style=\"display:none;\">\n",
              "\n",
              "<svg xmlns=\"http://www.w3.org/2000/svg\" height=\"24px\"viewBox=\"0 0 24 24\"\n",
              "     width=\"24px\">\n",
              "    <g>\n",
              "        <path d=\"M19 3H5c-1.1 0-2 .9-2 2v14c0 1.1.9 2 2 2h14c1.1 0 2-.9 2-2V5c0-1.1-.9-2-2-2zM9 17H7v-7h2v7zm4 0h-2V7h2v10zm4 0h-2v-4h2v4z\"/>\n",
              "    </g>\n",
              "</svg>\n",
              "  </button>\n",
              "\n",
              "<style>\n",
              "  .colab-df-quickchart {\n",
              "      --bg-color: #E8F0FE;\n",
              "      --fill-color: #1967D2;\n",
              "      --hover-bg-color: #E2EBFA;\n",
              "      --hover-fill-color: #174EA6;\n",
              "      --disabled-fill-color: #AAA;\n",
              "      --disabled-bg-color: #DDD;\n",
              "  }\n",
              "\n",
              "  [theme=dark] .colab-df-quickchart {\n",
              "      --bg-color: #3B4455;\n",
              "      --fill-color: #D2E3FC;\n",
              "      --hover-bg-color: #434B5C;\n",
              "      --hover-fill-color: #FFFFFF;\n",
              "      --disabled-bg-color: #3B4455;\n",
              "      --disabled-fill-color: #666;\n",
              "  }\n",
              "\n",
              "  .colab-df-quickchart {\n",
              "    background-color: var(--bg-color);\n",
              "    border: none;\n",
              "    border-radius: 50%;\n",
              "    cursor: pointer;\n",
              "    display: none;\n",
              "    fill: var(--fill-color);\n",
              "    height: 32px;\n",
              "    padding: 0;\n",
              "    width: 32px;\n",
              "  }\n",
              "\n",
              "  .colab-df-quickchart:hover {\n",
              "    background-color: var(--hover-bg-color);\n",
              "    box-shadow: 0 1px 2px rgba(60, 64, 67, 0.3), 0 1px 3px 1px rgba(60, 64, 67, 0.15);\n",
              "    fill: var(--button-hover-fill-color);\n",
              "  }\n",
              "\n",
              "  .colab-df-quickchart-complete:disabled,\n",
              "  .colab-df-quickchart-complete:disabled:hover {\n",
              "    background-color: var(--disabled-bg-color);\n",
              "    fill: var(--disabled-fill-color);\n",
              "    box-shadow: none;\n",
              "  }\n",
              "\n",
              "  .colab-df-spinner {\n",
              "    border: 2px solid var(--fill-color);\n",
              "    border-color: transparent;\n",
              "    border-bottom-color: var(--fill-color);\n",
              "    animation:\n",
              "      spin 1s steps(1) infinite;\n",
              "  }\n",
              "\n",
              "  @keyframes spin {\n",
              "    0% {\n",
              "      border-color: transparent;\n",
              "      border-bottom-color: var(--fill-color);\n",
              "      border-left-color: var(--fill-color);\n",
              "    }\n",
              "    20% {\n",
              "      border-color: transparent;\n",
              "      border-left-color: var(--fill-color);\n",
              "      border-top-color: var(--fill-color);\n",
              "    }\n",
              "    30% {\n",
              "      border-color: transparent;\n",
              "      border-left-color: var(--fill-color);\n",
              "      border-top-color: var(--fill-color);\n",
              "      border-right-color: var(--fill-color);\n",
              "    }\n",
              "    40% {\n",
              "      border-color: transparent;\n",
              "      border-right-color: var(--fill-color);\n",
              "      border-top-color: var(--fill-color);\n",
              "    }\n",
              "    60% {\n",
              "      border-color: transparent;\n",
              "      border-right-color: var(--fill-color);\n",
              "    }\n",
              "    80% {\n",
              "      border-color: transparent;\n",
              "      border-right-color: var(--fill-color);\n",
              "      border-bottom-color: var(--fill-color);\n",
              "    }\n",
              "    90% {\n",
              "      border-color: transparent;\n",
              "      border-bottom-color: var(--fill-color);\n",
              "    }\n",
              "  }\n",
              "</style>\n",
              "\n",
              "  <script>\n",
              "    async function quickchart(key) {\n",
              "      const quickchartButtonEl =\n",
              "        document.querySelector('#' + key + ' button');\n",
              "      quickchartButtonEl.disabled = true;  // To prevent multiple clicks.\n",
              "      quickchartButtonEl.classList.add('colab-df-spinner');\n",
              "      try {\n",
              "        const charts = await google.colab.kernel.invokeFunction(\n",
              "            'suggestCharts', [key], {});\n",
              "      } catch (error) {\n",
              "        console.error('Error during call to suggestCharts:', error);\n",
              "      }\n",
              "      quickchartButtonEl.classList.remove('colab-df-spinner');\n",
              "      quickchartButtonEl.classList.add('colab-df-quickchart-complete');\n",
              "    }\n",
              "    (() => {\n",
              "      let quickchartButtonEl =\n",
              "        document.querySelector('#df-d1ce678b-cc37-46a3-ac8f-65660de30948 button');\n",
              "      quickchartButtonEl.style.display =\n",
              "        google.colab.kernel.accessAllowed ? 'block' : 'none';\n",
              "    })();\n",
              "  </script>\n",
              "</div>\n",
              "    </div>\n",
              "  </div>\n"
            ]
          },
          "metadata": {},
          "execution_count": 165
        }
      ],
      "source": [
        "x.head()"
      ],
      "metadata": {
        "ExecuteTime": {
          "end_time": "2023-09-07T15:33:30.617507Z",
          "start_time": "2023-09-07T15:33:30.591864100Z"
        },
        "colab": {
          "base_uri": "https://localhost:8080/",
          "height": 267
        },
        "id": "e8359ead5e332d85",
        "outputId": "6b965c2b-08e5-4151-f2a3-2511952bc11c"
      },
      "id": "e8359ead5e332d85"
    },
    {
      "cell_type": "code",
      "execution_count": 166,
      "outputs": [],
      "source": [
        "x_ = x\n",
        "x_.insert(0, \"intercept\", np.ones((x.shape[0],1)), allow_duplicates=True)"
      ],
      "metadata": {
        "ExecuteTime": {
          "end_time": "2023-09-07T15:33:34.161269900Z",
          "start_time": "2023-09-07T15:33:34.138761700Z"
        },
        "id": "94f2aa4390e7d3b"
      },
      "id": "94f2aa4390e7d3b"
    },
    {
      "cell_type": "code",
      "source": [
        "x.shape"
      ],
      "metadata": {
        "colab": {
          "base_uri": "https://localhost:8080/"
        },
        "id": "U2FJIuG2IaRA",
        "outputId": "8e7aa113-be51-4daf-d411-b935c8309358"
      },
      "id": "U2FJIuG2IaRA",
      "execution_count": 167,
      "outputs": [
        {
          "output_type": "execute_result",
          "data": {
            "text/plain": [
              "(4258, 313)"
            ]
          },
          "metadata": {},
          "execution_count": 167
        }
      ]
    },
    {
      "cell_type": "code",
      "execution_count": 168,
      "id": "caef5b72",
      "metadata": {
        "ExecuteTime": {
          "end_time": "2023-09-07T15:33:35.211564900Z",
          "start_time": "2023-09-07T15:33:35.170392700Z"
        },
        "colab": {
          "base_uri": "https://localhost:8080/"
        },
        "id": "caef5b72",
        "outputId": "a157d8bd-519d-4cf3-bda3-543890d0c028"
      },
      "outputs": [
        {
          "output_type": "execute_result",
          "data": {
            "text/plain": [
              "3.1443925735308956e+225"
            ]
          },
          "metadata": {},
          "execution_count": 168
        }
      ],
      "source": [
        "#Вычислим определитель (x_T*x).\n",
        "np_opred = np.linalg.det(np.dot(x.T, x))\n",
        "np_opred"
      ]
    },
    {
      "cell_type": "code",
      "execution_count": 169,
      "id": "9ca92562",
      "metadata": {
        "ExecuteTime": {
          "end_time": "2023-09-07T15:33:38.161642900Z",
          "start_time": "2023-09-07T15:33:38.077879Z"
        },
        "id": "9ca92562"
      },
      "outputs": [],
      "source": [
        "#Вычислим вектор оценок коэффициентов по формуле a^ = (x_T*x)^(-1)*x_T*Y.\n",
        "a = np.linalg.inv(np.dot(x.T, x)).dot(x.T).dot(Y)"
      ]
    },
    {
      "cell_type": "code",
      "execution_count": 170,
      "outputs": [
        {
          "output_type": "execute_result",
          "data": {
            "text/plain": [
              "(313,)"
            ]
          },
          "metadata": {},
          "execution_count": 170
        }
      ],
      "source": [
        "a.shape"
      ],
      "metadata": {
        "ExecuteTime": {
          "end_time": "2023-09-07T15:34:57.011013300Z",
          "start_time": "2023-09-07T15:34:56.987949200Z"
        },
        "colab": {
          "base_uri": "https://localhost:8080/"
        },
        "id": "186597607195d10d",
        "outputId": "6eee8b5d-29fa-4af0-fea3-ca1b8c460b1b"
      },
      "id": "186597607195d10d"
    },
    {
      "cell_type": "code",
      "execution_count": 171,
      "outputs": [
        {
          "output_type": "execute_result",
          "data": {
            "text/plain": [
              "id\n",
              "2830    0.987727\n",
              "3865    1.860408\n",
              "4617    1.056777\n",
              "3675    1.114558\n",
              "1612    1.047659\n",
              "          ...   \n",
              "3996    1.040492\n",
              "5720    1.640271\n",
              "4579    1.010803\n",
              "4072    1.675444\n",
              "5883    1.456819\n",
              "Length: 4258, dtype: float64"
            ]
          },
          "metadata": {},
          "execution_count": 171
        }
      ],
      "source": [
        "y_test = x.dot(a)\n",
        "y_test"
      ],
      "metadata": {
        "ExecuteTime": {
          "end_time": "2023-09-07T15:37:29.713855200Z",
          "start_time": "2023-09-07T15:37:29.687855400Z"
        },
        "colab": {
          "base_uri": "https://localhost:8080/"
        },
        "id": "cef320b2ffd20553",
        "outputId": "faf39980-4249-4958-cbae-d30706328ae3"
      },
      "id": "cef320b2ffd20553"
    },
    {
      "cell_type": "code",
      "execution_count": 172,
      "id": "33012519",
      "metadata": {
        "id": "33012519"
      },
      "outputs": [],
      "source": [
        "#Реализуем метод градиентного спуска в модеоли множественной регрессии\n",
        "class MultipleRegression():\n",
        "    def __init__(self, weights = None):\n",
        "        self.weights = weights\n",
        "    def predict(self, x):\n",
        "        if self.weights is None:\n",
        "            raise Exception(\"Model has not been trained yet.\")\n",
        "        return x.dot(self.weights)\n",
        "    def MSE(self, x, Y):\n",
        "        return ((Y - self.predict(x))**2).mean()\n",
        "    def MAPE(self, x, Y):\n",
        "        return (abs((Y - self.predict(x)) / Y)).mean()\n",
        "    def MAE(self, X, Y):\n",
        "        return abs(Y - self.predict(X)).mean()\n",
        "    def fit(self, x, Y, alpha = 0.001, epsylon = 0.01, max_steps = 5000, error='MSE'):\n",
        "        steps = []\n",
        "        errors = []\n",
        "        step = 0\n",
        "\n",
        "        #weights initialisation\n",
        "        self.weights = np.zeros(x.shape[1])\n",
        "\n",
        "        #fit with gradient boosting\n",
        "        for i in range(max_steps):\n",
        "          if error == 'MSE':\n",
        "            errors.append(self.MSE(x, Y))\n",
        "          elif error == 'MAE':\n",
        "            errors.append(self.MAPE(x, Y))\n",
        "          else:\n",
        "            errors.append(self.MAPE(x, Y))\n",
        "          if errors[-1] < epsylon:\n",
        "            break\n",
        "          grad = -2 * x.T.dot(Y - self.predict(x))\n",
        "          self.weights = self.weights - alpha * grad\n",
        "          step = step + 1\n",
        "          steps.append(step)\n",
        "        return steps, errors"
      ]
    },
    {
      "cell_type": "code",
      "source": [
        "from sklearn.model_selection import train_test_split"
      ],
      "metadata": {
        "id": "RXVsTnpgOxCD"
      },
      "id": "RXVsTnpgOxCD",
      "execution_count": 173,
      "outputs": []
    },
    {
      "cell_type": "code",
      "source": [
        "X_train, X_test, y_train, y_test = train_test_split(x, Y, train_size=0.8, random_state=42)"
      ],
      "metadata": {
        "id": "lM8gm3BMO6ec"
      },
      "id": "lM8gm3BMO6ec",
      "execution_count": 174,
      "outputs": []
    },
    {
      "cell_type": "code",
      "source": [
        "model = MultipleRegression()"
      ],
      "metadata": {
        "id": "QYpUMqmqPI1d"
      },
      "id": "QYpUMqmqPI1d",
      "execution_count": 175,
      "outputs": []
    },
    {
      "cell_type": "code",
      "source": [
        "#fit with MSE\n",
        "model.fit(X_train, y_train, 0.0000001, 10, 1000)"
      ],
      "metadata": {
        "colab": {
          "base_uri": "https://localhost:8080/"
        },
        "id": "4cHVV2EpPPC0",
        "outputId": "f1f628fd-8efa-423f-c646-39ee4470c7a9"
      },
      "id": "4cHVV2EpPPC0",
      "execution_count": 176,
      "outputs": [
        {
          "output_type": "execute_result",
          "data": {
            "text/plain": [
              "([], [1.705887345538799])"
            ]
          },
          "metadata": {},
          "execution_count": 176
        }
      ]
    },
    {
      "cell_type": "code",
      "source": [
        "plt.figure()\n",
        "plt.plot(steps, errors)"
      ],
      "metadata": {
        "colab": {
          "base_uri": "https://localhost:8080/",
          "height": 447
        },
        "id": "WYKXoICMQQ0-",
        "outputId": "22c47ba1-b62b-4055-d220-6956c46050ea"
      },
      "id": "WYKXoICMQQ0-",
      "execution_count": 177,
      "outputs": [
        {
          "output_type": "execute_result",
          "data": {
            "text/plain": [
              "[<matplotlib.lines.Line2D at 0x791848844f40>]"
            ]
          },
          "metadata": {},
          "execution_count": 177
        },
        {
          "output_type": "display_data",
          "data": {
            "text/plain": [
              "<Figure size 640x480 with 1 Axes>"
            ],
            "image/png": "[encoded data removed]"
          },
          "metadata": {}
        }
      ]
    },
    {
      "cell_type": "code",
      "source": [
        "y_pred = model.predict(X_test)"
      ],
      "metadata": {
        "id": "cw9VX0zzRRkC"
      },
      "id": "cw9VX0zzRRkC",
      "execution_count": 178,
      "outputs": []
    },
    {
      "cell_type": "code",
      "source": [
        "print(f'MSE: {model.MSE(X_test, y_test)}')"
      ],
      "metadata": {
        "colab": {
          "base_uri": "https://localhost:8080/"
        },
        "id": "acqnWqacRY0e",
        "outputId": "ad24d8d9-02ce-4a2f-ada6-905cfa9adaa5"
      },
      "id": "acqnWqacRY0e",
      "execution_count": 179,
      "outputs": [
        {
          "output_type": "stream",
          "name": "stdout",
          "text": [
            "MSE: 1.7739315724935645\n"
          ]
        }
      ]
    },
    {
      "cell_type": "code",
      "source": [
        "print(f'MAE: {model.MAE(X_test, y_test)}')"
      ],
      "metadata": {
        "colab": {
          "base_uri": "https://localhost:8080/"
        },
        "id": "xGSDwdH_Ss4-",
        "outputId": "aae6c537-cade-4369-b499-4973d237a6e1"
      },
      "id": "xGSDwdH_Ss4-",
      "execution_count": 180,
      "outputs": [
        {
          "output_type": "stream",
          "name": "stdout",
          "text": [
            "MAE: 1.2131338026948282\n"
          ]
        }
      ]
    },
    {
      "cell_type": "code",
      "source": [
        "print(f'MAPE: {model.MAPE(X_test, y_test)}')"
      ],
      "metadata": {
        "colab": {
          "base_uri": "https://localhost:8080/"
        },
        "id": "CRNvxgc4SxpF",
        "outputId": "0ce302de-7e61-46de-8fe5-cad956507fbd"
      },
      "id": "CRNvxgc4SxpF",
      "execution_count": 181,
      "outputs": [
        {
          "output_type": "stream",
          "name": "stdout",
          "text": [
            "MAPE: 1.0\n"
          ]
        }
      ]
    },
    {
      "cell_type": "code",
      "source": [
        "#fit with MAE\n",
        "model.fit(X_train, y_train, 0.00000000001, 10, 1000, 'MAE')"
      ],
      "metadata": {
        "colab": {
          "base_uri": "https://localhost:8080/"
        },
        "id": "75EM0Wq0S9he",
        "outputId": "7d8c4675-6271-40d0-fb4f-e490b9c7b23c"
      },
      "id": "75EM0Wq0S9he",
      "execution_count": 182,
      "outputs": [
        {
          "output_type": "execute_result",
          "data": {
            "text/plain": [
              "([], [1.0])"
            ]
          },
          "metadata": {},
          "execution_count": 182
        }
      ]
    },
    {
      "cell_type": "code",
      "source": [
        "plt.figure()\n",
        "plt.plot(steps, errors)"
      ],
      "metadata": {
        "colab": {
          "base_uri": "https://localhost:8080/",
          "height": 447
        },
        "id": "kSiFmfW-TAaI",
        "outputId": "50b7d809-edfb-4bd9-c2e7-1c3fa25e2056"
      },
      "id": "kSiFmfW-TAaI",
      "execution_count": 183,
      "outputs": [
        {
          "output_type": "execute_result",
          "data": {
            "text/plain": [
              "[<matplotlib.lines.Line2D at 0x7918488b5990>]"
            ]
          },
          "metadata": {},
          "execution_count": 183
        },
        {
          "output_type": "display_data",
          "data": {
            "text/plain": [
              "<Figure size 640x480 with 1 Axes>"
            ],
            "image/png": "[encoded data removed]"
          },
          "metadata": {}
        }
      ]
    },
    {
      "cell_type": "code",
      "source": [
        "y_pred = model.predict(X_test)\n",
        "print(f'MSE: {model.MSE(X_test, y_test)}')\n",
        "print(f'MAE: {model.MAE(X_test, y_test)}')\n",
        "print(f'MAPE: {model.MAPE(X_test, y_test)}')"
      ],
      "metadata": {
        "colab": {
          "base_uri": "https://localhost:8080/"
        },
        "id": "6DZFOQAjTCun",
        "outputId": "c0c7c082-3377-433f-94c0-83ac0c572867"
      },
      "id": "6DZFOQAjTCun",
      "execution_count": 184,
      "outputs": [
        {
          "output_type": "stream",
          "name": "stdout",
          "text": [
            "MSE: 1.7739315724935645\n",
            "MAE: 1.2131338026948282\n",
            "MAPE: 1.0\n"
          ]
        }
      ]
    },
    {
      "cell_type": "code",
      "source": [
        "#fit with MAPE\n",
        "model.fit(X_train, y_train, 0.00000001, 10, 1000, 'MAPE')"
      ],
      "metadata": {
        "colab": {
          "base_uri": "https://localhost:8080/"
        },
        "id": "5g0w6iMzTJnK",
        "outputId": "29d95b92-d534-4b43-f1a4-70950ae60867"
      },
      "id": "5g0w6iMzTJnK",
      "execution_count": 185,
      "outputs": [
        {
          "output_type": "execute_result",
          "data": {
            "text/plain": [
              "([], [1.0])"
            ]
          },
          "metadata": {},
          "execution_count": 185
        }
      ]
    },
    {
      "cell_type": "code",
      "source": [
        "plt.figure()\n",
        "plt.plot(steps, errors)"
      ],
      "metadata": {
        "colab": {
          "base_uri": "https://localhost:8080/",
          "height": 447
        },
        "id": "WOzoI4RnTMMr",
        "outputId": "86ec32a4-2941-48f8-acef-4de3720f7088"
      },
      "id": "WOzoI4RnTMMr",
      "execution_count": 186,
      "outputs": [
        {
          "output_type": "execute_result",
          "data": {
            "text/plain": [
              "[<matplotlib.lines.Line2D at 0x7918489199f0>]"
            ]
          },
          "metadata": {},
          "execution_count": 186
        },
        {
          "output_type": "display_data",
          "data": {
            "text/plain": [
              "<Figure size 640x480 with 1 Axes>"
            ],
            "image/png": "[encoded data removed]"
          },
          "metadata": {}
        }
      ]
    },
    {
      "cell_type": "code",
      "source": [
        "y_pred = model.predict(X_test)\n",
        "print(f'MSE: {model.MSE(X_test, y_test)}')\n",
        "print(f'MAE: {model.MAE(X_test, y_test)}')\n",
        "print(f'MAPE: {model.MAPE(X_test, y_test)}')"
      ],
      "metadata": {
        "colab": {
          "base_uri": "https://localhost:8080/"
        },
        "id": "dx1xHEPMTOvG",
        "outputId": "b3a26854-6cd3-4c15-bef9-8180ea10cfc0"
      },
      "id": "dx1xHEPMTOvG",
      "execution_count": 187,
      "outputs": [
        {
          "output_type": "stream",
          "name": "stdout",
          "text": [
            "MSE: 1.7739315724935645\n",
            "MAE: 1.2131338026948282\n",
            "MAPE: 1.0\n"
          ]
        }
      ]
    }
  ],
  "metadata": {
    "kernelspec": {
      "display_name": "Python 3 (ipykernel)",
      "language": "python",
      "name": "python3"
    },
    "language_info": {
      "codemirror_mode": {
        "name": "ipython",
        "version": 3
      },
      "file_extension": ".py",
      "mimetype": "text/x-python",
      "name": "python",
      "nbconvert_exporter": "python",
      "pygments_lexer": "ipython3",
      "version": "3.9.12"
    },
    "colab": {
      "provenance": []
    }
  },
  "nbformat": 4,
  "nbformat_minor": 5
}