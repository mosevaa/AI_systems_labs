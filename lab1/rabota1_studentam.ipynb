{
 "cells": [
  {
   "cell_type": "markdown",
   "id": "1448d8d5",
   "metadata": {
    "id": "1448d8d5"
   },
   "source": [
    "Парная линейная регрессия\n",
    "Цель работы\n",
    "    Познакомиться с моделью парной линейной регрессии регрессии и методом градиентного спуска.\n",
    "\n",
    "Содержание работы\n",
    "Найти оценки параметров модели парной линейной регрессии прямыми вычислениями и палучить с помощью модели прогнозы результативного прознака.\n",
    "Найти оценки параметров модели парной линейной регрессии с использованием метода градиентного спуска.\n",
    "Оценить качество построенной модели, сравнив на графике обучающую выборку и прогнозы.\n",
    "Построить кривые обучения."
   ]
  },
  {
   "cell_type": "code",
   "execution_count": 53,
   "id": "c828a516",
   "metadata": {
    "ExecuteTime": {
     "start_time": "2023-09-15T01:31:37.583538Z",
     "end_time": "2023-09-15T01:31:37.689536Z"
    },
    "id": "c828a516"
   },
   "outputs": [],
   "source": [
    "#Загрузим необходимые библиотеки\n",
    "import numpy as np\n",
    "import pandas as pd\n",
    "import matplotlib.pyplot as plt"
   ]
  },
  {
   "cell_type": "code",
   "execution_count": 54,
   "id": "7ca5b3d4",
   "metadata": {
    "ExecuteTime": {
     "start_time": "2023-09-15T01:31:37.591538Z",
     "end_time": "2023-09-15T01:31:37.911536Z"
    },
    "colab": {
     "base_uri": "https://localhost:8080/",
     "height": 52
    },
    "id": "7ca5b3d4",
    "outputId": "55141d05-dca2-4e8d-e5b5-924ffcbec8c0"
   },
   "outputs": [
    {
     "data": {
      "text/plain": "array([3, 5, 7, 6, 9])"
     },
     "metadata": {},
     "output_type": "display_data"
    },
    {
     "data": {
      "text/plain": "array([ 3,  7, 11, 14, 15])"
     },
     "metadata": {},
     "output_type": "display_data"
    }
   ],
   "source": [
    "#Исходные данные: x - расходы на рекламу, Y - объемы продаж\n",
    "x = np.array([3, 5, 7, 6, 9])\n",
    "Y = np.array([3, 7, 11, 14, 15])\n",
    "display(x, Y)"
   ]
  },
  {
   "cell_type": "code",
   "execution_count": 55,
   "id": "0876841d",
   "metadata": {
    "ExecuteTime": {
     "start_time": "2023-09-15T01:31:37.605536Z",
     "end_time": "2023-09-15T01:31:37.974537Z"
    },
    "colab": {
     "base_uri": "https://localhost:8080/",
     "height": 430
    },
    "id": "0876841d",
    "outputId": "be364d5e-055f-4286-ac59-0a1f7efe939c"
   },
   "outputs": [
    {
     "data": {
      "text/plain": "<Figure size 640x480 with 1 Axes>",
      "image/png": "[encoded data removed]"
     },
     "metadata": {},
     "output_type": "display_data"
    }
   ],
   "source": [
    "#Изобразим их на графике\n",
    "plt.figure()\n",
    "plt.scatter(x, Y)\n",
    "plt.show()"
   ]
  },
  {
   "cell_type": "code",
   "execution_count": 56,
   "id": "eda62fa2",
   "metadata": {
    "ExecuteTime": {
     "start_time": "2023-09-15T01:31:37.717536Z",
     "end_time": "2023-09-15T01:31:37.974537Z"
    },
    "colab": {
     "base_uri": "https://localhost:8080/"
    },
    "id": "eda62fa2",
    "outputId": "f05bc6cf-8fdd-4d0d-9c43-cc782cd0a1e2"
   },
   "outputs": [
    {
     "name": "stdout",
     "output_type": "stream",
     "text": [
      "Модель линейной регрессии: Y^ =  -2.0  +  2.0 * x\n"
     ]
    }
   ],
   "source": [
    "#Вычислим оценки коэффициентов парной линейной регрессии по формулам\n",
    "a1 = ((x - x.mean())*(Y - Y.mean())).mean()/((x - x.mean())**2).mean()\n",
    "a0 = Y.mean() - a1*x.mean()\n",
    "print(\"Модель линейной регрессии: Y^ = \", a0, \" + \", a1, \"* x\")"
   ]
  },
  {
   "cell_type": "code",
   "execution_count": 57,
   "id": "ed9bedbd",
   "metadata": {
    "ExecuteTime": {
     "start_time": "2023-09-15T01:31:37.732537Z",
     "end_time": "2023-09-15T01:31:37.974537Z"
    },
    "colab": {
     "base_uri": "https://localhost:8080/"
    },
    "id": "ed9bedbd",
    "outputId": "71c91586-2384-4d36-99f2-397e98fac981"
   },
   "outputs": [
    {
     "name": "stdout",
     "output_type": "stream",
     "text": [
      "[3. 4. 5. 6. 7. 8. 9.]\n",
      "[ 4.  6.  8. 10. 12. 14. 16.]\n"
     ]
    }
   ],
   "source": [
    "#Дадим серию прогнозов Y^ для x от 3 до 9 с шагом 1\n",
    "x_space = np.linspace(3, 9, 7)\n",
    "print(x_space)\n",
    "Y_pred = a0 + a1*x_space\n",
    "print(Y_pred)"
   ]
  },
  {
   "cell_type": "code",
   "execution_count": 58,
   "id": "f8bdf836",
   "metadata": {
    "ExecuteTime": {
     "start_time": "2023-09-15T01:31:37.751537Z",
     "end_time": "2023-09-15T01:31:37.975536Z"
    },
    "colab": {
     "base_uri": "https://localhost:8080/",
     "height": 461
    },
    "id": "f8bdf836",
    "outputId": "e9969a21-956b-4c29-fdd1-9a4c52438c6d"
   },
   "outputs": [
    {
     "data": {
      "text/plain": "[<matplotlib.lines.Line2D at 0x1ae875dc190>]"
     },
     "execution_count": 58,
     "metadata": {},
     "output_type": "execute_result"
    },
    {
     "data": {
      "text/plain": "<Figure size 640x480 with 1 Axes>",
      "image/png": "[encoded data removed]"
     },
     "metadata": {},
     "output_type": "display_data"
    }
   ],
   "source": [
    "#Изобразим на графике исходные данные и прогнозы\n",
    "fig  = plt.figure()\n",
    "ax = fig.add_axes([0.1, 0.1, 0.8, 0.8])\n",
    "ax.scatter(x, Y)\n",
    "ax.plot(x_space, Y_pred, 'r')\n",
    "#ax.scatter(x_space, Y_pred)"
   ]
  },
  {
   "cell_type": "code",
   "execution_count": 59,
   "id": "b7e6756b",
   "metadata": {
    "ExecuteTime": {
     "start_time": "2023-09-15T01:31:37.892536Z",
     "end_time": "2023-09-15T01:31:37.975536Z"
    },
    "id": "b7e6756b"
   },
   "outputs": [],
   "source": [
    "#Реализуем шаг градиентного спуска в модели парной лдинейной регрессии\n",
    "class SimpleRegression(object):\n",
    "    def __init__(self):\n",
    "        self.a0 = 0\n",
    "        self.a1 = 0\n",
    "    def predict(self, x):\n",
    "        return self.a0 + self.a1*x\n",
    "    def MSE(self, x, Y):\n",
    "        return ((self.predict(x)-Y)**2).mean()\n",
    "    def fit(self, x, Y):\n",
    "        alpha = 0.1\n",
    "        dT_a0 = -2*sum((Y -self.predict(x)))\n",
    "        dT_a1 = -2*sum((Y -self.predict(x))*x)\n",
    "        self.a0 -= alpha*dT_a0\n",
    "        self.a1 -= alpha*dT_a1"
   ]
  },
  {
   "cell_type": "code",
   "execution_count": 60,
   "id": "05a94fdd",
   "metadata": {
    "ExecuteTime": {
     "start_time": "2023-09-15T01:31:37.907536Z",
     "end_time": "2023-09-15T01:31:37.975536Z"
    },
    "colab": {
     "base_uri": "https://localhost:8080/"
    },
    "id": "05a94fdd",
    "outputId": "f051e7ac-c310-4a08-d795-24f708f8c0ed"
   },
   "outputs": [
    {
     "name": "stdout",
     "output_type": "stream",
     "text": [
      "0\n",
      "0\n",
      "0\n",
      "0\n",
      "0\n",
      "120.0\n"
     ]
    }
   ],
   "source": [
    "#Получим прогнозы до градиентного спуска с начальными значениями параметров\n",
    "regr = SimpleRegression()\n",
    "print(regr.predict(3))\n",
    "print(regr.predict(5))\n",
    "print(regr.predict(7))\n",
    "print(regr.predict(6))\n",
    "print(regr.predict(9))\n",
    "print(regr.MSE(x, Y))"
   ]
  },
  {
   "cell_type": "code",
   "execution_count": 61,
   "id": "2e5ddf12",
   "metadata": {
    "scrolled": true,
    "ExecuteTime": {
     "start_time": "2023-09-15T01:31:37.920538Z",
     "end_time": "2023-09-15T01:31:38.114538Z"
    },
    "colab": {
     "base_uri": "https://localhost:8080/",
     "height": 461
    },
    "id": "2e5ddf12",
    "outputId": "282a4379-aa03-4a25-cd8a-dbe3418fcce5"
   },
   "outputs": [
    {
     "data": {
      "text/plain": "[<matplotlib.lines.Line2D at 0x1ae875ec3d0>]"
     },
     "execution_count": 61,
     "metadata": {},
     "output_type": "execute_result"
    },
    {
     "data": {
      "text/plain": "<Figure size 640x480 with 1 Axes>",
      "image/png": "[encoded data removed]"
     },
     "metadata": {},
     "output_type": "display_data"
    }
   ],
   "source": [
    "#Выведем прогнозы до градиентного спуска на графике\n",
    "x_space = np.linspace(3, 9, 7)\n",
    "Y_pred = regr.predict(x_space)\n",
    "fig = plt.figure()\n",
    "ax = fig.add_axes([0.1, 0.1, 0.8, 0.8])\n",
    "ax.scatter(x, Y)\n",
    "ax.plot(x_space, Y_pred, 'r')"
   ]
  },
  {
   "cell_type": "code",
   "execution_count": 62,
   "id": "fdd288dc",
   "metadata": {
    "ExecuteTime": {
     "start_time": "2023-09-15T01:31:38.079538Z",
     "end_time": "2023-09-15T01:31:38.262537Z"
    },
    "colab": {
     "base_uri": "https://localhost:8080/",
     "height": 479
    },
    "id": "fdd288dc",
    "outputId": "a6ee67da-7a14-4f2c-c065-b1dd2dccc5d3"
   },
   "outputs": [
    {
     "name": "stdout",
     "output_type": "stream",
     "text": [
      "MSE после первого шага градиентного спуска:  183892.0\n"
     ]
    },
    {
     "data": {
      "text/plain": "[<matplotlib.lines.Line2D at 0x1ae8764b340>]"
     },
     "execution_count": 62,
     "metadata": {},
     "output_type": "execute_result"
    },
    {
     "data": {
      "text/plain": "<Figure size 640x480 with 1 Axes>",
      "image/png": "[encoded data removed]"
     },
     "metadata": {},
     "output_type": "display_data"
    }
   ],
   "source": [
    "#Реализуем шаг градиентного спуска\n",
    "regr.fit(x, Y)\n",
    "print(\"MSE после первого шага градиентного спуска: \", regr.MSE(x, Y))\n",
    "Y_pred = regr.predict(x_space)\n",
    "fig = plt.figure()\n",
    "ax = fig.add_axes([0.1, 0.1, 0.8, 0.8])\n",
    "ax.scatter(x, Y)\n",
    "ax.plot(x_space, Y_pred, 'r')"
   ]
  },
  {
   "cell_type": "code",
   "execution_count": 63,
   "id": "557573d9",
   "metadata": {
    "ExecuteTime": {
     "start_time": "2023-09-15T01:31:38.239536Z",
     "end_time": "2023-09-15T01:31:38.262537Z"
    },
    "id": "557573d9"
   },
   "outputs": [],
   "source": [
    "#Реализуем цикл градиентного спуска\n",
    "class SimpleRegression(object):\n",
    "    def __init__(self):\n",
    "        self.a0 = 0\n",
    "        self.a1 = 0\n",
    "    def predict(self, x):\n",
    "        return self.a0 + self.a1*x\n",
    "    def MSE(self, x, Y):\n",
    "        return ((Y - self.predict(x))**2).mean()\n",
    "    def MAE(self, x, Y):\n",
    "        return abs(Y - self.predict(x)).mean()\n",
    "    def MAPE(self, x, Y):\n",
    "        return abs((Y - self.predict(x))/Y).mean()\n",
    "    def fit(self, x, Y, alpha = 0.001, epsylon = 0.01, max_steps = 5000):\n",
    "        steps, errors = [], []\n",
    "        step = 0\n",
    "        for _ in range(max_steps):\n",
    "            dT_a0 = -2*sum((Y -self.predict(x)))\n",
    "            dT_a1 = -2*sum((Y -self.predict(x))*x)\n",
    "            self.a0 -= alpha*dT_a0\n",
    "            self.a1 -= alpha*dT_a1\n",
    "            new_error = self.MSE(x, Y)\n",
    "            step += 1\n",
    "            steps.append(step)\n",
    "            errors.append(new_error)\n",
    "            if new_error < epsylon:\n",
    "                break\n",
    "        return steps, errors"
   ]
  },
  {
   "cell_type": "code",
   "execution_count": 64,
   "id": "b67c924a",
   "metadata": {
    "ExecuteTime": {
     "start_time": "2023-09-15T01:31:38.252537Z",
     "end_time": "2023-09-15T01:31:38.292536Z"
    },
    "id": "b67c924a"
   },
   "outputs": [],
   "source": [
    "#Запустим цикл градиентного спуска с заданной точностью 5\n",
    "regr = SimpleRegression()\n",
    "steps, errors = regr.fit(x, Y, alpha = 0.001, epsylon = 5)"
   ]
  },
  {
   "cell_type": "code",
   "execution_count": 65,
   "id": "bceab488",
   "metadata": {
    "ExecuteTime": {
     "start_time": "2023-09-15T01:31:38.270540Z",
     "end_time": "2023-09-15T01:31:38.440535Z"
    },
    "colab": {
     "base_uri": "https://localhost:8080/",
     "height": 565
    },
    "id": "bceab488",
    "outputId": "9774c416-724d-43a8-9a58-d9a0b94873c7"
   },
   "outputs": [
    {
     "name": "stdout",
     "output_type": "stream",
     "text": [
      "5.004697916218\n",
      "8.190462542210001\n",
      "11.376227168202002\n",
      "9.783344855206002\n",
      "14.561991794194002\n",
      "MSE после градиентного спуска:  4.709918696051655\n"
     ]
    },
    {
     "data": {
      "text/plain": "[<matplotlib.lines.Line2D at 0x1aee503a8f0>]"
     },
     "execution_count": 65,
     "metadata": {},
     "output_type": "execute_result"
    },
    {
     "data": {
      "text/plain": "<Figure size 640x480 with 1 Axes>",
      "image/png": "[encoded data removed]"
     },
     "metadata": {},
     "output_type": "display_data"
    }
   ],
   "source": [
    "#Выведем график  прогнозов и вычислим MSE\n",
    "print(regr.predict(3))\n",
    "print(regr.predict(5))\n",
    "print(regr.predict(7))\n",
    "print(regr.predict(6))\n",
    "print(regr.predict(9))\n",
    "print(\"MSE после градиентного спуска: \", regr.MSE(x, Y))\n",
    "Y_pred = regr.predict(x_space)\n",
    "fig = plt.figure()\n",
    "ax = fig.add_axes([0.1, 0.1, 0.8, 0.8])\n",
    "ax.scatter(x, Y)\n",
    "ax.plot(x_space, Y_pred, 'r')"
   ]
  },
  {
   "cell_type": "code",
   "execution_count": 66,
   "id": "7dc3b523",
   "metadata": {
    "ExecuteTime": {
     "start_time": "2023-09-15T01:31:38.397536Z",
     "end_time": "2023-09-15T01:31:38.530536Z"
    },
    "colab": {
     "base_uri": "https://localhost:8080/",
     "height": 447
    },
    "id": "7dc3b523",
    "outputId": "180240a8-ac3b-4e2b-89e2-8fd50342de8b"
   },
   "outputs": [
    {
     "data": {
      "text/plain": "[<matplotlib.lines.Line2D at 0x1ae876fb310>]"
     },
     "execution_count": 66,
     "metadata": {},
     "output_type": "execute_result"
    },
    {
     "data": {
      "text/plain": "<Figure size 640x480 with 1 Axes>",
      "image/png": "[encoded data removed]"
     },
     "metadata": {},
     "output_type": "display_data"
    }
   ],
   "source": [
    "#Выведем график изменения MSE в процессе градиентного спуска\n",
    "plt.figure()\n",
    "plt.plot(steps, errors)"
   ]
  },
  {
   "cell_type": "code",
   "execution_count": 67,
   "id": "1acf13e8",
   "metadata": {
    "ExecuteTime": {
     "start_time": "2023-09-15T01:31:38.522539Z",
     "end_time": "2023-09-15T01:31:38.634535Z"
    },
    "id": "1acf13e8"
   },
   "outputs": [],
   "source": [
    "#Запустим цикл градиентного спуска с заданной точностью 0.05\n",
    "regr = SimpleRegression()\n",
    "steps, errors = regr.fit(x, Y, alpha = 0.001, epsylon = 0.05)"
   ]
  },
  {
   "cell_type": "code",
   "execution_count": 68,
   "id": "7fc95a34",
   "metadata": {
    "ExecuteTime": {
     "start_time": "2023-09-15T01:31:38.636538Z",
     "end_time": "2023-09-15T01:31:38.775536Z"
    },
    "colab": {
     "base_uri": "https://localhost:8080/",
     "height": 479
    },
    "id": "7fc95a34",
    "outputId": "eb190004-7cb6-4bf7-8c34-4da63ebc35f6"
   },
   "outputs": [
    {
     "name": "stdout",
     "output_type": "stream",
     "text": [
      "MSE после градиентного спуска:  4.000028517306817\n"
     ]
    },
    {
     "data": {
      "text/plain": "[<matplotlib.lines.Line2D at 0x1ae874872b0>]"
     },
     "execution_count": 68,
     "metadata": {},
     "output_type": "execute_result"
    },
    {
     "data": {
      "text/plain": "<Figure size 640x480 with 1 Axes>",
      "image/png": "[encoded data removed]"
     },
     "metadata": {},
     "output_type": "display_data"
    }
   ],
   "source": [
    "#Выведем график прогнозов и вычислим MSE\n",
    "print(\"MSE после градиентного спуска: \", regr.MSE(x, Y))\n",
    "Y_pred = regr.predict(x_space)\n",
    "fig = plt.figure()\n",
    "ax = fig.add_axes([0.1, 0.1, 0.8, 0.8])\n",
    "ax.scatter(x, Y)\n",
    "ax.plot(x_space, Y_pred, 'r')"
   ]
  },
  {
   "cell_type": "code",
   "execution_count": 69,
   "id": "174224d7",
   "metadata": {
    "ExecuteTime": {
     "start_time": "2023-09-15T01:31:38.776535Z",
     "end_time": "2023-09-15T01:31:38.898536Z"
    },
    "colab": {
     "base_uri": "https://localhost:8080/",
     "height": 447
    },
    "id": "174224d7",
    "outputId": "7da6e6d3-9ccd-47bb-8a36-8b3c7a434fd6"
   },
   "outputs": [
    {
     "data": {
      "text/plain": "[<matplotlib.lines.Line2D at 0x1ae8751d090>]"
     },
     "execution_count": 69,
     "metadata": {},
     "output_type": "execute_result"
    },
    {
     "data": {
      "text/plain": "<Figure size 640x480 with 1 Axes>",
      "image/png": "[encoded data removed]"
     },
     "metadata": {},
     "output_type": "display_data"
    }
   ],
   "source": [
    "#Выведем график изменения MSE в процессе градиентного спуска\n",
    "plt.figure()\n",
    "plt.plot(steps, errors)"
   ]
  },
  {
   "cell_type": "code",
   "execution_count": 70,
   "id": "e36b747e",
   "metadata": {
    "ExecuteTime": {
     "start_time": "2023-09-15T01:31:38.900535Z",
     "end_time": "2023-09-15T01:31:39.104536Z"
    },
    "colab": {
     "base_uri": "https://localhost:8080/",
     "height": 465
    },
    "id": "e36b747e",
    "outputId": "70b96954-a977-41a5-9d7a-e64fa80d4cbf"
   },
   "outputs": [
    {
     "name": "stdout",
     "output_type": "stream",
     "text": [
      "MSE после градиентного спуска:  4.1903709155046345\n"
     ]
    },
    {
     "data": {
      "text/plain": "[<matplotlib.lines.Line2D at 0x1ae874fb2e0>]"
     },
     "execution_count": 70,
     "metadata": {},
     "output_type": "execute_result"
    },
    {
     "data": {
      "text/plain": "<Figure size 640x480 with 1 Axes>",
      "image/png": "[encoded data removed]"
     },
     "metadata": {},
     "output_type": "display_data"
    }
   ],
   "source": [
    "#Запустим цикл градиентного спуска с разными значениями скорости обучения alpha=0.0001, 0.01, 0.1, 1, 10, ...,\n",
    "#с различной допукстимой точностью epsylon = 0.001, 0.5, 5, с различным максимальным количеством шагов max_steps\n",
    "regr = SimpleRegression()\n",
    "steps, errors = regr.fit(x, Y, alpha = 0.0001, epsylon = 0.01, max_steps = 5000)\n",
    "print(\"MSE после градиентного спуска: \", regr.MSE(x, Y))\n",
    "Y_pred = regr.predict(x_space)\n",
    "plt.figure()\n",
    "plt.plot(steps, errors)"
   ]
  },
  {
   "cell_type": "markdown",
   "id": "5293159f",
   "metadata": {
    "id": "5293159f"
   },
   "source": [
    "Загрузите файл Video Games.csv (с помощью pd.read_csv).\n",
    "\n",
    "Для 11 703 компьютерных игр известны платформа, год выхода, жанр, платформа, издатель, объемы продаж игры - отдельно для Северной Америки, Европы, Японии и других регионов.\n",
    "\n",
    "В обучающей выборке для каждой игры известны следующие поля:\n",
    "\n",
    "Name — название игры;\n",
    "Platform — платформа (PC; DS; GBA; PS; PS2; PS3; PSP; Wii; XB или X360);\n",
    "Year_of_Release — год выпуска;\n",
    "Genre — жанр (Action; Adventure; Fighting; Platform; Puzzle; Racing; Role-Playing; Shooter; Simulation; Sports или Strategy; Misc означает все остальные жанры);\n",
    "Publisher — издатель;\n",
    "NA_Sales — объемы продаж игры в Северной Америке (в млн долл. США);\n",
    "EU_Sales — объемы продаж игры в Европе(в млн долл. США);\n",
    "Other_Sales — объемы продаж игры в других регионах (в млн долл. США);\n",
    "Critic_Score — сумма оценок, данных игре штатными критиками сайта Metacritic;\n",
    "Critic_Count — количество штатных критиков, давших оценки игре;\n",
    "User_Score — сумма оценок, данных игре игры пользователями сайта Metacritic;\n",
    "User_Count — количество пользователей, давших оценки;\n",
    "Developer — разработчик;\n",
    "Rating — рейтинг игры (AO — только для взрослых; 18+ M — только для лиц старше 18 лет; 17+ — только для лиц старше 17 лет; E10+ — для всех старше 10 лет; E — для всех; EC — для детей младшего возраста; RP — рейтинг не присвоен);\n",
    "JP_Sales — объемы продаж игры в Японии (в млн долл. США).\n",
    "\n",
    "Требуется построить модель, предсказывающую объем продаж игры в Японии.\n",
    "\n",
    "Япония - достаточно специфичная страна с точки зрения индустрии развлечений. К тому же государство активно защищает своих производителей, что не способствует импорту. Перед издателями компьютерных игр всегда стоит вопрос: стоит ли игру переводить, подгонять под местный менталитет и платить для входа на японский рынок. Чтобы это понять, следует оценить, на какой кусок пирога можно вообще в Японии рассчитывать. Один из вариантов это сделать – по истории продаж в других регионах. Если игра еще в разработке, за историю продаж можно считать прогнозы: Европа и Америка не такие непредсказуемые рынки, как Япония.\n",
    "\n",
    "Выберите в качестве результативного признака JP_Sales. В качестве факторных признаков выберите все числовые признаки. Также можно для категориальных признаков (Platform, Genre, возможно, Publisher) ввести индикаторы (с помощью sklearn.preprocessing.OneHotEncoder).\n",
    "\n",
    "Вычислите определитель матрицы (x_T*x).\n",
    "\n",
    "Вычислите вектор оценок коэффициентов по формуле a^ = (x_T*x)^(-1)*x_T*Y.\n",
    "\n",
    "На основе класса SimpleRegression (в котором x - это одномерный массив значений факторного признака) создайте класс MultipleRegression, который реализует градиентный спуск для случая, когда x является двумерным массивом, содержащим в каждой строке (для кафдой компьютерной игры) значения нескольких факторных признаков.\n",
    "\n",
    "Обучите модель с помощью метода MultipleRegression.fit, дайте прогнозы JP_Sales^ для каждой игры с помощью MultipleRegression.predict, вычислите ошибки MAE и MAPE.\n",
    "\n",
    "Попробуйте расширить набор факторных признаков, добавив логарифмы, квадраты, кубы"
   ]
  },
  {
   "cell_type": "code",
   "execution_count": 71,
   "id": "51eeea4a",
   "metadata": {
    "ExecuteTime": {
     "start_time": "2023-09-15T01:31:39.106536Z",
     "end_time": "2023-09-15T01:31:39.174539Z"
    },
    "colab": {
     "base_uri": "https://localhost:8080/",
     "height": 238
    },
    "id": "51eeea4a",
    "outputId": "49a4259f-94c4-486d-c2bc-48111c563a61"
   },
   "outputs": [
    {
     "data": {
      "text/plain": "     platform  year         genre            publisher  na_sales  eu_sales  \\\nid                                                                           \n2830      PSV  2012        Racing      Electronic Arts      0.38      0.52   \n3865     SNES  1996  Role-Playing  ASCII Entertainment      0.00      0.00   \n4617      PSP  2009        Sports          Takara Tomy      0.09      0.00   \n3675       DS  2007      Fighting          Takara Tomy      0.00      0.00   \n1612      PSV  2016        Action   Namco Bandai Games      0.00      0.00   \n\n      other_sales  jp_sales  \nid                           \n2830         0.25      1.01  \n3865         0.00      1.31  \n4617         0.01      1.04  \n3675         0.00      1.08  \n1612         0.00      1.12  ",
      "text/html": "<div>\n<style scoped>\n    .dataframe tbody tr th:only-of-type {\n        vertical-align: middle;\n    }\n\n    .dataframe tbody tr th {\n        vertical-align: top;\n    }\n\n    .dataframe thead th {\n        text-align: right;\n    }\n</style>\n<table border=\"1\" class=\"dataframe\">\n  <thead>\n    <tr style=\"text-align: right;\">\n      <th></th>\n      <th>platform</th>\n      <th>year</th>\n      <th>genre</th>\n      <th>publisher</th>\n      <th>na_sales</th>\n      <th>eu_sales</th>\n      <th>other_sales</th>\n      <th>jp_sales</th>\n    </tr>\n    <tr>\n      <th>id</th>\n      <th></th>\n      <th></th>\n      <th></th>\n      <th></th>\n      <th></th>\n      <th></th>\n      <th></th>\n      <th></th>\n    </tr>\n  </thead>\n  <tbody>\n    <tr>\n      <th>2830</th>\n      <td>PSV</td>\n      <td>2012</td>\n      <td>Racing</td>\n      <td>Electronic Arts</td>\n      <td>0.38</td>\n      <td>0.52</td>\n      <td>0.25</td>\n      <td>1.01</td>\n    </tr>\n    <tr>\n      <th>3865</th>\n      <td>SNES</td>\n      <td>1996</td>\n      <td>Role-Playing</td>\n      <td>ASCII Entertainment</td>\n      <td>0.00</td>\n      <td>0.00</td>\n      <td>0.00</td>\n      <td>1.31</td>\n    </tr>\n    <tr>\n      <th>4617</th>\n      <td>PSP</td>\n      <td>2009</td>\n      <td>Sports</td>\n      <td>Takara Tomy</td>\n      <td>0.09</td>\n      <td>0.00</td>\n      <td>0.01</td>\n      <td>1.04</td>\n    </tr>\n    <tr>\n      <th>3675</th>\n      <td>DS</td>\n      <td>2007</td>\n      <td>Fighting</td>\n      <td>Takara Tomy</td>\n      <td>0.00</td>\n      <td>0.00</td>\n      <td>0.00</td>\n      <td>1.08</td>\n    </tr>\n    <tr>\n      <th>1612</th>\n      <td>PSV</td>\n      <td>2016</td>\n      <td>Action</td>\n      <td>Namco Bandai Games</td>\n      <td>0.00</td>\n      <td>0.00</td>\n      <td>0.00</td>\n      <td>1.12</td>\n    </tr>\n  </tbody>\n</table>\n</div>"
     },
     "execution_count": 71,
     "metadata": {},
     "output_type": "execute_result"
    }
   ],
   "source": [
    "from sklearn.preprocessing import OneHotEncoder\n",
    "videogames = pd.read_csv(r\"Video_Games.csv\", index_col = 'id')\n",
    "videogames.head()\n"
   ]
  },
  {
   "cell_type": "code",
   "execution_count": 72,
   "outputs": [
    {
     "data": {
      "text/plain": "id\n2830    1.01\n3865    1.31\n4617    1.04\n3675    1.08\n1612    1.12\nName: jp_sales, dtype: float64"
     },
     "execution_count": 72,
     "metadata": {},
     "output_type": "execute_result"
    }
   ],
   "source": [
    "Y = videogames['jp_sales']\n",
    "\n",
    "x = videogames.drop('jp_sales', axis=1)\n",
    "\n",
    "x = pd.concat([x, pd.get_dummies(x['platform'], drop_first=True, dtype=int), pd.get_dummies(x['genre'], drop_first=True, dtype=int), pd.get_dummies(x['publisher'], drop_first=True, dtype=int)], axis = 1)\n",
    "x = x.drop(['platform', 'genre', 'publisher'], axis = 1)\n",
    "Y.head()\n"
   ],
   "metadata": {
    "ExecuteTime": {
     "start_time": "2023-09-15T01:31:39.136536Z",
     "end_time": "2023-09-15T01:31:39.175538Z"
    },
    "colab": {
     "base_uri": "https://localhost:8080/"
    },
    "id": "67af58fcce398c07",
    "outputId": "9ab04160-9ff3-471b-b512-146f228a716b"
   },
   "id": "67af58fcce398c07"
  },
  {
   "cell_type": "code",
   "execution_count": 73,
   "outputs": [
    {
     "data": {
      "text/plain": "      year  na_sales  eu_sales  other_sales  3DS  DC  DS  GB  GBA  GC  ...  \\\nid                                                                     ...   \n2830  2012      0.38      0.52         0.25    0   0   0   0    0   0  ...   \n3865  1996      0.00      0.00         0.00    0   0   0   0    0   0  ...   \n4617  2009      0.09      0.00         0.01    0   0   0   0    0   0  ...   \n3675  2007      0.00      0.00         0.00    0   0   1   0    0   0  ...   \n1612  2016      0.00      0.00         0.00    0   0   0   0    0   0  ...   \n\n      Yacht Club Games  Yamasa Entertainment  Yeti  Yuke's  Yumedia  Zenrin  \\\nid                                                                            \n2830                 0                     0     0       0        0       0   \n3865                 0                     0     0       0        0       0   \n4617                 0                     0     0       0        0       0   \n3675                 0                     0     0       0        0       0   \n1612                 0                     0     0       0        0       0   \n\n      Zoo Digital Publishing  Zushi Games  dramatic create  imageepoch Inc.  \nid                                                                           \n2830                       0            0                0                0  \n3865                       0            0                0                0  \n4617                       0            0                0                0  \n3675                       0            0                0                0  \n1612                       0            0                0                0  \n\n[5 rows x 312 columns]",
      "text/html": "<div>\n<style scoped>\n    .dataframe tbody tr th:only-of-type {\n        vertical-align: middle;\n    }\n\n    .dataframe tbody tr th {\n        vertical-align: top;\n    }\n\n    .dataframe thead th {\n        text-align: right;\n    }\n</style>\n<table border=\"1\" class=\"dataframe\">\n  <thead>\n    <tr style=\"text-align: right;\">\n      <th></th>\n      <th>year</th>\n      <th>na_sales</th>\n      <th>eu_sales</th>\n      <th>other_sales</th>\n      <th>3DS</th>\n      <th>DC</th>\n      <th>DS</th>\n      <th>GB</th>\n      <th>GBA</th>\n      <th>GC</th>\n      <th>...</th>\n      <th>Yacht Club Games</th>\n      <th>Yamasa Entertainment</th>\n      <th>Yeti</th>\n      <th>Yuke's</th>\n      <th>Yumedia</th>\n      <th>Zenrin</th>\n      <th>Zoo Digital Publishing</th>\n      <th>Zushi Games</th>\n      <th>dramatic create</th>\n      <th>imageepoch Inc.</th>\n    </tr>\n    <tr>\n      <th>id</th>\n      <th></th>\n      <th></th>\n      <th></th>\n      <th></th>\n      <th></th>\n      <th></th>\n      <th></th>\n      <th></th>\n      <th></th>\n      <th></th>\n      <th></th>\n      <th></th>\n      <th></th>\n      <th></th>\n      <th></th>\n      <th></th>\n      <th></th>\n      <th></th>\n      <th></th>\n      <th></th>\n      <th></th>\n    </tr>\n  </thead>\n  <tbody>\n    <tr>\n      <th>2830</th>\n      <td>2012</td>\n      <td>0.38</td>\n      <td>0.52</td>\n      <td>0.25</td>\n      <td>0</td>\n      <td>0</td>\n      <td>0</td>\n      <td>0</td>\n      <td>0</td>\n      <td>0</td>\n      <td>...</td>\n      <td>0</td>\n      <td>0</td>\n      <td>0</td>\n      <td>0</td>\n      <td>0</td>\n      <td>0</td>\n      <td>0</td>\n      <td>0</td>\n      <td>0</td>\n      <td>0</td>\n    </tr>\n    <tr>\n      <th>3865</th>\n      <td>1996</td>\n      <td>0.00</td>\n      <td>0.00</td>\n      <td>0.00</td>\n      <td>0</td>\n      <td>0</td>\n      <td>0</td>\n      <td>0</td>\n      <td>0</td>\n      <td>0</td>\n      <td>...</td>\n      <td>0</td>\n      <td>0</td>\n      <td>0</td>\n      <td>0</td>\n      <td>0</td>\n      <td>0</td>\n      <td>0</td>\n      <td>0</td>\n      <td>0</td>\n      <td>0</td>\n    </tr>\n    <tr>\n      <th>4617</th>\n      <td>2009</td>\n      <td>0.09</td>\n      <td>0.00</td>\n      <td>0.01</td>\n      <td>0</td>\n      <td>0</td>\n      <td>0</td>\n      <td>0</td>\n      <td>0</td>\n      <td>0</td>\n      <td>...</td>\n      <td>0</td>\n      <td>0</td>\n      <td>0</td>\n      <td>0</td>\n      <td>0</td>\n      <td>0</td>\n      <td>0</td>\n      <td>0</td>\n      <td>0</td>\n      <td>0</td>\n    </tr>\n    <tr>\n      <th>3675</th>\n      <td>2007</td>\n      <td>0.00</td>\n      <td>0.00</td>\n      <td>0.00</td>\n      <td>0</td>\n      <td>0</td>\n      <td>1</td>\n      <td>0</td>\n      <td>0</td>\n      <td>0</td>\n      <td>...</td>\n      <td>0</td>\n      <td>0</td>\n      <td>0</td>\n      <td>0</td>\n      <td>0</td>\n      <td>0</td>\n      <td>0</td>\n      <td>0</td>\n      <td>0</td>\n      <td>0</td>\n    </tr>\n    <tr>\n      <th>1612</th>\n      <td>2016</td>\n      <td>0.00</td>\n      <td>0.00</td>\n      <td>0.00</td>\n      <td>0</td>\n      <td>0</td>\n      <td>0</td>\n      <td>0</td>\n      <td>0</td>\n      <td>0</td>\n      <td>...</td>\n      <td>0</td>\n      <td>0</td>\n      <td>0</td>\n      <td>0</td>\n      <td>0</td>\n      <td>0</td>\n      <td>0</td>\n      <td>0</td>\n      <td>0</td>\n      <td>0</td>\n    </tr>\n  </tbody>\n</table>\n<p>5 rows × 312 columns</p>\n</div>"
     },
     "execution_count": 73,
     "metadata": {},
     "output_type": "execute_result"
    }
   ],
   "source": [
    "x.head()"
   ],
   "metadata": {
    "ExecuteTime": {
     "start_time": "2023-09-15T01:31:39.170539Z",
     "end_time": "2023-09-15T01:31:39.206535Z"
    },
    "colab": {
     "base_uri": "https://localhost:8080/",
     "height": 267
    },
    "id": "e8359ead5e332d85",
    "outputId": "6b965c2b-08e5-4151-f2a3-2511952bc11c"
   },
   "id": "e8359ead5e332d85"
  },
  {
   "cell_type": "code",
   "execution_count": 74,
   "outputs": [],
   "source": [
    "x_ = x\n",
    "x_.insert(0, \"intercept\", np.ones((x.shape[0],1)), allow_duplicates=True)"
   ],
   "metadata": {
    "ExecuteTime": {
     "start_time": "2023-09-15T01:31:39.184536Z",
     "end_time": "2023-09-15T01:31:39.242535Z"
    },
    "id": "94f2aa4390e7d3b"
   },
   "id": "94f2aa4390e7d3b"
  },
  {
   "cell_type": "code",
   "source": [
    "x.shape"
   ],
   "metadata": {
    "colab": {
     "base_uri": "https://localhost:8080/"
    },
    "id": "U2FJIuG2IaRA",
    "outputId": "8e7aa113-be51-4daf-d411-b935c8309358",
    "ExecuteTime": {
     "start_time": "2023-09-15T01:31:39.200535Z",
     "end_time": "2023-09-15T01:31:39.268535Z"
    }
   },
   "id": "U2FJIuG2IaRA",
   "execution_count": 75,
   "outputs": [
    {
     "data": {
      "text/plain": "(4258, 313)"
     },
     "execution_count": 75,
     "metadata": {},
     "output_type": "execute_result"
    }
   ]
  },
  {
   "cell_type": "code",
   "execution_count": 76,
   "id": "caef5b72",
   "metadata": {
    "ExecuteTime": {
     "start_time": "2023-09-15T01:31:39.218538Z",
     "end_time": "2023-09-15T01:31:39.686535Z"
    },
    "colab": {
     "base_uri": "https://localhost:8080/"
    },
    "id": "caef5b72",
    "outputId": "a157d8bd-519d-4cf3-bda3-543890d0c028"
   },
   "outputs": [
    {
     "data": {
      "text/plain": "3.144392573532325e+225"
     },
     "execution_count": 76,
     "metadata": {},
     "output_type": "execute_result"
    }
   ],
   "source": [
    "#Вычислим определитель (x_T*x).\n",
    "np_opred = np.linalg.det(np.dot(x.T, x))\n",
    "np_opred"
   ]
  },
  {
   "cell_type": "code",
   "execution_count": 77,
   "id": "9ca92562",
   "metadata": {
    "ExecuteTime": {
     "start_time": "2023-09-15T01:31:39.504540Z",
     "end_time": "2023-09-15T01:31:39.895536Z"
    },
    "id": "9ca92562"
   },
   "outputs": [],
   "source": [
    "#Вычислим вектор оценок коэффициентов по формуле a^ = (x_T*x)^(-1)*x_T*Y.\n",
    "a = np.linalg.inv(np.dot(x.T, x)).dot(x.T).dot(Y)"
   ]
  },
  {
   "cell_type": "code",
   "execution_count": 78,
   "outputs": [
    {
     "data": {
      "text/plain": "(313,)"
     },
     "execution_count": 78,
     "metadata": {},
     "output_type": "execute_result"
    }
   ],
   "source": [
    "a.shape"
   ],
   "metadata": {
    "ExecuteTime": {
     "start_time": "2023-09-15T01:31:39.895536Z",
     "end_time": "2023-09-15T01:31:39.910537Z"
    },
    "colab": {
     "base_uri": "https://localhost:8080/"
    },
    "id": "186597607195d10d",
    "outputId": "6eee8b5d-29fa-4af0-fea3-ca1b8c460b1b"
   },
   "id": "186597607195d10d"
  },
  {
   "cell_type": "code",
   "execution_count": 79,
   "outputs": [
    {
     "data": {
      "text/plain": "id\n2830    0.987727\n3865    1.860408\n4617    1.056777\n3675    1.114558\n1612    1.047659\n          ...   \n3996    1.040492\n5720    1.640271\n4579    1.010803\n4072    1.675444\n5883    1.456819\nLength: 4258, dtype: float64"
     },
     "execution_count": 79,
     "metadata": {},
     "output_type": "execute_result"
    }
   ],
   "source": [
    "y_test = x.dot(a)\n",
    "y_test"
   ],
   "metadata": {
    "ExecuteTime": {
     "start_time": "2023-09-15T01:31:39.910537Z",
     "end_time": "2023-09-15T01:31:39.952536Z"
    },
    "colab": {
     "base_uri": "https://localhost:8080/"
    },
    "id": "cef320b2ffd20553",
    "outputId": "faf39980-4249-4958-cbae-d30706328ae3"
   },
   "id": "cef320b2ffd20553"
  },
  {
   "cell_type": "code",
   "execution_count": 80,
   "id": "33012519",
   "metadata": {
    "id": "33012519",
    "ExecuteTime": {
     "start_time": "2023-09-15T01:31:39.934536Z",
     "end_time": "2023-09-15T01:31:39.953536Z"
    }
   },
   "outputs": [],
   "source": [
    "#Реализуем метод градиентного спуска в модеоли множественной регрессии\n",
    "class MultipleRegression():\n",
    "    def __init__(self, len_inputs):\n",
    "        self.weights = np.zeros(len_inputs)\n",
    "    def predict(self, x):\n",
    "        if self.weights is None:\n",
    "            raise Exception(\"Model has not been trained yet.\")\n",
    "        return x @ self.weights\n",
    "    def MSE(self, x, Y):\n",
    "        return ((Y - self.predict(x))**2).mean()\n",
    "    def MAPE(self, x, Y):\n",
    "        return (abs((Y - self.predict(x)) / Y)).mean()\n",
    "    def MAE(self, X, Y):\n",
    "        return abs(Y - self.predict(X)).mean()\n",
    "    def fit(self, x, Y, alpha = 0.001, epsylon = 0.01, max_steps = 5000, error='MSE'):\n",
    "        steps = []\n",
    "        errors = []\n",
    "        step = 0\n",
    "\n",
    "        #fit with gradient boosting\n",
    "        for i in range(max_steps):\n",
    "          errors.append(self.MSE(x, Y))\n",
    "          if errors[-1] < epsylon:\n",
    "            break\n",
    "          grad = -2 / len(x) * (Y - self.predict(x)) @ x\n",
    "          self.weights = self.weights - alpha * grad\n",
    "          step = step + 1\n",
    "          steps.append(step)\n",
    "        return steps, errors"
   ]
  },
  {
   "cell_type": "code",
   "source": [
    "from sklearn.model_selection import train_test_split"
   ],
   "metadata": {
    "id": "RXVsTnpgOxCD",
    "ExecuteTime": {
     "start_time": "2023-09-15T01:31:39.942535Z",
     "end_time": "2023-09-15T01:31:39.965537Z"
    }
   },
   "id": "RXVsTnpgOxCD",
   "execution_count": 81,
   "outputs": []
  },
  {
   "cell_type": "code",
   "source": [
    "X_train, X_test, y_train, y_test = train_test_split(x, Y, train_size=0.8, random_state=42)"
   ],
   "metadata": {
    "id": "lM8gm3BMO6ec",
    "ExecuteTime": {
     "start_time": "2023-09-15T01:31:39.959536Z",
     "end_time": "2023-09-15T01:31:40.001535Z"
    }
   },
   "id": "lM8gm3BMO6ec",
   "execution_count": 82,
   "outputs": []
  },
  {
   "cell_type": "code",
   "source": [
    "model = MultipleRegression(X_train.shape[1])"
   ],
   "metadata": {
    "id": "QYpUMqmqPI1d",
    "ExecuteTime": {
     "start_time": "2023-09-15T01:31:39.976536Z",
     "end_time": "2023-09-15T01:31:40.001535Z"
    }
   },
   "id": "QYpUMqmqPI1d",
   "execution_count": 83,
   "outputs": []
  },
  {
   "cell_type": "code",
   "execution_count": 84,
   "outputs": [
    {
     "name": "stdout",
     "output_type": "stream",
     "text": [
      "(3406, 313)\n",
      "(313,)\n",
      "(3406,)\n"
     ]
    }
   ],
   "source": [
    "print(X_train.shape)\n",
    "print(model.weights.shape)\n",
    "print(y_train.shape)"
   ],
   "metadata": {
    "collapsed": false,
    "ExecuteTime": {
     "start_time": "2023-09-15T01:31:39.990536Z",
     "end_time": "2023-09-15T01:31:40.015536Z"
    }
   }
  },
  {
   "cell_type": "code",
   "source": [
    "#fit with MSE\n",
    "steps, errors = model.fit(X_train, y_train, 0.0001, 0.0001, 2000)"
   ],
   "metadata": {
    "colab": {
     "base_uri": "https://localhost:8080/"
    },
    "id": "4cHVV2EpPPC0",
    "outputId": "f1f628fd-8efa-423f-c646-39ee4470c7a9",
    "ExecuteTime": {
     "start_time": "2023-09-15T01:31:40.009535Z",
     "end_time": "2023-09-15T01:31:58.947046Z"
    }
   },
   "id": "4cHVV2EpPPC0",
   "execution_count": 85,
   "outputs": []
  },
  {
   "cell_type": "code",
   "source": [
    "plt.figure()\n",
    "plt.plot(steps, errors)"
   ],
   "metadata": {
    "colab": {
     "base_uri": "https://localhost:8080/",
     "height": 447
    },
    "id": "WYKXoICMQQ0-",
    "outputId": "22c47ba1-b62b-4055-d220-6956c46050ea",
    "ExecuteTime": {
     "start_time": "2023-09-15T01:31:58.947046Z",
     "end_time": "2023-09-15T01:31:59.057046Z"
    }
   },
   "id": "WYKXoICMQQ0-",
   "execution_count": 86,
   "outputs": [
    {
     "data": {
      "text/plain": "[<matplotlib.lines.Line2D at 0x1ae888dea40>]"
     },
     "execution_count": 86,
     "metadata": {},
     "output_type": "execute_result"
    },
    {
     "data": {
      "text/plain": "<Figure size 640x480 with 1 Axes>",
      "image/png": "[encoded data removed]"
     },
     "metadata": {},
     "output_type": "display_data"
    }
   ]
  },
  {
   "cell_type": "code",
   "source": [
    "y_pred = model.predict(X_test)"
   ],
   "metadata": {
    "id": "cw9VX0zzRRkC",
    "ExecuteTime": {
     "start_time": "2023-09-15T01:31:59.059047Z",
     "end_time": "2023-09-15T01:31:59.104047Z"
    }
   },
   "id": "cw9VX0zzRRkC",
   "execution_count": 87,
   "outputs": []
  },
  {
   "cell_type": "code",
   "execution_count": 88,
   "outputs": [
    {
     "data": {
      "text/plain": "(852,)"
     },
     "execution_count": 88,
     "metadata": {},
     "output_type": "execute_result"
    }
   ],
   "source": [
    "\n",
    "y_test.shape"
   ],
   "metadata": {
    "collapsed": false,
    "ExecuteTime": {
     "start_time": "2023-09-15T01:31:59.075047Z",
     "end_time": "2023-09-15T01:31:59.104047Z"
    }
   }
  },
  {
   "cell_type": "code",
   "execution_count": 89,
   "outputs": [
    {
     "data": {
      "text/plain": "id\n6055   NaN\n557    NaN\n761    NaN\n527    NaN\n4253   NaN\n5987   NaN\n456    NaN\n1048   NaN\n4254   NaN\n1030   NaN\n3915   NaN\n3174   NaN\n2281   NaN\n4822   NaN\n5046   NaN\n4604   NaN\n2616   NaN\n701    NaN\n5488   NaN\n4362   NaN\n2437   NaN\n2959   NaN\n2659   NaN\n4505   NaN\n780    NaN\n3294   NaN\n2125   NaN\n2754   NaN\n4233   NaN\n3968   NaN\n1316   NaN\n5312   NaN\n3664   NaN\n5093   NaN\n1730   NaN\n3201   NaN\n2740   NaN\n1772   NaN\n5930   NaN\n3175   NaN\n3901   NaN\n584    NaN\n5753   NaN\n150    NaN\n77     NaN\ndtype: float64"
     },
     "execution_count": 89,
     "metadata": {},
     "output_type": "execute_result"
    }
   ],
   "source": [
    "y_pred.shape\n",
    "y_pred.head(45)"
   ],
   "metadata": {
    "collapsed": false,
    "ExecuteTime": {
     "start_time": "2023-09-15T01:31:59.091047Z",
     "end_time": "2023-09-15T01:31:59.114047Z"
    }
   }
  },
  {
   "cell_type": "code",
   "execution_count": 90,
   "outputs": [
    {
     "data": {
      "text/plain": "<matplotlib.collections.PathCollection at 0x1ae85816260>"
     },
     "execution_count": 90,
     "metadata": {},
     "output_type": "execute_result"
    },
    {
     "data": {
      "text/plain": "<Figure size 640x480 with 1 Axes>",
      "image/png": "[encoded data removed]"
     },
     "metadata": {},
     "output_type": "display_data"
    }
   ],
   "source": [
    "plt.figure()\n",
    "plt.scatter(y_test, y_pred)"
   ],
   "metadata": {
    "collapsed": false,
    "ExecuteTime": {
     "start_time": "2023-09-15T01:31:59.106047Z",
     "end_time": "2023-09-15T01:31:59.216046Z"
    }
   }
  },
  {
   "cell_type": "code",
   "source": [
    "print(f'MSE: {model.MSE(X_test, y_test)}')"
   ],
   "metadata": {
    "colab": {
     "base_uri": "https://localhost:8080/"
    },
    "id": "acqnWqacRY0e",
    "outputId": "ad24d8d9-02ce-4a2f-ada6-905cfa9adaa5",
    "ExecuteTime": {
     "start_time": "2023-09-15T01:31:59.218048Z",
     "end_time": "2023-09-15T01:31:59.232046Z"
    }
   },
   "id": "acqnWqacRY0e",
   "execution_count": 91,
   "outputs": [
    {
     "name": "stdout",
     "output_type": "stream",
     "text": [
      "MSE: nan\n"
     ]
    }
   ]
  },
  {
   "cell_type": "code",
   "source": [
    "print(f'MAE: {model.MAE(X_test, y_test)}')"
   ],
   "metadata": {
    "colab": {
     "base_uri": "https://localhost:8080/"
    },
    "id": "xGSDwdH_Ss4-",
    "outputId": "aae6c537-cade-4369-b499-4973d237a6e1",
    "ExecuteTime": {
     "start_time": "2023-09-15T01:31:59.232046Z",
     "end_time": "2023-09-15T01:31:59.310045Z"
    }
   },
   "id": "xGSDwdH_Ss4-",
   "execution_count": 92,
   "outputs": [
    {
     "name": "stdout",
     "output_type": "stream",
     "text": [
      "MAE: nan\n"
     ]
    }
   ]
  },
  {
   "cell_type": "code",
   "source": [
    "print(f'MAPE: {model.MAPE(X_test, y_test)}')"
   ],
   "metadata": {
    "colab": {
     "base_uri": "https://localhost:8080/"
    },
    "id": "CRNvxgc4SxpF",
    "outputId": "0ce302de-7e61-46de-8fe5-cad956507fbd",
    "ExecuteTime": {
     "start_time": "2023-09-15T01:31:59.250046Z",
     "end_time": "2023-09-15T01:31:59.324047Z"
    }
   },
   "id": "CRNvxgc4SxpF",
   "execution_count": 93,
   "outputs": [
    {
     "name": "stdout",
     "output_type": "stream",
     "text": [
      "MAPE: nan\n"
     ]
    }
   ]
  },
  {
   "cell_type": "code",
   "execution_count": 94,
   "outputs": [],
   "source": [
    "x['na_sales_logs'] = np.log(1 + x['na_sales'])\n",
    "x['eu_sales_logs'] = np.log(1 + x['eu_sales'])\n",
    "x['other_sales_logs'] = np.log(1 + x['other_sales'])"
   ],
   "metadata": {
    "collapsed": false,
    "ExecuteTime": {
     "start_time": "2023-09-15T01:31:59.266046Z",
     "end_time": "2023-09-15T01:31:59.325046Z"
    }
   }
  },
  {
   "cell_type": "code",
   "execution_count": 95,
   "outputs": [
    {
     "data": {
      "text/plain": "      intercept  year  na_sales  eu_sales  other_sales  3DS  DC  DS  GB  GBA  \\\nid                                                                             \n2830        1.0  2012      0.38      0.52         0.25    0   0   0   0    0   \n3865        1.0  1996      0.00      0.00         0.00    0   0   0   0    0   \n4617        1.0  2009      0.09      0.00         0.01    0   0   0   0    0   \n3675        1.0  2007      0.00      0.00         0.00    0   0   1   0    0   \n1612        1.0  2016      0.00      0.00         0.00    0   0   0   0    0   \n\n      ...  Yuke's  Yumedia  Zenrin  Zoo Digital Publishing  Zushi Games  \\\nid    ...                                                                 \n2830  ...       0        0       0                       0            0   \n3865  ...       0        0       0                       0            0   \n4617  ...       0        0       0                       0            0   \n3675  ...       0        0       0                       0            0   \n1612  ...       0        0       0                       0            0   \n\n      dramatic create  imageepoch Inc.  na_sales_logs  eu_sales_logs  \\\nid                                                                     \n2830                0                0       0.322083        0.41871   \n3865                0                0       0.000000        0.00000   \n4617                0                0       0.086178        0.00000   \n3675                0                0       0.000000        0.00000   \n1612                0                0       0.000000        0.00000   \n\n      other_sales_logs  \nid                      \n2830          0.223144  \n3865          0.000000  \n4617          0.009950  \n3675          0.000000  \n1612          0.000000  \n\n[5 rows x 316 columns]",
      "text/html": "<div>\n<style scoped>\n    .dataframe tbody tr th:only-of-type {\n        vertical-align: middle;\n    }\n\n    .dataframe tbody tr th {\n        vertical-align: top;\n    }\n\n    .dataframe thead th {\n        text-align: right;\n    }\n</style>\n<table border=\"1\" class=\"dataframe\">\n  <thead>\n    <tr style=\"text-align: right;\">\n      <th></th>\n      <th>intercept</th>\n      <th>year</th>\n      <th>na_sales</th>\n      <th>eu_sales</th>\n      <th>other_sales</th>\n      <th>3DS</th>\n      <th>DC</th>\n      <th>DS</th>\n      <th>GB</th>\n      <th>GBA</th>\n      <th>...</th>\n      <th>Yuke's</th>\n      <th>Yumedia</th>\n      <th>Zenrin</th>\n      <th>Zoo Digital Publishing</th>\n      <th>Zushi Games</th>\n      <th>dramatic create</th>\n      <th>imageepoch Inc.</th>\n      <th>na_sales_logs</th>\n      <th>eu_sales_logs</th>\n      <th>other_sales_logs</th>\n    </tr>\n    <tr>\n      <th>id</th>\n      <th></th>\n      <th></th>\n      <th></th>\n      <th></th>\n      <th></th>\n      <th></th>\n      <th></th>\n      <th></th>\n      <th></th>\n      <th></th>\n      <th></th>\n      <th></th>\n      <th></th>\n      <th></th>\n      <th></th>\n      <th></th>\n      <th></th>\n      <th></th>\n      <th></th>\n      <th></th>\n      <th></th>\n    </tr>\n  </thead>\n  <tbody>\n    <tr>\n      <th>2830</th>\n      <td>1.0</td>\n      <td>2012</td>\n      <td>0.38</td>\n      <td>0.52</td>\n      <td>0.25</td>\n      <td>0</td>\n      <td>0</td>\n      <td>0</td>\n      <td>0</td>\n      <td>0</td>\n      <td>...</td>\n      <td>0</td>\n      <td>0</td>\n      <td>0</td>\n      <td>0</td>\n      <td>0</td>\n      <td>0</td>\n      <td>0</td>\n      <td>0.322083</td>\n      <td>0.41871</td>\n      <td>0.223144</td>\n    </tr>\n    <tr>\n      <th>3865</th>\n      <td>1.0</td>\n      <td>1996</td>\n      <td>0.00</td>\n      <td>0.00</td>\n      <td>0.00</td>\n      <td>0</td>\n      <td>0</td>\n      <td>0</td>\n      <td>0</td>\n      <td>0</td>\n      <td>...</td>\n      <td>0</td>\n      <td>0</td>\n      <td>0</td>\n      <td>0</td>\n      <td>0</td>\n      <td>0</td>\n      <td>0</td>\n      <td>0.000000</td>\n      <td>0.00000</td>\n      <td>0.000000</td>\n    </tr>\n    <tr>\n      <th>4617</th>\n      <td>1.0</td>\n      <td>2009</td>\n      <td>0.09</td>\n      <td>0.00</td>\n      <td>0.01</td>\n      <td>0</td>\n      <td>0</td>\n      <td>0</td>\n      <td>0</td>\n      <td>0</td>\n      <td>...</td>\n      <td>0</td>\n      <td>0</td>\n      <td>0</td>\n      <td>0</td>\n      <td>0</td>\n      <td>0</td>\n      <td>0</td>\n      <td>0.086178</td>\n      <td>0.00000</td>\n      <td>0.009950</td>\n    </tr>\n    <tr>\n      <th>3675</th>\n      <td>1.0</td>\n      <td>2007</td>\n      <td>0.00</td>\n      <td>0.00</td>\n      <td>0.00</td>\n      <td>0</td>\n      <td>0</td>\n      <td>1</td>\n      <td>0</td>\n      <td>0</td>\n      <td>...</td>\n      <td>0</td>\n      <td>0</td>\n      <td>0</td>\n      <td>0</td>\n      <td>0</td>\n      <td>0</td>\n      <td>0</td>\n      <td>0.000000</td>\n      <td>0.00000</td>\n      <td>0.000000</td>\n    </tr>\n    <tr>\n      <th>1612</th>\n      <td>1.0</td>\n      <td>2016</td>\n      <td>0.00</td>\n      <td>0.00</td>\n      <td>0.00</td>\n      <td>0</td>\n      <td>0</td>\n      <td>0</td>\n      <td>0</td>\n      <td>0</td>\n      <td>...</td>\n      <td>0</td>\n      <td>0</td>\n      <td>0</td>\n      <td>0</td>\n      <td>0</td>\n      <td>0</td>\n      <td>0</td>\n      <td>0.000000</td>\n      <td>0.00000</td>\n      <td>0.000000</td>\n    </tr>\n  </tbody>\n</table>\n<p>5 rows × 316 columns</p>\n</div>"
     },
     "execution_count": 95,
     "metadata": {},
     "output_type": "execute_result"
    }
   ],
   "source": [
    "x.head()"
   ],
   "metadata": {
    "collapsed": false,
    "ExecuteTime": {
     "start_time": "2023-09-15T01:31:59.281047Z",
     "end_time": "2023-09-15T01:31:59.326047Z"
    }
   }
  },
  {
   "cell_type": "code",
   "execution_count": 96,
   "outputs": [],
   "source": [
    "X_train, X_test, y_train, y_test = train_test_split(x, Y, train_size=0.8, random_state=42)"
   ],
   "metadata": {
    "collapsed": false,
    "ExecuteTime": {
     "start_time": "2023-09-15T01:31:59.297046Z",
     "end_time": "2023-09-15T01:31:59.326047Z"
    }
   }
  },
  {
   "cell_type": "markdown",
   "source": [],
   "metadata": {
    "collapsed": false
   }
  },
  {
   "cell_type": "code",
   "execution_count": 97,
   "outputs": [],
   "source": [
    "model_with_logs = MultipleRegression(X_train.shape[1])\n",
    "steps, errors = model_with_logs.fit(X_train, np.log(y_train), 0.0000001, 0.0001, 2000)"
   ],
   "metadata": {
    "collapsed": false,
    "ExecuteTime": {
     "start_time": "2023-09-15T01:31:59.312047Z",
     "end_time": "2023-09-15T01:32:19.521079Z"
    }
   }
  },
  {
   "cell_type": "markdown",
   "source": [],
   "metadata": {
    "collapsed": false
   }
  },
  {
   "cell_type": "code",
   "execution_count": 98,
   "outputs": [
    {
     "name": "stdout",
     "output_type": "stream",
     "text": [
      "MSE: 0.05832308315871011\n",
      "MAE: 0.147138188451366\n",
      "MAPE: 3.5936444633591593\n"
     ]
    }
   ],
   "source": [
    "y_pred = model_with_logs.predict(X_test)\n",
    "print(f'MSE: {model_with_logs.MSE(X_test, np.log(y_test))}')\n",
    "print(f'MAE: {model_with_logs.MAE(X_test, np.log(y_test))}')\n",
    "print(f'MAPE: {model_with_logs.MAPE(X_test, np.log(y_test))}')"
   ],
   "metadata": {
    "collapsed": false,
    "ExecuteTime": {
     "start_time": "2023-09-15T01:32:19.523079Z",
     "end_time": "2023-09-15T01:32:19.537079Z"
    }
   }
  },
  {
   "cell_type": "code",
   "execution_count": 99,
   "outputs": [
    {
     "data": {
      "text/plain": "[<matplotlib.lines.Line2D at 0x1ae858a5bd0>]"
     },
     "execution_count": 99,
     "metadata": {},
     "output_type": "execute_result"
    },
    {
     "data": {
      "text/plain": "<Figure size 640x480 with 1 Axes>",
      "image/png": "[encoded data removed]"
     },
     "metadata": {},
     "output_type": "display_data"
    }
   ],
   "source": [
    "plt.figure()\n",
    "plt.plot(steps, errors)"
   ],
   "metadata": {
    "collapsed": false,
    "ExecuteTime": {
     "start_time": "2023-09-15T01:32:19.537079Z",
     "end_time": "2023-09-15T01:32:19.758078Z"
    }
   }
  },
  {
   "cell_type": "code",
   "execution_count": 100,
   "outputs": [
    {
     "data": {
      "text/plain": "<matplotlib.collections.PathCollection at 0x1ae876fb940>"
     },
     "execution_count": 100,
     "metadata": {},
     "output_type": "execute_result"
    },
    {
     "data": {
      "text/plain": "<Figure size 640x480 with 1 Axes>",
      "image/png": "[encoded data removed]"
     },
     "metadata": {},
     "output_type": "display_data"
    }
   ],
   "source": [
    "plt.figure()\n",
    "plt.scatter(y_test, y_pred)"
   ],
   "metadata": {
    "collapsed": false,
    "ExecuteTime": {
     "start_time": "2023-09-15T01:32:19.756081Z",
     "end_time": "2023-09-15T01:32:19.901079Z"
    }
   }
  },
  {
   "cell_type": "code",
   "execution_count": 101,
   "outputs": [],
   "source": [
    "x = x.drop(['na_sales_logs', 'eu_sales_logs', 'other_sales_logs'], axis=1)\n",
    "x['na_sales_quads'] = x['na_sales'] ** 2\n",
    "x['eu_sales_quads'] = x['eu_sales'] ** 2\n",
    "x['other_sales_quads'] = x['other_sales'] ** 2\n",
    "\n",
    "X_train, X_test, y_train, y_test = train_test_split(x, Y, train_size=0.8, random_state=42)\n",
    "model_with_quads = MultipleRegression(X_train.shape[1])\n",
    "steps, errors = model_with_quads.fit(X_train, y_train, 0.0000001, 0.0001, 700)\n"
   ],
   "metadata": {
    "collapsed": false,
    "ExecuteTime": {
     "start_time": "2023-09-15T01:32:19.887080Z",
     "end_time": "2023-09-15T01:32:26.845079Z"
    }
   }
  },
  {
   "cell_type": "code",
   "execution_count": 102,
   "outputs": [
    {
     "data": {
      "text/plain": "[<matplotlib.lines.Line2D at 0x1ae85973f40>]"
     },
     "execution_count": 102,
     "metadata": {},
     "output_type": "execute_result"
    },
    {
     "data": {
      "text/plain": "<Figure size 640x480 with 1 Axes>",
      "image/png": "[encoded data removed]"
     },
     "metadata": {},
     "output_type": "display_data"
    }
   ],
   "source": [
    "plt.figure()\n",
    "plt.plot(steps, errors)"
   ],
   "metadata": {
    "collapsed": false,
    "ExecuteTime": {
     "start_time": "2023-09-15T01:32:26.847081Z",
     "end_time": "2023-09-15T01:32:26.977080Z"
    }
   }
  },
  {
   "cell_type": "code",
   "execution_count": 103,
   "outputs": [
    {
     "name": "stdout",
     "output_type": "stream",
     "text": [
      "MSE: 1.1835586918505616\n",
      "MAE: 1.0679464393178149\n",
      "MAPE: 32.79810375970918\n"
     ]
    }
   ],
   "source": [
    "y_pred = model_with_quads.predict(X_test)\n",
    "print(f'MSE: {model_with_quads.MSE(X_test, np.log(y_test))}')\n",
    "print(f'MAE: {model_with_quads.MAE(X_test, np.log(y_test))}')\n",
    "print(f'MAPE: {model_with_quads.MAPE(X_test, np.log(y_test))}')"
   ],
   "metadata": {
    "collapsed": false,
    "ExecuteTime": {
     "start_time": "2023-09-15T01:32:26.975079Z",
     "end_time": "2023-09-15T01:32:27.029079Z"
    }
   }
  },
  {
   "cell_type": "code",
   "execution_count": 104,
   "outputs": [
    {
     "data": {
      "text/plain": "<matplotlib.collections.PathCollection at 0x1ae887ce380>"
     },
     "execution_count": 104,
     "metadata": {},
     "output_type": "execute_result"
    },
    {
     "data": {
      "text/plain": "<Figure size 640x480 with 1 Axes>",
      "image/png": "[encoded data removed]"
     },
     "metadata": {},
     "output_type": "display_data"
    }
   ],
   "source": [
    "plt.figure()\n",
    "plt.scatter(y_test, y_pred)"
   ],
   "metadata": {
    "collapsed": false,
    "ExecuteTime": {
     "start_time": "2023-09-15T01:32:26.990082Z",
     "end_time": "2023-09-15T01:32:27.118080Z"
    }
   }
  },
  {
   "cell_type": "code",
   "execution_count": 105,
   "outputs": [],
   "source": [
    "x = x.drop(['na_sales_quads', 'eu_sales_quads', 'other_sales_quads'], axis=1)\n",
    "x['na_sales_kub'] = x['na_sales'] ** 3\n",
    "x['eu_sales_kub'] = x['eu_sales'] ** 3\n",
    "x['other_sales_kub'] = x['other_sales'] ** 3\n",
    "\n",
    "X_train, X_test, y_train, y_test = train_test_split(x, Y, train_size=0.8, random_state=42)\n",
    "model_with_kub = MultipleRegression(X_train.shape[1])\n",
    "steps, errors = model_with_kub.fit(X_train, y_train, 0.0000001, 0.0001, 1000)"
   ],
   "metadata": {
    "collapsed": false,
    "ExecuteTime": {
     "start_time": "2023-09-15T01:32:27.119080Z",
     "end_time": "2023-09-15T01:32:36.269079Z"
    }
   }
  },
  {
   "cell_type": "code",
   "execution_count": 106,
   "outputs": [
    {
     "data": {
      "text/plain": "[<matplotlib.lines.Line2D at 0x1ae88842c80>]"
     },
     "execution_count": 106,
     "metadata": {},
     "output_type": "execute_result"
    },
    {
     "data": {
      "text/plain": "<Figure size 640x480 with 1 Axes>",
      "image/png": "[encoded data removed]"
     },
     "metadata": {},
     "output_type": "display_data"
    }
   ],
   "source": [
    "plt.figure()\n",
    "plt.plot(steps, errors)"
   ],
   "metadata": {
    "collapsed": false,
    "ExecuteTime": {
     "start_time": "2023-09-15T01:32:36.269079Z",
     "end_time": "2023-09-15T01:32:36.399083Z"
    }
   }
  },
  {
   "cell_type": "code",
   "execution_count": 107,
   "outputs": [
    {
     "name": "stdout",
     "output_type": "stream",
     "text": [
      "MSE: 1.1804079138403865\n",
      "MAE: 1.066480680124991\n",
      "MAPE: 32.7564754325597\n"
     ]
    }
   ],
   "source": [
    "y_pred = model_with_kub.predict(X_test)\n",
    "print(f'MSE: {model_with_kub.MSE(X_test, np.log(y_test))}')\n",
    "print(f'MAE: {model_with_kub.MAE(X_test, np.log(y_test))}')\n",
    "print(f'MAPE: {model_with_kub.MAPE(X_test, np.log(y_test))}')"
   ],
   "metadata": {
    "collapsed": false,
    "ExecuteTime": {
     "start_time": "2023-09-15T01:32:36.400080Z",
     "end_time": "2023-09-15T01:32:36.443079Z"
    }
   }
  },
  {
   "cell_type": "code",
   "execution_count": 108,
   "outputs": [
    {
     "data": {
      "text/plain": "<matplotlib.collections.PathCollection at 0x1ae894b5bd0>"
     },
     "execution_count": 108,
     "metadata": {},
     "output_type": "execute_result"
    },
    {
     "data": {
      "text/plain": "<Figure size 640x480 with 1 Axes>",
      "image/png": "[encoded data removed]"
     },
     "metadata": {},
     "output_type": "display_data"
    }
   ],
   "source": [
    "plt.figure()\n",
    "plt.scatter(y_test, y_pred)"
   ],
   "metadata": {
    "collapsed": false,
    "ExecuteTime": {
     "start_time": "2023-09-15T01:32:36.414081Z",
     "end_time": "2023-09-15T01:32:36.540080Z"
    }
   }
  },
  {
   "cell_type": "code",
   "execution_count": 108,
   "outputs": [],
   "source": [],
   "metadata": {
    "collapsed": false,
    "ExecuteTime": {
     "start_time": "2023-09-15T01:32:36.541081Z",
     "end_time": "2023-09-15T01:32:36.582079Z"
    }
   }
  }
 ],
 "metadata": {
  "kernelspec": {
   "display_name": "Python 3 (ipykernel)",
   "language": "python",
   "name": "python3"
  },
  "language_info": {
   "codemirror_mode": {
    "name": "ipython",
    "version": 3
   },
   "file_extension": ".py",
   "mimetype": "text/x-python",
   "name": "python",
   "nbconvert_exporter": "python",
   "pygments_lexer": "ipython3",
   "version": "3.9.12"
  },
  "colab": {
   "provenance": []
  }
 },
 "nbformat": 4,
 "nbformat_minor": 5
}
